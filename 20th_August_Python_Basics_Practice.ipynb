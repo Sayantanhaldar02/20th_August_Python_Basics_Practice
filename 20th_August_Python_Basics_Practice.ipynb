{
 "cells": [
  {
   "cell_type": "markdown",
   "id": "9fa1273c-2b1e-4eac-8247-d6acadc3c4ad",
   "metadata": {},
   "source": [
    "# Assignment"
   ]
  },
  {
   "cell_type": "markdown",
   "id": "3b31938a-13df-451a-a562-d4dd2adf993b",
   "metadata": {},
   "source": [
    "# TOPIC: String Based Assignment Problem"
   ]
  },
  {
   "cell_type": "markdown",
   "id": "8677a963-8d0e-4842-8092-dce54e2c8e3b",
   "metadata": {},
   "source": [
    "1. Write a program to reverse a string."
   ]
  },
  {
   "cell_type": "code",
   "execution_count": 1,
   "id": "64d00439-28cd-4d2b-add4-3587cc019dec",
   "metadata": {},
   "outputs": [
    {
     "name": "stdout",
     "output_type": "stream",
     "text": [
      "My string is 'Sayantan' and reverse string is 'natnayaS'\n"
     ]
    }
   ],
   "source": [
    "# Using string slicing method we can reverse a string\n",
    "my_string = \"Sayantan\"\n",
    "reverse_string = my_string[::-1]\n",
    "print(f\"My string is '{my_string}' and reverse string is '{reverse_string}'\")"
   ]
  },
  {
   "cell_type": "markdown",
   "id": "06bd642f-b549-45ea-a14a-ad1614bab288",
   "metadata": {},
   "source": [
    "2. Check if a string is a palindrome."
   ]
  },
  {
   "cell_type": "code",
   "execution_count": 2,
   "id": "7da5781f-74a8-4f07-8d26-bf73279f7dfc",
   "metadata": {},
   "outputs": [
    {
     "name": "stdout",
     "output_type": "stream",
     "text": [
      "-----Checking String is Palindrome or not------\n",
      "\n"
     ]
    },
    {
     "name": "stdin",
     "output_type": "stream",
     "text": [
      "Enter a String:  12321\n"
     ]
    },
    {
     "name": "stdout",
     "output_type": "stream",
     "text": [
      "Given string '12321' is a palindrome string\n"
     ]
    }
   ],
   "source": [
    "# A string is palindrome when it's forward and baclward strings are same\n",
    "print(\"-----Checking String is Palindrome or not------\")\n",
    "print()\n",
    "# Taking string from user.\n",
    "my_string_2 = input(\"Enter a String: \");\n",
    "reverse_string_2 = my_string_2[::-1];\n",
    "\n",
    "# checking string is palindrome or not using conditional statement (if..else)\n",
    "if(my_string_2.lower() == reverse_string_2.lower()):\n",
    "    print(f\"Given string '{my_string_2}' is a palindrome string\")\n",
    "else:\n",
    "    print(f\"Given string '{my_string_2}' is not a palindrome string\")"
   ]
  },
  {
   "cell_type": "code",
   "execution_count": null,
   "id": "42fdc40f-9490-4b4a-840b-d61e8a4daac5",
   "metadata": {},
   "outputs": [],
   "source": []
  },
  {
   "cell_type": "markdown",
   "id": "f9706b88-7cd1-45af-a269-f84e94633616",
   "metadata": {},
   "source": [
    "3. Convert a string to uppercase"
   ]
  },
  {
   "cell_type": "code",
   "execution_count": 3,
   "id": "82bb552f-3852-4589-95a2-ded1a3adab17",
   "metadata": {},
   "outputs": [
    {
     "name": "stdout",
     "output_type": "stream",
     "text": [
      "-----Convert a String to Uppercase------\n",
      "\n"
     ]
    },
    {
     "name": "stdin",
     "output_type": "stream",
     "text": [
      "Enter a string:  india\n"
     ]
    },
    {
     "name": "stdout",
     "output_type": "stream",
     "text": [
      "Given string is 'india'. Converted to uppercase :--> 'INDIA'\n"
     ]
    }
   ],
   "source": [
    "# Using upper() method we can convert a string to uppercase\n",
    "print(\"-----Convert a String to Uppercase------\")\n",
    "print()\n",
    "\n",
    "# Taking a string from user.\n",
    "my_string_3 = input(\"Enter a string: \")\n",
    "uppercase_string = my_string_3.upper()\n",
    "\n",
    "# print the result\n",
    "print(f\"Given string is '{my_string_3}'. Converted to uppercase :--> '{uppercase_string}'\")"
   ]
  },
  {
   "cell_type": "code",
   "execution_count": null,
   "id": "3e4ae820-1d09-44ad-9bcd-eaf7e0dd81b8",
   "metadata": {},
   "outputs": [],
   "source": []
  },
  {
   "cell_type": "markdown",
   "id": "e105326c-05b9-4cec-b14e-7d3c27288b39",
   "metadata": {},
   "source": [
    "4. Convert a string to lowercase.\n"
   ]
  },
  {
   "cell_type": "code",
   "execution_count": 4,
   "id": "609c1d27-1dba-46df-bcbf-a9176b5b3213",
   "metadata": {},
   "outputs": [
    {
     "name": "stdout",
     "output_type": "stream",
     "text": [
      "-----Convert a String to lowercase------\n",
      "\n"
     ]
    },
    {
     "name": "stdin",
     "output_type": "stream",
     "text": [
      "Enter a string:  INDIA\n"
     ]
    },
    {
     "name": "stdout",
     "output_type": "stream",
     "text": [
      "Given string is 'INDIA'. Converted to lowercase :--> 'india'\n"
     ]
    }
   ],
   "source": [
    "# Using lower() method we can convert a string to uppercase\n",
    "print(\"-----Convert a String to lowercase------\")\n",
    "print()\n",
    "\n",
    "# Taking a string from user.\n",
    "my_string_4 = input(\"Enter a string: \")\n",
    "lowercase_string = my_string_4.lower()\n",
    "\n",
    "# print the result\n",
    "print(f\"Given string is '{my_string_4}'. Converted to lowercase :--> '{lowercase_string}'\")"
   ]
  },
  {
   "cell_type": "code",
   "execution_count": null,
   "id": "a9762ef0-5e2f-4414-a55d-405c8d3d211c",
   "metadata": {},
   "outputs": [],
   "source": []
  },
  {
   "cell_type": "markdown",
   "id": "fc22cdda-3702-42b2-92fc-8369d3a02710",
   "metadata": {},
   "source": [
    "5. Count the number of vowels in a string.\n"
   ]
  },
  {
   "cell_type": "code",
   "execution_count": 5,
   "id": "551d61c2-1c10-4bf7-a951-5c02b4fd01b0",
   "metadata": {},
   "outputs": [
    {
     "name": "stdout",
     "output_type": "stream",
     "text": [
      "-----Count the number of vowels in a string------ \n",
      "\n"
     ]
    },
    {
     "name": "stdin",
     "output_type": "stream",
     "text": [
      "Enter a String:  india\n"
     ]
    },
    {
     "name": "stdout",
     "output_type": "stream",
     "text": [
      "There are 3 vowels in 'india'\n"
     ]
    }
   ],
   "source": [
    "# Using for loop we can iterate over the string and check, if there is a vowel , then we can store it's count\n",
    "print(\"-----Count the number of vowels in a string------ \")\n",
    "print()\n",
    "\n",
    "# take string from user.\n",
    "my_string_5 = input(\"Enter a String: \")\n",
    "\n",
    "# take a count variable to count our vowels and set its initial value to 0\n",
    "count = 0;\n",
    "\n",
    "# using for loop to iterate over the string\n",
    "for i in range(len(my_string_5)):\n",
    "    if(my_string_5[i].lower() == \"a\" or my_string_5[i].lower() == \"e\" or my_string_5[i].lower() == \"i\" or my_string_5[i].lower() == \"o\" or my_string_5[i].lower() == \"u\"):\n",
    "        count += 1\n",
    "\n",
    "print(f\"There are {count} vowels in '{my_string_5}'\")"
   ]
  },
  {
   "cell_type": "code",
   "execution_count": null,
   "id": "2c4ee0de-c874-43a9-85c6-32e3da1779ed",
   "metadata": {},
   "outputs": [],
   "source": []
  },
  {
   "cell_type": "markdown",
   "id": "be776038-400c-4f9f-9df8-2490bbe82259",
   "metadata": {},
   "source": [
    "6. Count the number of consonants in a string."
   ]
  },
  {
   "cell_type": "code",
   "execution_count": 6,
   "id": "f99fde81-b4c8-49a9-9b5b-c1ff1ae79ec9",
   "metadata": {},
   "outputs": [
    {
     "name": "stdout",
     "output_type": "stream",
     "text": [
      "-----Count the number of consonants in a string------ \n",
      "\n"
     ]
    },
    {
     "name": "stdin",
     "output_type": "stream",
     "text": [
      "Enter a String:  india\n"
     ]
    },
    {
     "name": "stdout",
     "output_type": "stream",
     "text": [
      "There are 2 consonants in 'india'\n"
     ]
    }
   ],
   "source": [
    "# Using for loop we can iterate over the string and check\n",
    "print(\"-----Count the number of consonants in a string------ \")\n",
    "print()\n",
    "\n",
    "# take string from user.\n",
    "my_string_6 = input(\"Enter a String: \")\n",
    "\n",
    "# take a count variable to count our consonants and set its initial value to 0\n",
    "count = 0;\n",
    "count_consonant = 0\n",
    "\n",
    "# using for loop to iterate over the string\n",
    "for i in range(len(my_string_6)):\n",
    "    if(my_string_6[i].lower() == \"a\" or my_string_6[i].lower() == \"e\" or my_string_6[i].lower() == \"i\" or my_string_6[i].lower() == \"o\" or my_string_6[i].lower() == \"u\"):\n",
    "        count += 1\n",
    "    else:\n",
    "        count_consonant +=1\n",
    "\n",
    "print(f\"There are {count_consonant} consonants in '{my_string_6}'\")"
   ]
  },
  {
   "cell_type": "code",
   "execution_count": null,
   "id": "9a79af40-20d3-4cc0-887f-1a18ebd208a0",
   "metadata": {},
   "outputs": [],
   "source": []
  },
  {
   "cell_type": "markdown",
   "id": "a329821d-33df-4e4d-b0f0-4bf95c37c7f9",
   "metadata": {},
   "source": [
    "7. Remove all whitespaces from a string.\n"
   ]
  },
  {
   "cell_type": "code",
   "execution_count": 7,
   "id": "eee9770d-1df4-4d2a-a15c-0862e03a0b49",
   "metadata": {},
   "outputs": [
    {
     "name": "stdout",
     "output_type": "stream",
     "text": [
      "-----Remove Whitespaces from a string------\n",
      "\n"
     ]
    },
    {
     "name": "stdin",
     "output_type": "stream",
     "text": [
      "Enter a String with some spaces or write a sentence :   Remove Whitespaces from a string\n"
     ]
    },
    {
     "name": "stdout",
     "output_type": "stream",
     "text": [
      "Your sentence is 'Remove Whitespaces from a string' and your result is :---> 'RemoveWhitespacesfromastring'\n"
     ]
    }
   ],
   "source": [
    "# Using replace() method we can remove whitespaces from a string.\n",
    "print(\"-----Remove Whitespaces from a string------\")\n",
    "print()\n",
    "\n",
    "# taking string from user\n",
    "my_string_7 = input(\"Enter a String with some spaces or write a sentence :  \");\n",
    "removing_whitespace = my_string_7.replace(\" \",\"\");\n",
    "\n",
    "# print result\n",
    "print(f\"Your sentence is '{my_string_7}' and your result is :---> '{removing_whitespace}'\")"
   ]
  },
  {
   "cell_type": "code",
   "execution_count": null,
   "id": "8b2e89a1-d13d-4165-ad2f-ed7957a21024",
   "metadata": {},
   "outputs": [],
   "source": []
  },
  {
   "cell_type": "markdown",
   "id": "f6547925-9832-4f9f-a277-a6dbefabcd7a",
   "metadata": {},
   "source": [
    "8. Find the length of a string without using the `len()` function.\n"
   ]
  },
  {
   "cell_type": "code",
   "execution_count": 8,
   "id": "72351298-72db-407b-b403-f27b52bddab8",
   "metadata": {},
   "outputs": [
    {
     "name": "stdout",
     "output_type": "stream",
     "text": [
      "-----Find length of a string without using len() method----\n",
      "\n"
     ]
    },
    {
     "name": "stdin",
     "output_type": "stream",
     "text": [
      "Enter a string:  Find length of a string without using len() method\n"
     ]
    },
    {
     "name": "stdout",
     "output_type": "stream",
     "text": [
      "Your given string is 'Find length of a string without using len() method' and it's length is 50\n"
     ]
    }
   ],
   "source": [
    "# Here we can use for loop to iterate over the string. And take a count variable to increase number or of count by +1\n",
    "print(\"-----Find length of a string without using len() method----\")\n",
    "print()\n",
    "\n",
    "# take string from user.\n",
    "my_string_8 = input(\"Enter a string: \")\n",
    "\n",
    "# take a count variable and set its initial value to 0;\n",
    "count = 0;\n",
    "\n",
    "# using for loop to iterate over the string\n",
    "for i in range(len(my_string_8)):\n",
    "    count += 1;\n",
    "\n",
    "# print the result\n",
    "print(f\"Your given string is '{my_string_8}' and it's length is {count}\")"
   ]
  },
  {
   "cell_type": "code",
   "execution_count": null,
   "id": "61f365b3-478f-4248-8234-683252705890",
   "metadata": {},
   "outputs": [],
   "source": []
  },
  {
   "cell_type": "markdown",
   "id": "c24700db-8b5f-4576-8ecb-c2587fae86c1",
   "metadata": {},
   "source": [
    "9. Check if a string contains a specific word."
   ]
  },
  {
   "cell_type": "code",
   "execution_count": 9,
   "id": "144b32ba-4082-431b-995d-014b633bad30",
   "metadata": {},
   "outputs": [
    {
     "name": "stdout",
     "output_type": "stream",
     "text": [
      "-----Find a specific word in given sentence-----\n",
      "\n"
     ]
    },
    {
     "name": "stdin",
     "output_type": "stream",
     "text": [
      "Enter your string or sentence:  Find a specific word in given sentence\n",
      "Enter a string or word which you want to find in your given string or sentence:  a\n"
     ]
    },
    {
     "name": "stdout",
     "output_type": "stream",
     "text": [
      "Finding word 'a' is present in your string/sentence 'Find a specific word in given sentence'\n"
     ]
    }
   ],
   "source": [
    "# Using find method we can find a specific word\n",
    "print(\"-----Find a specific word in given sentence-----\")\n",
    "print()\n",
    "# here i define a stirng\n",
    "# my_string_9 = \"I love football\"\n",
    "my_string_9 = input(\"Enter your string or sentence: \")\n",
    "# finding_string = \"cricket\"\n",
    "finding_string = input(\"Enter a string or word which you want to find in your given string or sentence: \")\n",
    "\n",
    "# using conditional statement to check that the finding word is present or not\n",
    "if(my_string_9.find(finding_string) != -1):\n",
    "    print(f\"Finding word '{finding_string}' is present in your string/sentence '{my_string_9}'\")\n",
    "else:\n",
    "    print(f\"Finding word '{finding_string}' is not present in your string/sentence '{my_string_9}'\")"
   ]
  },
  {
   "cell_type": "code",
   "execution_count": null,
   "id": "7c15c868-2e1a-40ba-8e82-89f7333948c9",
   "metadata": {},
   "outputs": [],
   "source": []
  },
  {
   "cell_type": "markdown",
   "id": "ada839a4-a620-4569-8b3d-744316fe6ea9",
   "metadata": {},
   "source": [
    "10. Replace a word in a string with another word.\n"
   ]
  },
  {
   "cell_type": "code",
   "execution_count": 10,
   "id": "fb79db52-eeea-4404-8e6b-442585a30ed0",
   "metadata": {},
   "outputs": [
    {
     "name": "stdout",
     "output_type": "stream",
     "text": [
      "-----Replace a word in a string with another word.-----\n",
      "\n",
      "My string is 'I love to play cricket' and my replace string is 'I love to play football'\n"
     ]
    }
   ],
   "source": [
    "# We can replace a word wsing a replace method\n",
    "# define string variable\n",
    "print(\"-----Replace a word in a string with another word.-----\")\n",
    "print()\n",
    "\n",
    "my_string_10 = \"I love to play cricket\"\n",
    "replace_word = \"football\"\n",
    "replaced_string = my_string_10.replace(\"cricket\", replace_word);\n",
    "\n",
    "print(f\"My string is '{my_string_10}' and my replace string is '{replaced_string}'\")"
   ]
  },
  {
   "cell_type": "code",
   "execution_count": null,
   "id": "3ca8851f-bf45-412a-94f0-e96a38eddd0b",
   "metadata": {},
   "outputs": [],
   "source": []
  },
  {
   "cell_type": "markdown",
   "id": "983f3919-d0ff-49ba-90f2-84c60764e240",
   "metadata": {},
   "source": [
    "11. Count the occurrences of a word in a string."
   ]
  },
  {
   "cell_type": "code",
   "execution_count": 11,
   "id": "b64e741d-d6ea-4ee1-96ca-d7c65114ef89",
   "metadata": {},
   "outputs": [
    {
     "name": "stdout",
     "output_type": "stream",
     "text": [
      "-----Count the occurrences of a word in a string.-----\n",
      "\n"
     ]
    },
    {
     "name": "stdin",
     "output_type": "stream",
     "text": [
      "Enter a string or sentence:  Count the occurrences of a word in a string\n",
      "Enter a word which you want to count in your string or sentence:  a\n"
     ]
    },
    {
     "name": "stdout",
     "output_type": "stream",
     "text": [
      "The word 'a' is 2 times in your string or sentence --> 'Count the occurrences of a word in a string'\n"
     ]
    }
   ],
   "source": [
    "# Using count() method we count occurrences of a word in s string.\n",
    "print(\"-----Count the occurrences of a word in a string.-----\")\n",
    "print()\n",
    "\n",
    "# define a variable to store my string\n",
    "# my_string_11 = \"Hi, my name is Sayantan Haldar. I live in Burdwan, West-Bengal,India. India is a beautiful country.\";\n",
    "\n",
    "# taking string or sentence from user\n",
    "my_string_11 = input(\"Enter a string or sentence: \");\n",
    "\n",
    "# taking the occurent word from user\n",
    "word = input(\"Enter a word which you want to count in your string or sentence: \")\n",
    "# word = \"India\"\n",
    "count_occurrences = my_string_11.count(word);\n",
    "print(f\"The word '{word}' is {count_occurrences} times in your string or sentence --> '{my_string_11}'\")"
   ]
  },
  {
   "cell_type": "code",
   "execution_count": null,
   "id": "edbf376d-41c5-4e2b-895f-f32b19b0d502",
   "metadata": {},
   "outputs": [],
   "source": []
  },
  {
   "cell_type": "markdown",
   "id": "9678464a-381b-4896-9733-fbfeece6c361",
   "metadata": {},
   "source": [
    "12. Find the first occurrence of a word in a string."
   ]
  },
  {
   "cell_type": "code",
   "execution_count": 12,
   "id": "06d1549e-2efb-43f5-a2af-9419446993e2",
   "metadata": {},
   "outputs": [
    {
     "name": "stdout",
     "output_type": "stream",
     "text": [
      "-----Find the first occurrence of a word in a string.-----\n",
      "\n",
      "Your word is 'name' and it's first occurrence is at the index of 7\n"
     ]
    }
   ],
   "source": [
    "# Using find() method we can find the first occurrence of a word in the string\n",
    "print(\"-----Find the first occurrence of a word in a string.-----\")\n",
    "print()\n",
    "\n",
    "# taking a variable to store our string\n",
    "my_string_12 = \"Hi, my name is Sayantan Haldar. I live in Burdwan, West-Bengal,India. India is a beautiful country\"\n",
    "word_2 = \"name\";\n",
    "first_occurrence_index = my_string_12.find(word_2);\n",
    "\n",
    "# Print the result\n",
    "print(f\"Your word is '{word_2}' and it's first occurrence is at the index of {first_occurrence_index}\")"
   ]
  },
  {
   "cell_type": "code",
   "execution_count": null,
   "id": "0f9682e0-ee9a-4e65-91c2-4021915ae1bb",
   "metadata": {},
   "outputs": [],
   "source": []
  },
  {
   "cell_type": "markdown",
   "id": "9718f920-8906-4ff5-94da-2ad806049faf",
   "metadata": {},
   "source": [
    "13. Find the last occurrence of a word in a string."
   ]
  },
  {
   "cell_type": "code",
   "execution_count": 13,
   "id": "eada6bb5-59fb-4d2e-a46d-f1acf1ec1a26",
   "metadata": {},
   "outputs": [
    {
     "name": "stdout",
     "output_type": "stream",
     "text": [
      "-----Find the last occurrence of a word in a string.-----\n",
      "\n",
      "Your word is 'a' and it's last occurrence is at the index of 83\n"
     ]
    }
   ],
   "source": [
    "# Using rfind() method we can find the last occurrence of a word in the string\n",
    "print(\"-----Find the last occurrence of a word in a string.-----\")\n",
    "print()\n",
    "\n",
    "# taking a variable to store our string\n",
    "my_string_13 = \"Hi, my name is Sayantan Haldar. I live in Burdwan, West-Bengal,India. India is a beautiful country\"\n",
    "word_3 = \"a\";\n",
    "last_occurrence_index = my_string_13.rfind(word_3);\n",
    "\n",
    "# Print the result\n",
    "print(f\"Your word is '{word_3}' and it's last occurrence is at the index of {last_occurrence_index}\")"
   ]
  },
  {
   "cell_type": "code",
   "execution_count": null,
   "id": "75f570eb-b280-4d5d-8832-7b9105043150",
   "metadata": {},
   "outputs": [],
   "source": []
  },
  {
   "cell_type": "markdown",
   "id": "dd432bba-88f0-4f61-91f9-f93f62fd8f36",
   "metadata": {},
   "source": [
    "14. Split a string into a list of words."
   ]
  },
  {
   "cell_type": "code",
   "execution_count": 14,
   "id": "adb0e85c-b346-4c64-ad69-7dce935b2a87",
   "metadata": {},
   "outputs": [
    {
     "name": "stdout",
     "output_type": "stream",
     "text": [
      "-----Split a string into a list of words.-----\n",
      "\n",
      "My string is 'I live in India and it is a beautiful country'\n",
      "\n",
      "Result:--> ['I', 'live', 'in', 'India', 'and', 'it', 'is', 'a', 'beautiful', 'country']\n"
     ]
    }
   ],
   "source": [
    "# using split method we can split a string into a list\n",
    "print(\"-----Split a string into a list of words.-----\")\n",
    "print()\n",
    "\n",
    "# taking a variable to store our string.\n",
    "my_string_14 = \"I live in India and it is a beautiful country\"\n",
    "result = my_string_14.split(\" \")\n",
    "\n",
    "print(f\"My string is '{my_string_14}'\")\n",
    "print()\n",
    "print(f\"Result:--> {result}\")"
   ]
  },
  {
   "cell_type": "code",
   "execution_count": null,
   "id": "3859e0e1-aad6-4272-a2c3-8bc5a82b4b13",
   "metadata": {},
   "outputs": [],
   "source": []
  },
  {
   "cell_type": "markdown",
   "id": "8ab50246-109b-4fc7-ae74-65e06aafca6b",
   "metadata": {},
   "source": [
    "15. Join a list of words into a string.\n"
   ]
  },
  {
   "cell_type": "code",
   "execution_count": 15,
   "id": "f2bcd8cd-3c31-4fa9-86be-c91acda185e1",
   "metadata": {},
   "outputs": [
    {
     "name": "stdout",
     "output_type": "stream",
     "text": [
      "-----Join a list of words into a string.-----\n",
      "\n",
      "Given list is ['I', 'live', 'in', 'India', 'and', 'it', 'is', 'a', 'beautiful', 'country']\n",
      "\n",
      "Join list to string:---> 'I live in India and it is a beautiful country'\n"
     ]
    }
   ],
   "source": [
    "# using string join() method we can join a list of words into a string\n",
    "print(\"-----Join a list of words into a string.-----\")\n",
    "print()\n",
    "\n",
    "# takign a variable to store our list.\n",
    "my_list_1 = ['I', 'live', 'in', 'India', 'and', 'it', 'is', 'a', 'beautiful', 'country']\n",
    "list_join_to_string = \" \".join(my_list_1)\n",
    "\n",
    "print(f\"Given list is {my_list_1}\")\n",
    "print()\n",
    "print(f\"Join list to string:---> '{list_join_to_string}'\")"
   ]
  },
  {
   "cell_type": "code",
   "execution_count": null,
   "id": "461957f3-d7af-4efe-844f-d478f70399b3",
   "metadata": {},
   "outputs": [],
   "source": []
  },
  {
   "cell_type": "markdown",
   "id": "764cf9d3-7912-452c-9f42-e05ebc7c585a",
   "metadata": {},
   "source": [
    "16. Convert a string where words are separated by spaces to one where words\n",
    "are separated by underscores."
   ]
  },
  {
   "cell_type": "code",
   "execution_count": 16,
   "id": "6a8c574a-f4e1-4296-b596-f9a03e4a3e76",
   "metadata": {},
   "outputs": [
    {
     "name": "stdout",
     "output_type": "stream",
     "text": [
      "-----Convert a string where words are separated by spaces to one where words are separated by underscores.-----\n",
      "\n",
      "String with spaces: 'My name is Sayantan Haldar'\n",
      "\n",
      "Converted String with underscore: 'My_name_is_Sayantan_Haldar'\n"
     ]
    }
   ],
   "source": [
    "print(\"-----Convert a string where words are separated by spaces to one where words are separated by underscores.-----\")\n",
    "print()\n",
    "\n",
    "# Takign a variable to store string\n",
    "my_string_15 = \"My name is Sayantan Haldar\";\n",
    "replaced_string_15 = my_string_15.replace(\" \",\"_\")\n",
    "\n",
    "print(f\"String with spaces: '{my_string_15}'\");\n",
    "print()\n",
    "print(f\"Converted String with underscore: '{replaced_string_15}'\")"
   ]
  },
  {
   "cell_type": "code",
   "execution_count": null,
   "id": "d208c1c2-7fe0-40ff-8c62-66dbcf960ac7",
   "metadata": {},
   "outputs": [],
   "source": []
  },
  {
   "cell_type": "markdown",
   "id": "7def11ba-1403-458a-8b69-c9f041ee8873",
   "metadata": {},
   "source": [
    "17. Check if a string starts with a specific word or phrase."
   ]
  },
  {
   "cell_type": "code",
   "execution_count": 17,
   "id": "d63bd6c9-687b-4fea-bee5-4a66dec11241",
   "metadata": {},
   "outputs": [
    {
     "name": "stdout",
     "output_type": "stream",
     "text": [
      "-----Check if a string starts with a specific word or phrase.-----\n",
      "\n",
      "The string 'hi everyone!' is not starts with the letter/word 'hii'\n"
     ]
    }
   ],
   "source": [
    "# Here we can use startswith() method to check that the string starts with a specific word or letter.\n",
    "print(\"-----Check if a string starts with a specific word or phrase.-----\")\n",
    "print()\n",
    "my_string_16 = \"hi everyone!\"\n",
    "start_word = \"hii\"\n",
    "if(my_string_16.startswith(start_word) == True):\n",
    "    print(f\"The string '{my_string_16}' is starts with the letter/word '{start_word}'\")\n",
    "else:\n",
    "    print(f\"The string '{my_string_16}' is not starts with the letter/word '{start_word}'\")"
   ]
  },
  {
   "cell_type": "code",
   "execution_count": null,
   "id": "1e8f5833-c5c4-4593-b8a5-0f7ac31e7680",
   "metadata": {},
   "outputs": [],
   "source": []
  },
  {
   "cell_type": "markdown",
   "id": "1f8ed5b8-70a3-40f6-ad13-145bf309ff1f",
   "metadata": {},
   "source": [
    "18. Check if a string ends with a specific word or phrase"
   ]
  },
  {
   "cell_type": "code",
   "execution_count": 18,
   "id": "64d30187-a526-44d4-8775-8c0646590b78",
   "metadata": {},
   "outputs": [
    {
     "name": "stdout",
     "output_type": "stream",
     "text": [
      "-----Check if a string starts with a specific word or phrase.-----\n",
      "\n",
      "The string 'hi everyone!' is ends with the letter/word 'everyone!'\n"
     ]
    }
   ],
   "source": [
    "# Here we can use endswith() method to check that the string starts with a specific word or letter.\n",
    "print(\"-----Check if a string starts with a specific word or phrase.-----\")\n",
    "print()\n",
    "my_string_17 = \"hi everyone!\"\n",
    "end_word = \"everyone!\"\n",
    "if(my_string_17.endswith(end_word) == True):\n",
    "    print(f\"The string '{my_string_17}' is ends with the letter/word '{end_word}'\")\n",
    "else:\n",
    "    print(f\"The string '{my_string_17}' is not ends with the letter/word '{end_word}'\")"
   ]
  },
  {
   "cell_type": "code",
   "execution_count": null,
   "id": "350508b4-689c-4475-881e-b1c5841102f0",
   "metadata": {},
   "outputs": [],
   "source": []
  },
  {
   "cell_type": "markdown",
   "id": "62345eb6-1672-4372-b3cc-c90d1e05ad9f",
   "metadata": {},
   "source": [
    "19. Convert a string to title case (e.g., \"hello world\" to \"Hello World\")."
   ]
  },
  {
   "cell_type": "code",
   "execution_count": 19,
   "id": "6601a09e-c5cd-4cf5-89c0-deae8bff9f1b",
   "metadata": {},
   "outputs": [
    {
     "name": "stdout",
     "output_type": "stream",
     "text": [
      "-----Convert a string to title case.-----\n",
      "\n"
     ]
    },
    {
     "name": "stdin",
     "output_type": "stream",
     "text": [
      "Enter a string or word:  convert a string to title case\n"
     ]
    },
    {
     "name": "stdout",
     "output_type": "stream",
     "text": [
      "My string is 'convert a string to title case' and converted to title case :---> 'Convert A String To Title Case'\n"
     ]
    }
   ],
   "source": [
    "# Here we can use title() method to convert string to title case\n",
    "print(\"-----Convert a string to title case.-----\")\n",
    "print()\n",
    "\n",
    "# Taking string from user\n",
    "my_string_18 = input(\"Enter a string or word: \")\n",
    "convert_to_title = my_string_18.title()\n",
    "\n",
    "# print the result\n",
    "print(f\"My string is '{my_string_18}' and converted to title case :---> '{convert_to_title}'\")"
   ]
  },
  {
   "cell_type": "code",
   "execution_count": null,
   "id": "48f9b3eb-47f5-465b-9cf0-73c1e2ce6af8",
   "metadata": {},
   "outputs": [],
   "source": []
  },
  {
   "cell_type": "markdown",
   "id": "5ce7907b-b9f9-43b2-8e72-e426a326617c",
   "metadata": {},
   "source": [
    "20. Find the longest word in a string."
   ]
  },
  {
   "cell_type": "code",
   "execution_count": 20,
   "id": "330ef014-a85c-4270-9e4d-d3a6270d1de6",
   "metadata": {},
   "outputs": [
    {
     "name": "stdout",
     "output_type": "stream",
     "text": [
      "-----Find the longest word in a string.-----\n",
      "\n",
      "The word 'beautiful' is the longest word of the string/sentence 'I live in India and it is a beautiful country'\n"
     ]
    }
   ],
   "source": [
    "# here i am taking a string and split it with \" \". Then iterate the list using loop. Taking a variable to store our list element one by one then compare the length of every element of the list with the previous one.\n",
    "print(\"-----Find the longest word in a string.-----\")\n",
    "print()\n",
    "\n",
    "# taking a variable to store my string \n",
    "my_string_19 = \"I live in India and it is a beautiful country\"\n",
    "\n",
    "# split the string with spaces(\" \")\n",
    "my_string_list = my_string_19.split(\" \")\n",
    "\n",
    "# taking a variable to store the longest word but initially it will be empty string(\"\")\n",
    "longest_word = \"\";\n",
    "\n",
    "# Using for loop to iterate over the list\n",
    "for i in range(len(my_string_list)):\n",
    "    # compare length of the list element with the previous element\n",
    "    if(len(my_string_list[i])> len(longest_word)):\n",
    "        longest_word = my_string_list[i]\n",
    "\n",
    "# Print the result.\n",
    "print(f\"The word '{longest_word}' is the longest word of the string/sentence '{my_string_19}'\")"
   ]
  },
  {
   "cell_type": "code",
   "execution_count": null,
   "id": "794b3ee5-d52e-466e-8104-4841586671b0",
   "metadata": {},
   "outputs": [],
   "source": []
  },
  {
   "cell_type": "markdown",
   "id": "59ab59bf-0285-46c9-b8d1-9663aa348059",
   "metadata": {},
   "source": [
    "21. Find the shortest word in a string."
   ]
  },
  {
   "cell_type": "code",
   "execution_count": 21,
   "id": "bf8487c1-a0f4-4c2a-837d-09e4e0eca37d",
   "metadata": {},
   "outputs": [
    {
     "name": "stdout",
     "output_type": "stream",
     "text": [
      "-----Find the shortest word in a string.-----\n",
      "\n",
      "The word 'I' is the longest word of the string/sentence 'I live in India and it is a beautiful country'\n"
     ]
    }
   ],
   "source": [
    "# here i am taking a string and split it with \" \". Then using sorted() method and pass it our list and also pass the key=len. becouse based on len we can sorted our list. Then we access the first element of the list\n",
    "print(\"-----Find the shortest word in a string.-----\")\n",
    "print()\n",
    "\n",
    "# taking a variable to store my string \n",
    "my_string_20 = \"I live in India and it is a beautiful country\"\n",
    "\n",
    "# split the string with spaces(\" \")\n",
    "my_string_list_2 = my_string_20.split(\" \")\n",
    "\n",
    "# taking a variable to store the shortest word\n",
    "shortest_word = \"\";\n",
    "\n",
    "# using sorted method\n",
    "sorted_list = sorted(my_string_list_2, key=len)\n",
    "shortest_word = sorted_list[0]\n",
    "# Print the result.\n",
    "print(f\"The word '{shortest_word}' is the longest word of the string/sentence '{my_string_20}'\")\n"
   ]
  },
  {
   "cell_type": "code",
   "execution_count": null,
   "id": "e532e7ec-04e6-4749-93dd-855ca9036a0a",
   "metadata": {},
   "outputs": [],
   "source": []
  },
  {
   "cell_type": "markdown",
   "id": "e8ea1cc4-a2e2-4f2b-a537-372ed53dae73",
   "metadata": {},
   "source": [
    "22. Reverse the order of words in a string."
   ]
  },
  {
   "cell_type": "code",
   "execution_count": 22,
   "id": "7c0e248e-3bb2-46e9-ad31-5195cb6ca687",
   "metadata": {},
   "outputs": [
    {
     "name": "stdout",
     "output_type": "stream",
     "text": [
      "-----Reverse the order of words in a string.-----\n",
      "\n",
      "My string is 'I live in India and it is a beautiful country' and after reversing the order, the string is:----> 'country beautiful a is it and India in live I'\n"
     ]
    }
   ],
   "source": [
    "# At first we split our string then using slice method we can reverse our list. then join it.\n",
    "print(\"-----Reverse the order of words in a string.-----\")\n",
    "print()\n",
    "\n",
    "# taking a variable to store my string \n",
    "my_string_21 = \"I live in India and it is a beautiful country\"\n",
    "\n",
    "# split the string with spaces(\" \")\n",
    "my_string_list_3 = my_string_20.split(\" \")\n",
    "reverse_string_list = my_string_list_3[::-1];\n",
    "join_reverse_string = \" \".join(reverse_string_list)\n",
    "print(f\"My string is '{my_string_21}' and after reversing the order, the string is:----> '{join_reverse_string}'\")"
   ]
  },
  {
   "cell_type": "code",
   "execution_count": null,
   "id": "d3d8e2c2-4a7f-440c-969b-9ed93315e256",
   "metadata": {},
   "outputs": [],
   "source": []
  },
  {
   "cell_type": "markdown",
   "id": "bbf64039-6c14-495f-83dc-873ffda1b546",
   "metadata": {},
   "source": [
    "23. Check if a string is alphanumeric."
   ]
  },
  {
   "cell_type": "code",
   "execution_count": 23,
   "id": "8245f10c-0ce8-4c65-a244-936309269be0",
   "metadata": {},
   "outputs": [
    {
     "name": "stdout",
     "output_type": "stream",
     "text": [
      "-----Check if a string is alphanumeric.-----\n",
      "\n",
      "Given string 'Sayantan2' is a alpha-numeric string.\n"
     ]
    }
   ],
   "source": [
    "# Using isalnum() we can check that the string is alphanumeric or not.\n",
    "print(\"-----Check if a string is alphanumeric.-----\")\n",
    "print()\n",
    "# Taking a variable to stroe my string\n",
    "my_string_22=\"Sayantan2\"\n",
    "\n",
    "# using conditional statement to check the string is alphanumeric or not.\n",
    "if(my_string_22.isalnum() == True):\n",
    "    print(f\"Given string '{my_string_22}' is a alpha-numeric string.\")\n",
    "else:\n",
    "    print(f\"Given string '{my_string_22}' is not a alpha-numeric string.\")\n"
   ]
  },
  {
   "cell_type": "code",
   "execution_count": null,
   "id": "2590aabb-aa58-4149-abfc-9a10ceaf56e4",
   "metadata": {},
   "outputs": [],
   "source": []
  },
  {
   "cell_type": "markdown",
   "id": "919a88df-d53e-4ca3-a47c-12ed1efcb787",
   "metadata": {},
   "source": [
    "24. Extract all digits from a string.\n"
   ]
  },
  {
   "cell_type": "code",
   "execution_count": 24,
   "id": "0899f2b0-7121-4323-9976-2917b1dfc171",
   "metadata": {},
   "outputs": [
    {
     "name": "stdout",
     "output_type": "stream",
     "text": [
      "-----Extract all digits from a string.-----\n",
      "\n",
      "My string is 'sayan22ta1n' and extracted numbers are 221\n"
     ]
    }
   ],
   "source": [
    "# iterate over the string and checking each string, if the string is a number, then store it to a variable.\n",
    "print(\"-----Extract all digits from a string.-----\")\n",
    "print()\n",
    "\n",
    "# takig a variable to store the string\n",
    "my_string_23 = \"sayan22ta1n\";\n",
    "\n",
    "# taking a variable to store the extract number.\n",
    "numeric_string = ''\n",
    "\n",
    "# using for loop to iterate over the loop\n",
    "for i in range(len(my_string_23)):\n",
    "    if(my_string_23[i].isnumeric()):\n",
    "        numeric_string += ''.join(my_string_23[i])\n",
    "\n",
    "\n",
    "print(f\"My string is '{my_string_23}' and extracted numbers are {numeric_string}\")\n",
    "\n"
   ]
  },
  {
   "cell_type": "code",
   "execution_count": null,
   "id": "6c42ce4e-fa0e-493b-816e-d114bb615f74",
   "metadata": {},
   "outputs": [],
   "source": []
  },
  {
   "cell_type": "markdown",
   "id": "83bcca64-9565-4a2e-9781-1307fb47dfd9",
   "metadata": {},
   "source": [
    "25. Extract all alphabets from a string.\n"
   ]
  },
  {
   "cell_type": "code",
   "execution_count": 25,
   "id": "c0d5e1d5-e708-4c5d-b87a-f71599d1d48a",
   "metadata": {},
   "outputs": [
    {
     "name": "stdout",
     "output_type": "stream",
     "text": [
      "-----Extract all alphsbets from a string.-----\n",
      "\n",
      "My string is 'sayan22ta1n' and extracted alphabets are sayantan\n"
     ]
    }
   ],
   "source": [
    "# iterate over the string and checking each string, if the string is a alphabet, then store it to a variable.\n",
    "print(\"-----Extract all alphsbets from a string.-----\")\n",
    "print()\n",
    "\n",
    "# takig a variable to store the string\n",
    "my_string_24 = \"sayan22ta1n\";\n",
    "\n",
    "# taking a variable to store the extracted alphabet.\n",
    "alphabet_string = ''\n",
    "\n",
    "# using for loop to iterate over the loop\n",
    "for i in range(len(my_string_24)):\n",
    "    if(my_string_23[i].isalpha()):\n",
    "        alphabet_string += ''.join(my_string_24[i])\n",
    "\n",
    "\n",
    "print(f\"My string is '{my_string_24}' and extracted alphabets are {alphabet_string}\")"
   ]
  },
  {
   "cell_type": "code",
   "execution_count": null,
   "id": "49fc1cb9-0d60-41ea-88f7-c8ddedbad91c",
   "metadata": {},
   "outputs": [],
   "source": []
  },
  {
   "cell_type": "markdown",
   "id": "84b3c192-e130-4145-a377-14b33f299fed",
   "metadata": {},
   "source": [
    "26. Count the number of uppercase letters in a string.\n"
   ]
  },
  {
   "cell_type": "code",
   "execution_count": 26,
   "id": "7086281d-f4e9-4d5c-a3dc-7980b97e6a55",
   "metadata": {},
   "outputs": [
    {
     "name": "stdout",
     "output_type": "stream",
     "text": [
      "-----Count the number of uppercase letters in a string.-----\n",
      "\n",
      "My string is 'I Live In India and It is a Beautiful Country' and count of uppercase letter is 7\n"
     ]
    }
   ],
   "source": [
    "# iterate over the string and checking each string, if the string is in uppercase, then store it to a variable.\n",
    "print(\"-----Count the number of uppercase letters in a string.-----\")\n",
    "print()\n",
    "\n",
    "# takig a variable to store the count of uppercase string\n",
    "my_string_25 = \"I Live In India and It is a Beautiful Country\";\n",
    "\n",
    "# taking a variable to store the extract number.\n",
    "uppercase_count = 0\n",
    "\n",
    "# using for loop to iterate over the loop\n",
    "for i in range(len(my_string_25)):\n",
    "    if(my_string_25[i].isupper()):\n",
    "        uppercase_count += 1\n",
    "\n",
    "\n",
    "print(f\"My string is '{my_string_25}' and count of uppercase letter is {uppercase_count}\")"
   ]
  },
  {
   "cell_type": "code",
   "execution_count": null,
   "id": "9c18ddab-112a-491a-864b-bbc3b4981538",
   "metadata": {},
   "outputs": [],
   "source": []
  },
  {
   "cell_type": "markdown",
   "id": "c22ecbc9-9f89-4acc-b23c-9d6dbbad0724",
   "metadata": {},
   "source": [
    "27. Count the number of lowercase letters in a string.\n"
   ]
  },
  {
   "cell_type": "code",
   "execution_count": 27,
   "id": "f0806fb4-e63c-4487-a764-81cabb03646e",
   "metadata": {},
   "outputs": [
    {
     "name": "stdout",
     "output_type": "stream",
     "text": [
      "-----Count the number of lowercase letters in a string.-----\n",
      "\n",
      "My string is 'I Live In India and It is a Beautiful Country' and count of lowercase letter is 29\n"
     ]
    }
   ],
   "source": [
    "# iterate over the string and checking each string, if the string is in lowercase, then store it to a variable.\n",
    "print(\"-----Count the number of lowercase letters in a string.-----\")\n",
    "print()\n",
    "\n",
    "# takig a variable to store the count of lowercase string\n",
    "my_string_26 = \"I Live In India and It is a Beautiful Country\";\n",
    "\n",
    "# taking a variable to store the extract number.\n",
    "lowercase_count = 0\n",
    "\n",
    "# using for loop to iterate over the loop\n",
    "for i in range(len(my_string_26)):\n",
    "    if(my_string_26[i].islower()):\n",
    "        lowercase_count += 1\n",
    "\n",
    "\n",
    "print(f\"My string is '{my_string_25}' and count of lowercase letter is {lowercase_count}\")\n"
   ]
  },
  {
   "cell_type": "code",
   "execution_count": null,
   "id": "a587fcac-fccf-4b55-a58d-9363e7a35d08",
   "metadata": {},
   "outputs": [],
   "source": []
  },
  {
   "cell_type": "markdown",
   "id": "d2fe5af0-469e-4942-a5c0-28b7ca22e808",
   "metadata": {},
   "source": [
    "28. Swap the case of each character in a string.\n"
   ]
  },
  {
   "cell_type": "code",
   "execution_count": 28,
   "id": "ab85ab5e-6d8a-48fe-9eb2-26faa9c3a9e3",
   "metadata": {},
   "outputs": [
    {
     "name": "stdout",
     "output_type": "stream",
     "text": [
      "-----Swap the case of each character in a string.-----\n",
      "\n",
      "My string is 'I Live In India and It is a Beautiful Country' and after swaping cases the result is 'i lIVE iN iNDIA AND iT IS A bEAUTIFUL cOUNTRY'\n"
     ]
    }
   ],
   "source": [
    "# At first iterate over the strng. and check if the string is in upper case then convet to lower case and do some for lowercases.\n",
    "print(\"-----Swap the case of each character in a string.-----\")\n",
    "print()\n",
    "\n",
    "# take a variable to store the string\n",
    "my_string_27 = \"I Live In India and It is a Beautiful Country\"\n",
    "\n",
    "# take a variable to store result\n",
    "complete_string = \"\"\n",
    "\n",
    "# iterate the string using for loop\n",
    "for i in range(len(my_string_27)):\n",
    "    if(my_string_27[i].isupper()):\n",
    "        complete_string += my_string_27[i].lower()\n",
    "    else:\n",
    "        complete_string += my_string_27[i].upper()\n",
    "\n",
    "print(f\"My string is '{my_string_27}' and after swaping cases the result is '{complete_string}'\")"
   ]
  },
  {
   "cell_type": "code",
   "execution_count": null,
   "id": "20a2474e-2a8f-438f-ac23-3097ca67fd2b",
   "metadata": {},
   "outputs": [],
   "source": []
  },
  {
   "cell_type": "markdown",
   "id": "e80e7c9b-a673-45a3-a996-1a4c9655b9b4",
   "metadata": {},
   "source": [
    "29. Remove a specific word from a string.\n"
   ]
  },
  {
   "cell_type": "code",
   "execution_count": 29,
   "id": "0ca260df-ca76-4cbf-b47f-096ce6df04da",
   "metadata": {},
   "outputs": [
    {
     "name": "stdout",
     "output_type": "stream",
     "text": [
      "-----Remove a specific word from a string.-----\n",
      "\n",
      "My string is 'I Live In India and It is a Beautiful Country'\n",
      "Remove word is:--> 'and'\n",
      "After removing result:--> 'I Live In India  It is a Beautiful Country'\n"
     ]
    }
   ],
   "source": [
    "# using replace() method we can remove a string.\n",
    "print(\"-----Remove a specific word from a string.-----\")\n",
    "print()\n",
    "\n",
    "# take a variable to store the string\n",
    "my_string_28 = \"I Live In India and It is a Beautiful Country\"\n",
    "word_to_remove = \"and\"\n",
    "\n",
    "print(f\"My string is '{my_string_28}'\")\n",
    "print(f\"Remove word is:--> '{word_to_remove}'\")\n",
    "print(f\"After removing result:--> '{my_string_28.replace(word_to_remove, '')}'\")"
   ]
  },
  {
   "cell_type": "code",
   "execution_count": null,
   "id": "bc5630da-6ddd-44a6-bee1-3c1e62baad2b",
   "metadata": {},
   "outputs": [],
   "source": []
  },
  {
   "cell_type": "markdown",
   "id": "3f7ef96f-1554-4004-9160-6bc24ab18b94",
   "metadata": {},
   "source": [
    "30. Check if a string is a valid email address."
   ]
  },
  {
   "cell_type": "code",
   "execution_count": 30,
   "id": "0842aae5-7a66-4393-b4fb-c678c82ace00",
   "metadata": {},
   "outputs": [
    {
     "name": "stdout",
     "output_type": "stream",
     "text": [
      "-----Check if a string is a valid email address.-----\n",
      "\n",
      "Given email address 'sayantan.haldar@gmail.com' is a valid email address\n"
     ]
    }
   ],
   "source": [
    "print(\"-----Check if a string is a valid email address.-----\")\n",
    "print()\n",
    "\n",
    "import re\n",
    "# takign a variable to store string\n",
    "my_string_29 = \"sayantan.haldar@gmail.com\"\n",
    "\n",
    "# Make a regular expression\n",
    "# for validating an Email\n",
    "regex = r'\\b[A-Za-z0-9._%+-]+@[A-Za-z0-9.-]+\\.[A-Z|a-z]{2,7}\\b'\n",
    "if(re.fullmatch(regex, my_string_29)):\n",
    "    print(f\"Given email address '{my_string_29}' is a valid email address\")\n",
    "else:\n",
    "    print(f\"Given email address '{my_string_29}' is not a valid email address\")"
   ]
  },
  {
   "cell_type": "code",
   "execution_count": null,
   "id": "a44083fb-2848-47c8-aa9b-a6a64a427c4b",
   "metadata": {},
   "outputs": [],
   "source": []
  },
  {
   "cell_type": "markdown",
   "id": "c1f25724-df73-4b79-a7a2-393e32809984",
   "metadata": {},
   "source": [
    "31. Extract the username from an email address string.\n"
   ]
  },
  {
   "cell_type": "code",
   "execution_count": 31,
   "id": "804e5ed8-1efa-4eec-886f-cbde08c8d586",
   "metadata": {},
   "outputs": [
    {
     "name": "stdout",
     "output_type": "stream",
     "text": [
      "-----Extract the username from an email address string.-----\n",
      "\n",
      "Username = sayantan.haldar\n"
     ]
    }
   ],
   "source": [
    "print(\"-----Extract the username from an email address string.-----\")\n",
    "print()\n",
    "\n",
    "import re\n",
    "# Make a regular expression\n",
    "# for validating an Email\n",
    "regex = r'\\b[A-Za-z0-9._%+-]+@[A-Za-z0-9.-]+\\.[A-Z|a-z]{2,7}\\b'\n",
    "\n",
    "# takign a variable to store string\n",
    "my_string_30 = \"sayantan.haldar@gmail.com\"\n",
    "# taking a variable to store '@' index\n",
    "find_symbol = my_string_30.find(\"@\")\n",
    "# taking a variable to store username\n",
    "username = \"\";\n",
    "\n",
    "if(re.fullmatch(regex, my_string_30)):\n",
    "    username = my_string_30[0:find_symbol]\n",
    "    print(f\"Username = {username}\")\n",
    "else:\n",
    "    print(f\"Given email address '{my_string_29}' is not a valid email address\")\n",
    "    "
   ]
  },
  {
   "cell_type": "code",
   "execution_count": null,
   "id": "163aaffc-18b4-4c78-9dc9-a6fb19f9d471",
   "metadata": {},
   "outputs": [],
   "source": []
  },
  {
   "cell_type": "markdown",
   "id": "ddb8a6db-8a32-4f42-8ad2-3d667ac33c40",
   "metadata": {},
   "source": [
    "32. Extract the domain name from an email address string.\n"
   ]
  },
  {
   "cell_type": "code",
   "execution_count": 32,
   "id": "f37eb259-e95d-48de-9725-db239eaa2f77",
   "metadata": {},
   "outputs": [
    {
     "name": "stdout",
     "output_type": "stream",
     "text": [
      "-----Extract the domain name from an email address string.-----\n",
      "\n",
      "Given email address is : sayantan.haldar@gmail.com\n",
      "Domain is : gmail\n"
     ]
    }
   ],
   "source": [
    "print(\"-----Extract the domain name from an email address string.-----\")\n",
    "print()\n",
    "\n",
    "# taking a variable to store string\n",
    "my_string_31 = \"sayantan.haldar@gmail.com\"\n",
    "# find last dot index \n",
    "dot_index_2 = my_string_31.rfind('.')\n",
    "# find symbol index\n",
    "symbol_index_2 = my_string_31.rfind('@')\n",
    "# slicing email address from symbol_index_2+1 to dot_index_2\n",
    "domain = my_string_31[symbol_index_2+1 : dot_index_2]\n",
    "print(f\"Given email address is : {my_string_31}\")\n",
    "print(f\"Domain is : {domain}\")"
   ]
  },
  {
   "cell_type": "code",
   "execution_count": null,
   "id": "ed14b502-ae35-4d07-850f-a1a104c1dcd9",
   "metadata": {},
   "outputs": [],
   "source": []
  },
  {
   "cell_type": "markdown",
   "id": "1a959264-11f0-4647-954d-c5ed2d0e7ddf",
   "metadata": {},
   "source": [
    "33. Replace multiple spaces in a string with a single space.\n"
   ]
  },
  {
   "cell_type": "code",
   "execution_count": 33,
   "id": "30c66981-fe6d-488e-95e4-927904205d33",
   "metadata": {},
   "outputs": [
    {
     "name": "stdout",
     "output_type": "stream",
     "text": [
      "-----Replace multiple spaces in a string with a single space.-----\n",
      "\n",
      "Given string with multi spaces: '    Replace    multiple     spaces  in a    string  with a  single  space.    '\n",
      "String with single space: 'Replace multiple spaces in a string with a single space.'\n"
     ]
    }
   ],
   "source": [
    "print(\"-----Replace multiple spaces in a string with a single space.-----\")\n",
    "print()\n",
    "\n",
    "# taking a variable to store string\n",
    "my_string_33 = \"    Replace    multiple     spaces  in a    string  with a  single  space.    \"\n",
    "# using split() method to convert string to list and store it a variable.\n",
    "my_string_list_32 = my_string_33.split()\n",
    "# after getting list, joining list element with one space and store it a variable\n",
    "result = ' '.join(my_string_list_32)\n",
    "# Print the result\n",
    "print(f\"Given string with multi spaces: '{my_string_33}'\")\n",
    "print(f\"String with single space: '{result}'\")"
   ]
  },
  {
   "cell_type": "code",
   "execution_count": null,
   "id": "9624f2a2-10e0-46eb-acdc-9b70f922e76d",
   "metadata": {},
   "outputs": [],
   "source": []
  },
  {
   "cell_type": "markdown",
   "id": "ba38f1d9-bd7a-49ac-9d5d-7b95a507f902",
   "metadata": {},
   "source": [
    "34. Check if a string is a valid URL.\n"
   ]
  },
  {
   "cell_type": "code",
   "execution_count": 34,
   "id": "234bbdcc-8881-4933-937e-8dd9e3641f76",
   "metadata": {},
   "outputs": [
    {
     "name": "stdout",
     "output_type": "stream",
     "text": [
      "-----Check if a string is a valid URL.-----\n",
      "\n",
      "Given url 'https://www.google.com/' is a valid url\n"
     ]
    }
   ],
   "source": [
    "print(\"-----Check if a string is a valid URL.-----\")\n",
    "print()\n",
    "\n",
    "# taking a variable to store string\n",
    "my_string_33 = \"https://www.google.com/\"\n",
    "# taking a variable to store our url's colon index\n",
    "colon_index = my_string_33.find(\":\")\n",
    "# take a variable to store last '.' index\n",
    "dot_index = my_string_33.rfind(\".\")\n",
    "# take a variable to store last forward slash\n",
    "last_forward_slash = my_string_33.rfind(\"/\")\n",
    "\n",
    "# using conditional statement to check that the url is valid or not\n",
    "if(my_string_33[0:colon_index] == \"http\" or my_string_33[0:colon_index] == \"https\"):\n",
    "    if(my_string_33[colon_index+1:colon_index+3] == '//' and my_string_33[colon_index+3:colon_index+4].isalnum() == True):\n",
    "        if(len(my_string_33[dot_index+1:last_forward_slash])>=2):\n",
    "            print(f\"Given url '{my_string_33}' is a valid url\")\n",
    "        else:\n",
    "            print(f\"Given url '{my_string_33}' is not a valid url\")\n",
    "    else:\n",
    "        print(f\"Given url '{my_string_33}' is not a valid url\")\n",
    "else:\n",
    "    print(f\"Given url '{my_string_33}' is not a valid url\")"
   ]
  },
  {
   "cell_type": "code",
   "execution_count": null,
   "id": "0b4e5c96-7e60-413d-abf3-510ba404d2bc",
   "metadata": {},
   "outputs": [],
   "source": []
  },
  {
   "cell_type": "markdown",
   "id": "aed03246-689f-420c-b8e8-f8025df9411b",
   "metadata": {},
   "source": [
    "35. Extract the protocol (http or https) from a URL string.\n"
   ]
  },
  {
   "cell_type": "code",
   "execution_count": 35,
   "id": "c5b922f1-4f3b-4fda-a493-c2131759d89e",
   "metadata": {},
   "outputs": [
    {
     "name": "stdout",
     "output_type": "stream",
     "text": [
      "-----Extract the protocol (http or https) from a URL string.-----\n",
      "\n",
      "Given url's protocol is : 'https'\n"
     ]
    }
   ],
   "source": [
    "print(\"-----Extract the protocol (http or https) from a URL string.-----\")\n",
    "print()\n",
    "\n",
    "# taking a variable to store string\n",
    "my_string_34 = \"https://www.google.com/\"\n",
    "# taking a variable to store our url's colon index\n",
    "colon_index_2 = my_string_34.find(\":\")\n",
    "\n",
    "# using conditional statement to check that the url is valid or not. if valid then store protocol to a variable.\n",
    "if(my_string_34[0:colon_index] == \"http\" or my_string_34[0:colon_index] == \"https\"):\n",
    "    print(f\"Given url's protocol is : '{my_string_34[0:colon_index]}'\")\n",
    "else:\n",
    "    print(f\"Given url '{my_string_34}' is not a valid url\")"
   ]
  },
  {
   "cell_type": "code",
   "execution_count": null,
   "id": "6b0852d6-63fd-4d77-8c73-91b50c9b155b",
   "metadata": {},
   "outputs": [],
   "source": []
  },
  {
   "cell_type": "markdown",
   "id": "e35e835c-6b6d-4d8a-a749-283f2ba2547a",
   "metadata": {},
   "source": [
    "36. Find the frequency of each character in a string."
   ]
  },
  {
   "cell_type": "code",
   "execution_count": null,
   "id": "01a80a3b-2d35-4a3f-9866-337812c8c591",
   "metadata": {},
   "outputs": [],
   "source": []
  },
  {
   "cell_type": "code",
   "execution_count": 36,
   "id": "94dfca50-4317-4154-af92-4ef73f9e038a",
   "metadata": {},
   "outputs": [
    {
     "name": "stdout",
     "output_type": "stream",
     "text": [
      "-----Extract the protocol (http or https) from a URL string.-----\n",
      "\n"
     ]
    },
    {
     "data": {
      "text/plain": [
       "{'F': 1,\n",
       " 'i': 3,\n",
       " 'n': 4,\n",
       " 'd': 1,\n",
       " ' ': 8,\n",
       " 't': 3,\n",
       " 'h': 3,\n",
       " 'e': 5,\n",
       " 'f': 2,\n",
       " 'r': 4,\n",
       " 'q': 1,\n",
       " 'u': 1,\n",
       " 'c': 4,\n",
       " 'y': 1,\n",
       " 'o': 1,\n",
       " 'a': 4,\n",
       " 's': 1,\n",
       " 'g': 1}"
      ]
     },
     "execution_count": 36,
     "metadata": {},
     "output_type": "execute_result"
    }
   ],
   "source": [
    "print(\"-----Extract the protocol (http or https) from a URL string.-----\")\n",
    "print()\n",
    "\n",
    "# taking a variable to store string\n",
    "my_string_35 = \"Find the frequency of each character in a string\"\n",
    "# taking an empty dictionary\n",
    "all_freq_character = {}\n",
    "\n",
    "# using for loop to iterate over the string\n",
    "for i in my_string_35:\n",
    "    if i in all_freq_character:\n",
    "        all_freq_character[i] += 1\n",
    "    else:\n",
    "        all_freq_character[i] = 1\n",
    "\n",
    "all_freq_character"
   ]
  },
  {
   "cell_type": "code",
   "execution_count": null,
   "id": "0d9d37ff-188f-4d80-9834-157a11943611",
   "metadata": {},
   "outputs": [],
   "source": []
  },
  {
   "cell_type": "markdown",
   "id": "18df9ec9-a178-47bc-a1a1-8380dde9708a",
   "metadata": {},
   "source": [
    "37. Remove all punctuation from a string."
   ]
  },
  {
   "cell_type": "code",
   "execution_count": 37,
   "id": "6149172e-6409-4f72-909a-3009f149aed5",
   "metadata": {},
   "outputs": [
    {
     "name": "stdout",
     "output_type": "stream",
     "text": [
      "-----Remove all punctuation from a string.-----\n",
      "\n",
      "My string is 'I am sayantan , i love to play cricket .'\n",
      "\n",
      "I am sayantan i love to play cricket\n"
     ]
    }
   ],
   "source": [
    "print(\"-----Remove all punctuation from a string.-----\")\n",
    "print()\n",
    "\n",
    "# create a list of all punctuation\n",
    "punctuation_marks = ['.', '?', '!', ',', ';', ':', '\"', \"'\", '-', '–', '—', '(', ')', '[', ']', '...', '/', '•', '¿', '¡']\n",
    "\n",
    "# take a variable to create a list\n",
    "my_string_36 = \"I am sayantan , i love to play cricket .\"\n",
    "my_string_list_36 = my_string_36.split()\n",
    "for i in my_string_list_36:\n",
    "    if i in punctuation_marks:\n",
    "        # print(i)\n",
    "        my_string_list_36.remove(i)\n",
    "\n",
    "print(f\"My string is '{my_string_36}'\")\n",
    "print()\n",
    "print(\" \".join(my_string_list_36))"
   ]
  },
  {
   "cell_type": "code",
   "execution_count": null,
   "id": "f55ae702-b079-4511-a1f7-70ffaae5182a",
   "metadata": {},
   "outputs": [],
   "source": []
  },
  {
   "cell_type": "markdown",
   "id": "3cd09b55-ef35-490b-aa8f-8aec172f856d",
   "metadata": {},
   "source": [
    "38. Check if a string contains only digits.\n"
   ]
  },
  {
   "cell_type": "code",
   "execution_count": 38,
   "id": "811ddbd0-4ba0-43a0-af37-49d41a003b5a",
   "metadata": {},
   "outputs": [
    {
     "name": "stdout",
     "output_type": "stream",
     "text": [
      "-----Check if a string contains only digits.-----\n",
      "\n",
      "Given string '123456789' is only contains digit\n"
     ]
    }
   ],
   "source": [
    "print(\"-----Check if a string contains only digits.-----\")\n",
    "print()\n",
    "\n",
    "# take a variable to store a string\n",
    "my_string_37 = \"123456789\"\n",
    "\n",
    "# using conditional statement to check that the string contains only  digit or not\n",
    "if(my_string_37.isnumeric()):\n",
    "    print(f\"Given string '{my_string_37}' is only contains digit\")\n",
    "else:\n",
    "    print(f\"Given string '{my_string_37}' is not only contains digit but string also\")"
   ]
  },
  {
   "cell_type": "code",
   "execution_count": null,
   "id": "e26f97ff-14cd-4f23-8c72-92ec083a643a",
   "metadata": {},
   "outputs": [],
   "source": []
  },
  {
   "cell_type": "markdown",
   "id": "f835cb02-c4b8-4b0c-bacb-31b682185ea1",
   "metadata": {},
   "source": [
    "39. Check if a string contains only alphabets.\n"
   ]
  },
  {
   "cell_type": "code",
   "execution_count": 39,
   "id": "6762b67c-c937-49e2-b9d1-1ab2a74430e2",
   "metadata": {},
   "outputs": [
    {
     "name": "stdout",
     "output_type": "stream",
     "text": [
      "-----Check if a string contains only alphabets.-----\n",
      "\n",
      "Given string 'Sayantan' is only contain alphabate.\n"
     ]
    }
   ],
   "source": [
    "print(\"-----Check if a string contains only alphabets.-----\")\n",
    "print()\n",
    "\n",
    "# take a variable to store the string.\n",
    "my_string_38 = \"Sayantan\"\n",
    "# using conditional statement to check, is string contain only string.\n",
    "if(my_string_38.isalpha()):\n",
    "    print(f\"Given string '{my_string_38}' is only contain alphabate.\")\n",
    "else:\n",
    "    print(f\"Given string '{my_string_38}' is not only contain alphabate but digit also.\")\n",
    "    "
   ]
  },
  {
   "cell_type": "code",
   "execution_count": null,
   "id": "8b7336e4-78d7-4a36-9d67-85dd1da6d7e2",
   "metadata": {},
   "outputs": [],
   "source": []
  },
  {
   "cell_type": "markdown",
   "id": "aa88e78f-1ba6-4b36-b468-e6b6adbde2ad",
   "metadata": {},
   "source": [
    "40. Convert a string to a list of characters."
   ]
  },
  {
   "cell_type": "code",
   "execution_count": 40,
   "id": "e5ab4edd-ec07-4da6-8327-68a57267299f",
   "metadata": {},
   "outputs": [
    {
     "name": "stdout",
     "output_type": "stream",
     "text": [
      "-----Convert a string to a list of characters.-----\n",
      "\n",
      "Give string is 'Sayantan'\n",
      "Converted list is:  ['S', 'a', 'y', 'a', 'n', 't', 'a', 'n']\n"
     ]
    }
   ],
   "source": [
    "print(\"-----Convert a string to a list of characters.-----\")\n",
    "print()\n",
    "\n",
    "# take a variable to store string\n",
    "my_string_39 = \"Sayantan\";\n",
    "# using list() method to convert a string to a list of element\n",
    "my_string_list_39 = list(my_string_39);\n",
    "print(f\"Give string is '{my_string_39}'\")\n",
    "print(f\"Converted list is:  {my_string_list_39}\")"
   ]
  },
  {
   "cell_type": "code",
   "execution_count": null,
   "id": "e9af5340-c077-4d3d-99cf-adf2dbd72ea3",
   "metadata": {},
   "outputs": [],
   "source": []
  },
  {
   "cell_type": "markdown",
   "id": "d888bf17-b06c-469b-86cc-add82451fe9b",
   "metadata": {},
   "source": [
    "41. Check if two strings are anagrams.\n"
   ]
  },
  {
   "cell_type": "code",
   "execution_count": 41,
   "id": "6949f99b-5269-491f-bc77-275295b42d8b",
   "metadata": {},
   "outputs": [
    {
     "name": "stdout",
     "output_type": "stream",
     "text": [
      "-----Convert a string to a list of characters.-----\n",
      "\n",
      "Both 'abcd' and 'dabc'are anagram\n"
     ]
    }
   ],
   "source": [
    "print(\"-----Convert a string to a list of characters.-----\")\n",
    "print()\n",
    "\n",
    "# take a variable to store a string\n",
    "my_string_40 = \"abcd\"\n",
    "my_anagram_string = \"dabc\"\n",
    "\n",
    "# check if both sorted string are same then we can call that the both string and anagram strings are same\n",
    "if(sorted(my_string_40) == sorted(my_anagram_string)):\n",
    "    print(f\"Both '{my_string_40}' and '{my_anagram_string}'are anagram\")\n",
    "else:\n",
    "    print(f\"Both '{my_string_40}' and '{my_anagram_string}'are not anagram\")"
   ]
  },
  {
   "cell_type": "code",
   "execution_count": null,
   "id": "68e97ac9-7159-4cab-8703-a0b50c8b02c9",
   "metadata": {},
   "outputs": [],
   "source": []
  },
  {
   "cell_type": "markdown",
   "id": "2ba68b2f-a2e1-4fa7-b454-7752ab96c220",
   "metadata": {},
   "source": [
    "42. Encode a string using a Caesar cipher."
   ]
  },
  {
   "cell_type": "code",
   "execution_count": 42,
   "id": "6a2b6312-be95-423b-8ae6-7b87c7fb50af",
   "metadata": {},
   "outputs": [
    {
     "name": "stdout",
     "output_type": "stream",
     "text": [
      "efgh\n"
     ]
    }
   ],
   "source": [
    "my_string_41 = \"abcd\"\n",
    "s = 4\n",
    "result = \"\"\n",
    "   # transverse the plain text\n",
    "for i in range(len(my_string_41)):\n",
    "    char = my_string_41[i]\n",
    "    # Encrypt uppercase characters in plain text\n",
    "      \n",
    "    if (char.isupper()):\n",
    "        result += chr((ord(char) + s-65) % 26 + 65)\n",
    "      # Encrypt lowercase characters in plain text\n",
    "    else:\n",
    "        result += chr((ord(char) + s - 97) % 26 + 97)\n",
    "\n",
    "print(result)"
   ]
  },
  {
   "cell_type": "code",
   "execution_count": null,
   "id": "3147da02-143e-43cc-b68e-7702e92edbf0",
   "metadata": {},
   "outputs": [],
   "source": []
  },
  {
   "cell_type": "markdown",
   "id": "61c8f208-2386-42e6-b850-1ec5e940ba4c",
   "metadata": {},
   "source": [
    "43. Decode a Caesar cipher encoded string.\n"
   ]
  },
  {
   "cell_type": "code",
   "execution_count": 43,
   "id": "ad743997-98a3-4ff9-a25f-93255d9446c1",
   "metadata": {},
   "outputs": [
    {
     "name": "stdout",
     "output_type": "stream",
     "text": [
      "abcd\n"
     ]
    }
   ],
   "source": [
    "decrypted_text = ''\n",
    "my_string_42 = \"efgh\"\n",
    "shift = 4\n",
    "for char in my_string_42:\n",
    "    if char.isalpha():\n",
    "            is_upper = char.isupper()\n",
    "            char = char.lower()\n",
    "            decrypted_char = chr(((ord(char) - ord('a') - shift) % 26) + ord('a'))\n",
    "            if is_upper:\n",
    "                decrypted_char = decrypted_char.upper()\n",
    "            decrypted_text += decrypted_char\n",
    "    else:\n",
    "        decrypted_text += char\n",
    "\n",
    "print(decrypted_text)"
   ]
  },
  {
   "cell_type": "code",
   "execution_count": null,
   "id": "96d03a3c-d543-45be-97c8-8f3760156aa7",
   "metadata": {},
   "outputs": [],
   "source": []
  },
  {
   "cell_type": "markdown",
   "id": "1aea0a82-d40d-4c78-802f-7a5558f83f46",
   "metadata": {},
   "source": [
    "44. Find the most frequent word in a string.\n"
   ]
  },
  {
   "cell_type": "code",
   "execution_count": 44,
   "id": "4011b62d-04ee-47db-bb41-a7929d9e8122",
   "metadata": {},
   "outputs": [
    {
     "data": {
      "text/plain": [
       "{'I': 1,\n",
       " 'love': 1,\n",
       " 'india': 2,\n",
       " 'and': 1,\n",
       " 'is': 1,\n",
       " 'a': 1,\n",
       " 'beautiful': 1,\n",
       " 'country': 1}"
      ]
     },
     "execution_count": 44,
     "metadata": {},
     "output_type": "execute_result"
    }
   ],
   "source": [
    "import string\n",
    "# my_string_43 = \"Technology has revolutionized modern life, altering how we communicate, work, and navigate the world. From smartphones connecting us globally to artificial intelligence shaping industries, it's the driving force of progress. As it evolves, technology's impact continues to shape society's future, promising innovations beyond imagination.\"\n",
    "my_string_43 = \"I love india and india is a beautiful country\"\n",
    "freq_word = {};\n",
    "no_punct = ''.join(char for char in my_string_43 if char not in string.punctuation)\n",
    "for i in no_punct.split(\" \"):\n",
    "    if i in freq_word:\n",
    "        freq_word[i] +=1\n",
    "    else:\n",
    "        freq_word[i] =1\n",
    "freq_word"
   ]
  },
  {
   "cell_type": "code",
   "execution_count": null,
   "id": "ac80406e-b507-461f-9ef8-942011a5be72",
   "metadata": {},
   "outputs": [],
   "source": []
  },
  {
   "cell_type": "markdown",
   "id": "c3980a03-6cfc-4a8b-9b8b-aa0160e44eb7",
   "metadata": {},
   "source": [
    "45. Find all unique words in a string."
   ]
  },
  {
   "cell_type": "code",
   "execution_count": 45,
   "id": "575d4b35-8f75-458c-a7c0-4fae2389497b",
   "metadata": {},
   "outputs": [
    {
     "data": {
      "text/plain": [
       "{'I', 'a', 'and', 'beautiful', 'country', 'india', 'is', 'love'}"
      ]
     },
     "execution_count": 45,
     "metadata": {},
     "output_type": "execute_result"
    }
   ],
   "source": [
    "import string\n",
    "\n",
    "my_string_44 = \"I love india and india is a beautiful country\"\n",
    "freq_word_2 = {};\n",
    "unique_word = {}\n",
    "no_punct_2 = ''.join(char for char in my_string_43 if char not in string.punctuation)\n",
    "set(no_punct_2.split(\" \"))"
   ]
  },
  {
   "cell_type": "code",
   "execution_count": null,
   "id": "cb344c82-fd1b-432e-bd69-99da9c4d3b31",
   "metadata": {},
   "outputs": [],
   "source": []
  },
  {
   "cell_type": "markdown",
   "id": "4405a1b5-fc0d-440e-a050-6f9e89ed093a",
   "metadata": {},
   "source": [
    "46. Count the number of syllables in a string."
   ]
  },
  {
   "cell_type": "code",
   "execution_count": 46,
   "id": "7d97c8b2-3817-40e5-b85e-f1a89ee5c696",
   "metadata": {},
   "outputs": [
    {
     "name": "stdout",
     "output_type": "stream",
     "text": [
      "Total syllables: 31\n"
     ]
    }
   ],
   "source": [
    "def count_syllables(word):\n",
    "    vowels = \"aeiouAEIOU\"\n",
    "    count = 0\n",
    "    prev_char_vowel = False\n",
    "\n",
    "    for char in word:\n",
    "        if char in vowels:\n",
    "            if not prev_char_vowel:\n",
    "                count += 1\n",
    "                prev_char_vowel = True\n",
    "        else:\n",
    "            prev_char_vowel = False\n",
    "    \n",
    "    # Consider ending 'e' which is often silent\n",
    "    if word.endswith('e'):\n",
    "        count -= 1\n",
    "    \n",
    "    # At least one syllable per word\n",
    "    count = max(count, 1)\n",
    "    \n",
    "    return count\n",
    "\n",
    "def count_syllables_in_string(input_string):\n",
    "    words = input_string.split()\n",
    "    total_syllables = sum(count_syllables(word) for word in words)\n",
    "    return total_syllables\n",
    "\n",
    "input_string = \"Technology has revolutionized modern life, altering how we communicate, work, and navigate the world.\"\n",
    "\n",
    "syllable_count = count_syllables_in_string(input_string)\n",
    "print(\"Total syllables:\", syllable_count)\n"
   ]
  },
  {
   "cell_type": "code",
   "execution_count": null,
   "id": "3906425b-31cd-481f-a3ac-a8da9d889417",
   "metadata": {},
   "outputs": [],
   "source": []
  },
  {
   "cell_type": "markdown",
   "id": "d76b5d61-3d55-4435-8f69-d7a44e41dcf2",
   "metadata": {},
   "source": [
    "47. Check if a string contains any special characters.\n"
   ]
  },
  {
   "cell_type": "code",
   "execution_count": 47,
   "id": "7605b2c8-b785-4ae0-9032-6cec4d507a59",
   "metadata": {},
   "outputs": [
    {
     "name": "stdout",
     "output_type": "stream",
     "text": [
      "My String contains special character\n"
     ]
    }
   ],
   "source": [
    "special_characters = ['!', '\"', '#', '$', '%', '&', \"'\", '(', ')', '*', '+', ',', '-', '.', '/', ':', ';', '<', '=', '>', '?', '@', '[', '\\\\', ']', '^', '_', '`', '{', '|', '}', '~']\n",
    "my_string_47 = \"Hello1234456!\"\n",
    "is_special_char_find = False\n",
    "for i in my_string_47:\n",
    "    if i in special_characters:\n",
    "        is_special_char_find = True\n",
    "    else:\n",
    "        is_special_char_find = False\n",
    "       \n",
    "if is_special_char_find:\n",
    "    print(f\"My String contains special character\")\n",
    "else:\n",
    "     print(f\"My string is not contain any special character\")"
   ]
  },
  {
   "cell_type": "code",
   "execution_count": null,
   "id": "3e54d698-2767-40b7-a010-280cabbcb62c",
   "metadata": {},
   "outputs": [],
   "source": []
  },
  {
   "cell_type": "markdown",
   "id": "0fc1ebdc-b69e-4191-99b3-008c737d68f2",
   "metadata": {},
   "source": [
    "48. Remove the nth word from a string."
   ]
  },
  {
   "cell_type": "code",
   "execution_count": 48,
   "id": "1ddd28a3-81fe-4732-84ae-c5538bce99a5",
   "metadata": {},
   "outputs": [
    {
     "name": "stdout",
     "output_type": "stream",
     "text": [
      "My string : I love to play cricket\n",
      "After removing word: I love to cricket\n"
     ]
    }
   ],
   "source": [
    "my_string_48 = \"I love to play cricket\";\n",
    "my_string_list_48 = my_string_48.split()\n",
    "word_to_remove = \"play\"\n",
    "for i in my_string_list_48:\n",
    "    if i==word_to_remove:\n",
    "        my_string_list_48.remove(i)\n",
    "final_string = ' '.join(my_string_list_48)\n",
    "print(f\"My string : {my_string_48}\")\n",
    "print(f\"After removing word: {final_string}\")"
   ]
  },
  {
   "cell_type": "code",
   "execution_count": null,
   "id": "99be018f-f5b1-48c4-817b-b387d255bdbd",
   "metadata": {},
   "outputs": [],
   "source": []
  },
  {
   "cell_type": "markdown",
   "id": "47482bd7-9c0b-48cb-8fb2-135ab918caa1",
   "metadata": {},
   "source": [
    "49. Insert a word at the nth position in a string."
   ]
  },
  {
   "cell_type": "code",
   "execution_count": 49,
   "id": "92f6a074-63b5-46ca-88e0-9e25561cd1e9",
   "metadata": {},
   "outputs": [
    {
     "name": "stdout",
     "output_type": "stream",
     "text": [
      "My string : I love to cricket\n",
      "After removing word: I love to play cricket\n"
     ]
    }
   ],
   "source": [
    "my_string_49 = \"I love to cricket\"\n",
    "my_string_list_49 = my_string_49.split()\n",
    "word_want_to_add = \"play\"\n",
    "where_to_add = \"cricket\"\n",
    "index_to_add = 0\n",
    "\n",
    "for i in my_string_list_49:\n",
    "  if i == where_to_add:\n",
    "    # print(i)\n",
    "    index_to_add = my_string_list_49.index(i)\n",
    "    # print(index_to_add)\n",
    "\n",
    "my_string_list_49.insert(index_to_add,word_want_to_add)\n",
    "        \n",
    "\n",
    "final_string_2 = ' '.join(my_string_list_49)\n",
    "print(f\"My string : {my_string_49}\")\n",
    "print(f\"After removing word: {final_string_2}\")"
   ]
  },
  {
   "cell_type": "code",
   "execution_count": null,
   "id": "4fc7f572-a115-4366-b7d9-4905d2ebf213",
   "metadata": {},
   "outputs": [],
   "source": []
  },
  {
   "cell_type": "markdown",
   "id": "6c07261b-c64a-4a21-a9fe-5a5d35922059",
   "metadata": {},
   "source": [
    "50. Convert a CSV string to a list of lists.\n"
   ]
  },
  {
   "cell_type": "code",
   "execution_count": 50,
   "id": "8e8ed1bb-ca32-4b8b-9471-dd7eff1aace2",
   "metadata": {},
   "outputs": [
    {
     "name": "stdout",
     "output_type": "stream",
     "text": [
      "['Name', ' Age', ' Country']\n",
      "['John', ' 25', ' USA']\n",
      "['Alice', ' 30', ' Canada']\n",
      "['Bob', ' 22', ' UK']\n"
     ]
    }
   ],
   "source": [
    "csv_data = \"Name, Age, Country\\nJohn, 25, USA\\nAlice, 30, Canada\\nBob, 22, UK\"\n",
    "lines = csv_data.split('\\n')\n",
    "result = []\n",
    "for line in lines:\n",
    "    filds = line.split(',')\n",
    "    # print(filds)\n",
    "    result.append(filds)\n",
    "\n",
    "for row in result:\n",
    "    print(row)"
   ]
  },
  {
   "cell_type": "code",
   "execution_count": null,
   "id": "bd75d61a-a7a4-4dc6-9828-6b3649ddd806",
   "metadata": {},
   "outputs": [],
   "source": []
  },
  {
   "cell_type": "code",
   "execution_count": null,
   "id": "a8ed6699-6f92-4e97-8c76-94fd2b6cf190",
   "metadata": {},
   "outputs": [],
   "source": []
  },
  {
   "cell_type": "markdown",
   "id": "788cce66-b826-4768-8547-61bc5a816b69",
   "metadata": {},
   "source": [
    "# List Based Practice Problem :"
   ]
  },
  {
   "cell_type": "code",
   "execution_count": null,
   "id": "77e623e2-60fd-4dda-bc3b-5fd57cbc5dd6",
   "metadata": {},
   "outputs": [],
   "source": []
  },
  {
   "cell_type": "markdown",
   "id": "4100c9c0-e5c9-4a96-b545-2d403c4a1b7e",
   "metadata": {},
   "source": [
    "1. Create a list with integers from 1 to 10"
   ]
  },
  {
   "cell_type": "code",
   "execution_count": 51,
   "id": "fabb3336-2766-488d-bed7-936a91339dd8",
   "metadata": {},
   "outputs": [
    {
     "name": "stdout",
     "output_type": "stream",
     "text": [
      "[1, 2, 3, 4, 5, 6, 7, 8, 9, 10]\n"
     ]
    }
   ],
   "source": [
    "# using a list comprehension to create a list of integer\n",
    "my_list_1 = [i for i in range(1,11)]\n",
    "print(my_list_1)"
   ]
  },
  {
   "cell_type": "code",
   "execution_count": null,
   "id": "5645bba0-aed3-4d86-af6b-b6012d1e402e",
   "metadata": {},
   "outputs": [],
   "source": []
  },
  {
   "cell_type": "markdown",
   "id": "14f67572-ed02-497d-bfc6-80d8479fdf53",
   "metadata": {},
   "source": [
    "2. Find the length of a list without using the `len()` function."
   ]
  },
  {
   "cell_type": "code",
   "execution_count": 52,
   "id": "4c0f1fa9-f573-4be6-8634-7d0cf5e4f5cb",
   "metadata": {},
   "outputs": [
    {
     "name": "stdout",
     "output_type": "stream",
     "text": [
      "Length of the list is: 10\n"
     ]
    }
   ],
   "source": [
    "def find_length(my_list_2):\n",
    "    # take a count variable to count each element\n",
    "    count = 0;\n",
    "    # using for loop to iterate over the list\n",
    "    for i in my_list_2:\n",
    "        count+=1\n",
    "    return count\n",
    "\n",
    "my_list_2 = [1, 2, 3, 4, 5, 6, 7, 8, 9, 10]\n",
    "result = find_length(my_list_2)\n",
    "print(f\"Length of the list is: {result}\")"
   ]
  },
  {
   "cell_type": "code",
   "execution_count": null,
   "id": "2f6969fa-8563-4172-8dd3-0fb17315ba9b",
   "metadata": {},
   "outputs": [],
   "source": []
  },
  {
   "cell_type": "markdown",
   "id": "e9a353cb-d4db-4a31-bc45-fddf5c5ce797",
   "metadata": {},
   "source": [
    "3. Append an element to the end of a list.\n"
   ]
  },
  {
   "cell_type": "code",
   "execution_count": 53,
   "id": "bd4bf9ad-6892-413a-a10d-e9b5a8675e97",
   "metadata": {},
   "outputs": [
    {
     "name": "stdout",
     "output_type": "stream",
     "text": [
      "After append : [1, 2, 3, 4, 5, 6, 7, 8, 9, 10, 11]\n"
     ]
    }
   ],
   "source": [
    "# take a variable to store my list\n",
    "my_list_3 = [1, 2, 3, 4, 5, 6, 7, 8, 9, 10]\n",
    "element_to_add = 11\n",
    "# using append method we can add element to the end of the list\n",
    "my_list_3.append(element_to_add)\n",
    "\n",
    "print(f\"After append : {my_list_3}\")"
   ]
  },
  {
   "cell_type": "code",
   "execution_count": null,
   "id": "8899b6bc-8ced-4704-97bc-cbdb4f60801d",
   "metadata": {},
   "outputs": [],
   "source": []
  },
  {
   "cell_type": "markdown",
   "id": "bde6c896-0f40-4c0a-ae78-ba2cc909b491",
   "metadata": {},
   "source": [
    "4. Insert an element at a specific index in a list.\n"
   ]
  },
  {
   "cell_type": "code",
   "execution_count": 54,
   "id": "11129241-a091-4a8a-8151-c9f3f9c9ee94",
   "metadata": {},
   "outputs": [
    {
     "name": "stdout",
     "output_type": "stream",
     "text": [
      "After insert : [1, 2, 11, 3, 4, 5, 6, 7, 8, 9, 10]\n"
     ]
    }
   ],
   "source": [
    "# take a variable to store my list\n",
    "my_list_4 = [1, 2, 3, 4, 5, 6, 7, 8, 9, 10]\n",
    "element_to_add_2 = 11\n",
    "index = 2\n",
    "# using insert() method we can add element to a specific index of the list\n",
    "my_list_4.insert(index,element_to_add_2)\n",
    "\n",
    "print(f\"After insert : {my_list_4}\")"
   ]
  },
  {
   "cell_type": "code",
   "execution_count": null,
   "id": "691694b3-ee70-4405-adcd-0fe7aa648fa6",
   "metadata": {},
   "outputs": [],
   "source": []
  },
  {
   "cell_type": "markdown",
   "id": "bdd79323-181f-4f9e-be36-9e00443b216b",
   "metadata": {},
   "source": [
    "5. Remove an element from a list by its value."
   ]
  },
  {
   "cell_type": "code",
   "execution_count": 55,
   "id": "943a5726-92ff-441d-bbda-fdc73cccf992",
   "metadata": {},
   "outputs": [
    {
     "name": "stdout",
     "output_type": "stream",
     "text": [
      "After remove : [1, 2, 3, 4, 6, 7, 8, 9, 10]\n"
     ]
    }
   ],
   "source": [
    "# take a variable to store my list\n",
    "my_list_5 = [1, 2, 3, 4, 5, 6, 7, 8, 9, 10]\n",
    "\n",
    "element_to_remove = 5\n",
    "\n",
    "my_list_5.remove(element_to_remove)\n",
    "print(f\"After remove : {my_list_5}\")"
   ]
  },
  {
   "cell_type": "code",
   "execution_count": null,
   "id": "4fc79d52-1648-4f96-b084-70ea363482e6",
   "metadata": {},
   "outputs": [],
   "source": []
  },
  {
   "cell_type": "markdown",
   "id": "a14b0f20-cbec-40f8-881a-d7b052df6e1c",
   "metadata": {},
   "source": [
    "6. Remove an element from a list by its index."
   ]
  },
  {
   "cell_type": "code",
   "execution_count": 56,
   "id": "d555e36b-a5cc-4beb-8377-7e20b47b4771",
   "metadata": {},
   "outputs": [
    {
     "name": "stdout",
     "output_type": "stream",
     "text": [
      "After remove by index : [1, 2, 3, 5, 6, 7, 8, 9, 10]\n"
     ]
    }
   ],
   "source": [
    "# take a variable to store my list\n",
    "my_list_6 = [1, 2, 3, 4, 5, 6, 7, 8, 9, 10]\n",
    "index = 3\n",
    "my_list_6.pop(index)\n",
    "\n",
    "print(f\"After remove by index : {my_list_6}\")"
   ]
  },
  {
   "cell_type": "code",
   "execution_count": null,
   "id": "63b2302e-da10-49a3-a242-b7f053f131bf",
   "metadata": {},
   "outputs": [],
   "source": []
  },
  {
   "cell_type": "markdown",
   "id": "b4c16d9e-9203-4fbb-b949-f0163f2dc02b",
   "metadata": {},
   "source": [
    "7. Check if an element exists in a list.\n"
   ]
  },
  {
   "cell_type": "code",
   "execution_count": 57,
   "id": "ae63e17d-b860-4a50-bdd9-502159b0bf3c",
   "metadata": {},
   "outputs": [
    {
     "name": "stdout",
     "output_type": "stream",
     "text": [
      "Element 14 is not exist in list\n"
     ]
    }
   ],
   "source": [
    "# take a variable to store my list\n",
    "my_list_7 = [1, 2, 3, 4, 5, 6, 7, 8, 9, 10]\n",
    "is_exist_element = 14\n",
    "if(my_list_7.count(is_exist_element)>0):\n",
    "    print(f\"Element {is_exist_element} is exist in list\")\n",
    "else:\n",
    "    print(f\"Element {is_exist_element} is not exist in list\")"
   ]
  },
  {
   "cell_type": "code",
   "execution_count": null,
   "id": "1cc4568e-1a15-4eaf-ad51-369e5f9cd5ca",
   "metadata": {},
   "outputs": [],
   "source": []
  },
  {
   "cell_type": "markdown",
   "id": "a85fbf06-5f82-4109-9cd5-96cea47ea84f",
   "metadata": {},
   "source": [
    "8. Find the index of the first occurrence of an element in a list."
   ]
  },
  {
   "cell_type": "code",
   "execution_count": 58,
   "id": "b20fe4a4-ce29-45ff-85ba-d1a1c1c83a89",
   "metadata": {},
   "outputs": [
    {
     "name": "stdout",
     "output_type": "stream",
     "text": [
      "The index of 9 is 8\n"
     ]
    }
   ],
   "source": [
    "# take a variable to store my list\n",
    "my_list_8 = [1, 2, 3, 4, 5, 6, 7, 8, 9, 10, 2]\n",
    "find_element = 9\n",
    "result = my_list_8.index(find_element);\n",
    "\n",
    "print(f\"The index of {find_element} is {result}\")"
   ]
  },
  {
   "cell_type": "code",
   "execution_count": null,
   "id": "f435d529-4cfb-4dc6-afd6-c44d31a05ec2",
   "metadata": {},
   "outputs": [],
   "source": []
  },
  {
   "cell_type": "markdown",
   "id": "25d5fc8e-c563-4535-8965-89b1c21eef78",
   "metadata": {},
   "source": [
    "9. Count the occurrences of an element in a list."
   ]
  },
  {
   "cell_type": "code",
   "execution_count": 59,
   "id": "5d6fd1b6-4617-4879-b5f1-556a8dc4b5e4",
   "metadata": {},
   "outputs": [
    {
     "name": "stdout",
     "output_type": "stream",
     "text": [
      "10 is 1 times in the list \n"
     ]
    }
   ],
   "source": [
    "# take a variable to store my list\n",
    "my_list_9 = [1, 2, 3, 4, 5, 6, 7, 8, 9, 10, 2, 5,6,7,2]\n",
    "element_to_find = 10\n",
    "count = my_list_9.count(element_to_find);\n",
    "\n",
    "print(f\"{element_to_find} is {count} times in the list \")"
   ]
  },
  {
   "cell_type": "code",
   "execution_count": null,
   "id": "97facd2a-bb5a-43a1-ab71-5eb877ceb32d",
   "metadata": {},
   "outputs": [],
   "source": []
  },
  {
   "cell_type": "markdown",
   "id": "284ed5bf-f645-4753-8049-cd24297fd793",
   "metadata": {},
   "source": [
    "10. Reverse the order of elements in a list"
   ]
  },
  {
   "cell_type": "code",
   "execution_count": 60,
   "id": "102925e6-4434-4b5d-8e8c-26484f64100f",
   "metadata": {},
   "outputs": [
    {
     "name": "stdout",
     "output_type": "stream",
     "text": [
      "Reverse list : [2, 7, 6, 5, 2, 10, 9, 8, 7, 6, 5, 4, 3, 2, 1]\n"
     ]
    }
   ],
   "source": [
    "# take a variable to store my list\n",
    "my_list_10 = [1, 2, 3, 4, 5, 6, 7, 8, 9, 10, 2, 5,6,7,2]\n",
    "reverse_list = my_list_10[::-1]\n",
    "\n",
    "print(f\"Reverse list : {reverse_list}\")"
   ]
  },
  {
   "cell_type": "code",
   "execution_count": null,
   "id": "b9465de9-21ff-44f7-b009-489af50ed8a0",
   "metadata": {},
   "outputs": [],
   "source": []
  },
  {
   "cell_type": "markdown",
   "id": "a3ae943f-83f4-4a8e-ba9b-5f68ce4e3e0c",
   "metadata": {},
   "source": [
    "11. Sort a list in ascending order.\n"
   ]
  },
  {
   "cell_type": "code",
   "execution_count": 61,
   "id": "a72ba536-23b6-488d-8b4c-28913a0213c9",
   "metadata": {},
   "outputs": [
    {
     "name": "stdout",
     "output_type": "stream",
     "text": [
      "Ascending Order: [1, 2, 2, 2, 3, 4, 5, 5, 6, 6, 7, 7, 8, 9, 10]\n"
     ]
    }
   ],
   "source": [
    "# take a variable to store my list\n",
    "my_list_11 = [1, 2, 3, 4, 5, 6, 7, 8, 9, 10, 2, 5,6,7,2]\n",
    "my_list_11.sort()\n",
    "print(f\"Ascending Order: {my_list_11}\")"
   ]
  },
  {
   "cell_type": "code",
   "execution_count": null,
   "id": "b9eaa421-54a1-49d4-a4e0-b00ef2a87222",
   "metadata": {},
   "outputs": [],
   "source": []
  },
  {
   "cell_type": "markdown",
   "id": "4ea1c335-aceb-4597-82cf-0b064f9c22c9",
   "metadata": {},
   "source": [
    "12. Sort a list in descending order"
   ]
  },
  {
   "cell_type": "code",
   "execution_count": 62,
   "id": "319b9ffb-74df-455d-b519-12caefc772fb",
   "metadata": {},
   "outputs": [
    {
     "name": "stdout",
     "output_type": "stream",
     "text": [
      "Descending Order: [10, 9, 8, 7, 7, 6, 6, 5, 5, 4, 3, 2, 2, 2, 1]\n"
     ]
    }
   ],
   "source": [
    "# take a variable to store my list\n",
    "my_list_12 = [1, 2, 3, 4, 5, 6, 7, 8, 9, 10, 2, 5,6,7,2]\n",
    "my_list_12.sort(reverse=True)\n",
    "print(f\"Descending Order: {my_list_12}\")"
   ]
  },
  {
   "cell_type": "code",
   "execution_count": null,
   "id": "0e3937cd-d1e4-45e1-9ceb-1bbc1a1ccb36",
   "metadata": {},
   "outputs": [],
   "source": []
  },
  {
   "cell_type": "markdown",
   "id": "78be78f0-44e8-4a9c-9818-6c18cbee0579",
   "metadata": {},
   "source": [
    "13. Create a list of even numbers from 1 to 20"
   ]
  },
  {
   "cell_type": "code",
   "execution_count": 63,
   "id": "e0e6bfb8-48de-4756-b773-cd51c58d4cdb",
   "metadata": {},
   "outputs": [
    {
     "name": "stdout",
     "output_type": "stream",
     "text": [
      "list of even number from 1-20: [2, 4, 6, 8, 10, 12, 14, 16, 18, 20]\n"
     ]
    }
   ],
   "source": [
    "# using lst comprehensiom \n",
    "my_list_13 = [i for i in range(1,21) if i%2==0]\n",
    "print(f\"list of even number from 1-20: {my_list_13}\")"
   ]
  },
  {
   "cell_type": "code",
   "execution_count": null,
   "id": "f82baec5-3fa1-4a6e-8ce9-74b5fc87f289",
   "metadata": {},
   "outputs": [],
   "source": []
  },
  {
   "cell_type": "markdown",
   "id": "6555201f-f5b0-4c8f-8759-78b1741667bd",
   "metadata": {},
   "source": [
    "14. Create a list of odd numbers from 1 to 20.\n"
   ]
  },
  {
   "cell_type": "code",
   "execution_count": 64,
   "id": "47bd8306-fd17-49df-80e4-8d7f48511138",
   "metadata": {},
   "outputs": [
    {
     "name": "stdout",
     "output_type": "stream",
     "text": [
      "list of odd number from 1-20: [1, 3, 5, 7, 9, 11, 13, 15, 17, 19]\n"
     ]
    }
   ],
   "source": [
    "# using lst comprehensiom \n",
    "my_list_14 = [i for i in range(1,21) if i%2!=0]\n",
    "print(f\"list of odd number from 1-20: {my_list_14}\")"
   ]
  },
  {
   "cell_type": "code",
   "execution_count": null,
   "id": "0d480dc8-dcef-4e21-a857-8def02db168e",
   "metadata": {},
   "outputs": [],
   "source": []
  },
  {
   "cell_type": "markdown",
   "id": "988fdaf1-1f59-410b-b33e-4722fefbcec9",
   "metadata": {},
   "source": [
    "15. Find the sum of all elements in a list.\n"
   ]
  },
  {
   "cell_type": "code",
   "execution_count": 65,
   "id": "c700300c-ee8d-4ae4-992a-3411f200b424",
   "metadata": {},
   "outputs": [
    {
     "name": "stdout",
     "output_type": "stream",
     "text": [
      "Sum of all list element is : 110\n"
     ]
    }
   ],
   "source": [
    "def sum_of_list_element(my_list_15):\n",
    "    sum =0;\n",
    "    for i in my_list_15:\n",
    "        sum+=i\n",
    "    return sum\n",
    "# take a variable to store list\n",
    "my_list_15 = [2, 4, 6, 8, 10, 12, 14, 16, 18, 20]\n",
    "sum = sum_of_list_element(my_list_15)\n",
    "print(f\"Sum of all list element is : {sum}\")"
   ]
  },
  {
   "cell_type": "code",
   "execution_count": null,
   "id": "a9ff968a-53f6-456f-bf78-659b4c386e40",
   "metadata": {},
   "outputs": [],
   "source": []
  },
  {
   "cell_type": "markdown",
   "id": "8176bb59-762d-43ca-8766-367d6e919adb",
   "metadata": {},
   "source": [
    "16. Find the maximum value in a list.\n"
   ]
  },
  {
   "cell_type": "code",
   "execution_count": 66,
   "id": "45cacd95-c9f0-40a3-82a7-c9dd978ec716",
   "metadata": {},
   "outputs": [
    {
     "name": "stdout",
     "output_type": "stream",
     "text": [
      "Maximum value of the list is: 20\n"
     ]
    }
   ],
   "source": [
    "def find_maximum(my_list):\n",
    "    # print(type(my_list))\n",
    "    max_value = max(my_list)\n",
    "    return max_value\n",
    "\n",
    "my_list_16 = [2, 4, 6, 8, 10, 12, 14, 16, 18, 20]\n",
    "max_value = find_maximum(my_list_16)\n",
    "print(f\"Maximum value of the list is: {max_value}\")"
   ]
  },
  {
   "cell_type": "code",
   "execution_count": null,
   "id": "78e676fd-7872-43c1-b740-77bd795c08a9",
   "metadata": {},
   "outputs": [],
   "source": []
  },
  {
   "cell_type": "markdown",
   "id": "47084dbb-687f-44c9-b635-affe4d34d2e7",
   "metadata": {},
   "source": [
    "17. Find the minimum value in a list."
   ]
  },
  {
   "cell_type": "code",
   "execution_count": 67,
   "id": "84083921-f282-4162-9fd6-2e33ffbbe597",
   "metadata": {},
   "outputs": [
    {
     "name": "stdout",
     "output_type": "stream",
     "text": [
      "Minimum value of the list is: 2\n"
     ]
    }
   ],
   "source": [
    "def find_maximum(my_list):\n",
    "    # print(type(my_list))\n",
    "    min_value = min(my_list)\n",
    "    return min_value\n",
    "\n",
    "my_list_17 = [2, 4, 6, 8, 10, 12, 14, 16, 18, 20]\n",
    "min_value = find_maximum(my_list_16)\n",
    "print(f\"Minimum value of the list is: {min_value}\")"
   ]
  },
  {
   "cell_type": "code",
   "execution_count": null,
   "id": "0c5199a6-dfbc-4554-a282-0ec22af47418",
   "metadata": {},
   "outputs": [],
   "source": []
  },
  {
   "cell_type": "markdown",
   "id": "f0489444-828e-4ffd-b30f-2835dbb24339",
   "metadata": {},
   "source": [
    "18. Create a list of squares of numbers from 1 to 10"
   ]
  },
  {
   "cell_type": "code",
   "execution_count": 68,
   "id": "e52969e5-7fb1-4b43-8b28-95e8973795a4",
   "metadata": {},
   "outputs": [
    {
     "name": "stdout",
     "output_type": "stream",
     "text": [
      "List of square numbers from 1-10: [1, 4, 9, 16, 25, 36, 49, 64, 81, 100]\n"
     ]
    }
   ],
   "source": [
    "my_list_18 = [i*i for i in range(1,11)]\n",
    "print(f\"List of square numbers from 1-10: {my_list_18}\")"
   ]
  },
  {
   "cell_type": "code",
   "execution_count": null,
   "id": "c7aca378-6721-4c01-81fd-c440f17fc5be",
   "metadata": {},
   "outputs": [],
   "source": []
  },
  {
   "cell_type": "markdown",
   "id": "0785d3f9-2ae8-453b-9a90-8afe89e76c78",
   "metadata": {},
   "source": [
    "19. Create a list of random numbers.\n"
   ]
  },
  {
   "cell_type": "code",
   "execution_count": 69,
   "id": "15fa8049-bfda-4ffe-a7b7-a128722d9ac0",
   "metadata": {},
   "outputs": [
    {
     "name": "stdout",
     "output_type": "stream",
     "text": [
      "List of random numbers are: [69, 72, 20, 83, 22, 74, 93, 86, 75]\n"
     ]
    }
   ],
   "source": [
    "import random\n",
    "my_list_19 = [random.randint(20,100) for _ in range(1,10)]\n",
    "print(f\"List of random numbers are: {my_list_19}\")"
   ]
  },
  {
   "cell_type": "code",
   "execution_count": null,
   "id": "3de4f6fb-15ef-4dc9-bea1-98ffecd0832d",
   "metadata": {},
   "outputs": [],
   "source": []
  },
  {
   "cell_type": "markdown",
   "id": "122ceef0-03d8-4d66-b3a0-6ff6ad7caab5",
   "metadata": {},
   "source": [
    "20. Remove duplicates from a list.\n"
   ]
  },
  {
   "cell_type": "code",
   "execution_count": 70,
   "id": "74a3fb9d-3d44-48cc-a930-7bb81dac0f7a",
   "metadata": {},
   "outputs": [
    {
     "name": "stdout",
     "output_type": "stream",
     "text": [
      "Original list: [1, 2, 2, 3, 3, 6, 3, 6, 3, 8, 4, 9, 7, 5, 4, 55, 4, 2, 1, 5, 42, 451]\n",
      "Remove duplicate value from  list: [1, 2, 3, 4, 5, 6, 7, 8, 9, 42, 451, 55]\n"
     ]
    }
   ],
   "source": [
    "# taking a variable to create a list\n",
    "my_list_20 = [1,2,2,3,3,6,3,6,3,8,4,9,7,5,4,55,4,2,1,5,42,451]\n",
    "\n",
    "# convert list to set\n",
    "my_set = set(my_list_20)\n",
    "# convert my set to another list\n",
    "remove_duplicates = list(my_set)\n",
    "print(f\"Original list: {my_list_20}\")\n",
    "print(f\"Remove duplicate value from  list: {remove_duplicates}\")"
   ]
  },
  {
   "cell_type": "code",
   "execution_count": null,
   "id": "8485b66a-daab-4447-93db-3c1692318ffc",
   "metadata": {},
   "outputs": [],
   "source": []
  },
  {
   "cell_type": "markdown",
   "id": "b99dce1d-de29-4f59-b6d6-1a57e7240662",
   "metadata": {},
   "source": [
    "21. Find the common elements between two lists.\n"
   ]
  },
  {
   "cell_type": "code",
   "execution_count": 71,
   "id": "a0e3914c-787b-44d0-a2a9-c173b16bce8f",
   "metadata": {},
   "outputs": [
    {
     "name": "stdout",
     "output_type": "stream",
     "text": [
      "List1: [1, 2, 3, 4, 5, 6, 7, 8, 9, 10]\n",
      "List2: [5, 6, 7, 8, 9, 10, 11, 12, 13, 14, 15, 16, 17, 18, 19]\n",
      "Common element in both list: [5, 6, 7, 8, 9, 10]\n"
     ]
    }
   ],
   "source": [
    "my_list_21_1 = [i for i in range(1,11)]\n",
    "my_list_21_2 = [i for i in range(5,20)]\n",
    "# common_elem=[]\n",
    "# for i in my_list_21_1:\n",
    "#     for j in my_list_21_2:\n",
    "#         if i==j:\n",
    "#             common_elem.append(i)\n",
    "\n",
    "common_elem = [elem for elem in my_list_21_1 if elem in my_list_21_2]\n",
    "\n",
    "print(f\"List1: {my_list_21_1}\")\n",
    "print(f\"List2: {my_list_21_2}\")\n",
    "print(f\"Common element in both list: {common_elem}\")"
   ]
  },
  {
   "cell_type": "code",
   "execution_count": null,
   "id": "0af73f43-3d68-4a0b-afd4-69fcb517b5b2",
   "metadata": {},
   "outputs": [],
   "source": []
  },
  {
   "cell_type": "markdown",
   "id": "728055ea-a05b-4d22-af69-9f07dfaaa924",
   "metadata": {},
   "source": [
    "22. Find the difference between two lists."
   ]
  },
  {
   "cell_type": "code",
   "execution_count": 72,
   "id": "85c4654f-eb6f-4880-8cb3-2915c7759db7",
   "metadata": {},
   "outputs": [
    {
     "name": "stdout",
     "output_type": "stream",
     "text": [
      "List1: [1, 2, 3, 4, 5, 6, 7, 8, 9, 10]\n",
      "List2: [5, 6, 7, 8, 9, 10, 11, 12, 13, 14, 15, 16, 17, 18, 19]\n",
      "Different element in list: [1, 2, 3, 4]\n"
     ]
    }
   ],
   "source": [
    "my_list_22_1 = [i for i in range(1,11)]\n",
    "my_list_22_2 = [i for i in range(5,20)]\n",
    "\n",
    "diff_elem = [elem for elem in my_list_22_1 if elem not in my_list_22_2]\n",
    "# list(set(my_list_22_1).difference(set(my_list_22_2)))\n",
    "\n",
    "print(f\"List1: {my_list_22_1}\")\n",
    "print(f\"List2: {my_list_22_2}\")\n",
    "print(f\"Different element in list: {diff_elem}\")"
   ]
  },
  {
   "cell_type": "code",
   "execution_count": null,
   "id": "0807b435-a04b-4c0c-a556-73fa3aa77a4e",
   "metadata": {},
   "outputs": [],
   "source": []
  },
  {
   "cell_type": "markdown",
   "id": "6df3ec3f-4b43-48c4-ba4b-8518fd997429",
   "metadata": {},
   "source": [
    "23. Merge two lists."
   ]
  },
  {
   "cell_type": "code",
   "execution_count": 73,
   "id": "90967a0f-7410-4855-9a9e-05c081e8b918",
   "metadata": {},
   "outputs": [
    {
     "name": "stdout",
     "output_type": "stream",
     "text": [
      "List1: [1, 2, 3, 4, 5, 6, 7, 8, 9, 10]\n",
      "List2: [5, 6, 7, 8, 9, 10, 11, 12, 13, 14, 15, 16, 17, 18, 19]\n",
      "Marge two list: [1, 2, 3, 4, 5, 6, 7, 8, 9, 10, 5, 6, 7, 8, 9, 10, 11, 12, 13, 14, 15, 16, 17, 18, 19]\n"
     ]
    }
   ],
   "source": [
    "my_list_23_1 = [i for i in range(1,11)]\n",
    "my_list_23_2 = [i for i in range(5,20)]\n",
    "\n",
    "new_list = my_list_23_1 + (my_list_23_2)\n",
    "\n",
    "print(f\"List1: {my_list_23_1}\")\n",
    "print(f\"List2: {my_list_23_2}\")\n",
    "print(f\"Marge two list: {new_list}\")"
   ]
  },
  {
   "cell_type": "code",
   "execution_count": null,
   "id": "651b6cc8-f1fc-4db9-996f-73671f4ec8e4",
   "metadata": {},
   "outputs": [],
   "source": []
  },
  {
   "cell_type": "markdown",
   "id": "db69704c-64a9-41e7-940f-5a2ca70ba387",
   "metadata": {},
   "source": [
    "24. Multiply all elements in a list by 2.\n"
   ]
  },
  {
   "cell_type": "code",
   "execution_count": 74,
   "id": "da541458-93d1-497a-a838-c9da40e76452",
   "metadata": {},
   "outputs": [
    {
     "name": "stdout",
     "output_type": "stream",
     "text": [
      "Multiply all elements by 2: [2, 4, 6, 8, 10, 12, 14, 16, 18, 20]\n"
     ]
    }
   ],
   "source": [
    "my_list_24 = [i*2 for i in range(1,11)]\n",
    "print(f\"Multiply all elements by 2: {my_list_24}\")"
   ]
  },
  {
   "cell_type": "code",
   "execution_count": null,
   "id": "b8f3cfc2-f8f2-4a15-9c60-73277753bb60",
   "metadata": {},
   "outputs": [],
   "source": []
  },
  {
   "cell_type": "markdown",
   "id": "dd8f2dd6-89b7-46b6-b258-a57ba85ac386",
   "metadata": {},
   "source": [
    "25. Filter out all even numbers from a list."
   ]
  },
  {
   "cell_type": "code",
   "execution_count": 75,
   "id": "626b13ee-693c-42e6-80a4-d953b4fb3ed4",
   "metadata": {},
   "outputs": [
    {
     "name": "stdout",
     "output_type": "stream",
     "text": [
      "Original List: [70, 35, 62, 62, 31, 21, 54, 63, 65, 83, 37, 88, 82, 94, 35, 100, 71, 36, 20]\n",
      "even number List: [70, 62, 62, 54, 88, 82, 94, 100, 36, 20]\n"
     ]
    }
   ],
   "source": [
    "import random\n",
    "my_list_25 = [random.randint(20,100) for _ in range(1,20)]\n",
    "even_number_list = [i for i in my_list_25 if i%2==0]\n",
    "\n",
    "print(f\"Original List: {my_list_25}\")\n",
    "print(f\"even number List: {even_number_list}\")"
   ]
  },
  {
   "cell_type": "code",
   "execution_count": null,
   "id": "cd478283-b7d5-4065-ae7c-8baa092b4477",
   "metadata": {},
   "outputs": [],
   "source": []
  },
  {
   "cell_type": "markdown",
   "id": "5e9002aa-32d2-489b-abd4-2300170a2823",
   "metadata": {},
   "source": [
    "26. Convert a list of strings to a list of integers.\n"
   ]
  },
  {
   "cell_type": "code",
   "execution_count": 76,
   "id": "359084f3-6a02-44bf-9ddb-8e8fb13d22a6",
   "metadata": {},
   "outputs": [
    {
     "name": "stdout",
     "output_type": "stream",
     "text": [
      "Original list: ['1', '2', '3', '4', '5', '6', '7', '8', '9', '10']\n",
      "Converted to integer list: [1, 2, 3, 4, 5, 6, 7, 8, 9, 10]\n"
     ]
    }
   ],
   "source": [
    "my_list_26 = [str(i) for i in range(1,11)]\n",
    "convert_to_int = [int(i) for i in my_list_26]\n",
    "print(f\"Original list: {my_list_26}\")\n",
    "print(f\"Converted to integer list: {convert_to_int}\")"
   ]
  },
  {
   "cell_type": "code",
   "execution_count": null,
   "id": "8e4a6226-53c9-4a2a-9410-df23b04b5ef9",
   "metadata": {},
   "outputs": [],
   "source": []
  },
  {
   "cell_type": "markdown",
   "id": "079b91f8-82d9-4806-a76e-20e357316a86",
   "metadata": {},
   "source": [
    "27. Convert a list of integers to a list of strings.\n"
   ]
  },
  {
   "cell_type": "code",
   "execution_count": 77,
   "id": "10560fa4-44fb-4b66-9790-d34a15896c65",
   "metadata": {},
   "outputs": [
    {
     "name": "stdout",
     "output_type": "stream",
     "text": [
      "Original list: [1, 2, 3, 4, 5, 6, 7, 8, 9, 10]\n",
      "Converted to string list: ['1', '2', '3', '4', '5', '6', '7', '8', '9', '10']\n"
     ]
    }
   ],
   "source": [
    "my_list_27 = [i for i in range(1,11)]\n",
    "convert_to_str = [str(i) for i in my_list_27]\n",
    "print(f\"Original list: {my_list_27}\")\n",
    "print(f\"Converted to string list: {convert_to_str}\")"
   ]
  },
  {
   "cell_type": "code",
   "execution_count": null,
   "id": "413207e5-d982-4d20-8cc5-136254a1c6bf",
   "metadata": {},
   "outputs": [],
   "source": []
  },
  {
   "cell_type": "markdown",
   "id": "47b703cc-697c-4831-9276-25eb85624ce9",
   "metadata": {},
   "source": [
    "28. Flatten a nested list."
   ]
  },
  {
   "cell_type": "code",
   "execution_count": 78,
   "id": "bf6b65d2-c41f-4184-afff-9aa4a026ff0e",
   "metadata": {},
   "outputs": [
    {
     "name": "stdout",
     "output_type": "stream",
     "text": [
      "Nested List: [[1, 2, 3], [4, 5], [6, 7, 8, 9]]\n",
      "Flatten List: [1, 2, 3, 4, 5, 6, 7, 8, 9]\n"
     ]
    }
   ],
   "source": [
    "nested_list = [[1, 2, 3], [4, 5], [6, 7, 8, 9]]\n",
    "def flatten_list(nested_list):\n",
    "    new_list = []\n",
    "    for i in nested_list:\n",
    "        new_list.extend(i)\n",
    "    return new_list\n",
    "list1 = flatten_list(nested_list)\n",
    "print(f\"Nested List: {nested_list}\")\n",
    "print(f\"Flatten List: {list1}\")"
   ]
  },
  {
   "cell_type": "code",
   "execution_count": null,
   "id": "046363b7-61d2-4763-8a49-c1bcdd8e47eb",
   "metadata": {},
   "outputs": [],
   "source": []
  },
  {
   "cell_type": "markdown",
   "id": "cb0bb3ab-0706-4d7c-b2e9-0168faaa79a5",
   "metadata": {},
   "source": [
    "29. Create a list of the first 10 Fibonacci numbers.\n"
   ]
  },
  {
   "cell_type": "code",
   "execution_count": 79,
   "id": "ede2cd65-8546-447a-aa4a-b8211455e712",
   "metadata": {},
   "outputs": [
    {
     "name": "stdout",
     "output_type": "stream",
     "text": [
      "List of 10 fibonacci numbers are : [0, 1, 1, 2, 3, 5, 8, 13, 21, 34]\n"
     ]
    }
   ],
   "source": [
    "def fib_sequence_2(n):\n",
    "    if n<=0:\n",
    "        return []\n",
    "    elif n==1:\n",
    "        return [0]\n",
    "    elif n==2:\n",
    "        return [0,1]\n",
    "    else:\n",
    "        result_2 = fib_sequence_2(n-1);\n",
    "        result_2.append(result_2[-1]+result_2[-2])\n",
    "        return result_2\n",
    "\n",
    "my_list_29=fib_sequence_2(10)\n",
    "print(f\"List of 10 fibonacci numbers are : {my_list_29}\")"
   ]
  },
  {
   "cell_type": "code",
   "execution_count": null,
   "id": "f09ab298-add5-405a-a2c7-a0b1c890b9a2",
   "metadata": {},
   "outputs": [],
   "source": []
  },
  {
   "cell_type": "markdown",
   "id": "d4cd7158-6c21-43cc-965f-612e68dab513",
   "metadata": {},
   "source": [
    "30. Check if a list is sorted.\n"
   ]
  },
  {
   "cell_type": "code",
   "execution_count": 80,
   "id": "537e7083-cba2-41a3-8b56-af37e9a845ad",
   "metadata": {},
   "outputs": [
    {
     "name": "stdout",
     "output_type": "stream",
     "text": [
      "Given list is sorted list\n"
     ]
    }
   ],
   "source": [
    "# my_list_30 = [23, 33, 70, 51, 37, 67, 62, 27, 86, 51, 82, 79, 82, 78, 63, 56, 59, 86, 96]\n",
    "my_list_30 =[1, 2, 3, 4, 5, 6, 7, 8, 9]\n",
    "\n",
    "def is_sorted_list(my_list):\n",
    "    for i in range(1,len(my_list)):\n",
    "        if my_list[i] < my_list[i-1]:\n",
    "            return False\n",
    "    return True\n",
    "\n",
    "if is_sorted_list(my_list_30):\n",
    "    print(\"Given list is sorted list\")\n",
    "else:\n",
    "    print(\"Given list is not sorted\")\n",
    "\n"
   ]
  },
  {
   "cell_type": "code",
   "execution_count": null,
   "id": "d1f930af-9ea7-4d25-a822-faa7c7c68958",
   "metadata": {},
   "outputs": [],
   "source": []
  },
  {
   "cell_type": "markdown",
   "id": "5a8acd17-f2d5-4496-8f89-fd6ccfc4ef43",
   "metadata": {},
   "source": [
    "31. Rotate a list to the left by `n` positions.\n"
   ]
  },
  {
   "cell_type": "code",
   "execution_count": 81,
   "id": "bb01b951-c2e6-4b57-8185-5adbd0354938",
   "metadata": {},
   "outputs": [
    {
     "name": "stdout",
     "output_type": "stream",
     "text": [
      "Original List: [1, 2, 3, 4, 5, 6, 7, 8, 9]\n",
      "Rotated List: [5, 6, 7, 8, 9, 1, 2, 3, 4]\n"
     ]
    }
   ],
   "source": [
    "def rotate_left(my_list,n):\n",
    "    roted_list = my_list[n:]+my_list[:n]\n",
    "    return roted_list\n",
    "\n",
    "my_list_31 = [1,2,3,4,5,6,7,8,9]\n",
    "n = 4\n",
    "rotated_list = rotate_left(my_list_31,n)\n",
    "print(f\"Original List: {my_list_31}\")\n",
    "print(f\"Rotated List: {rotated_list}\")"
   ]
  },
  {
   "cell_type": "code",
   "execution_count": null,
   "id": "f0b4e32b-7e71-46fe-9f06-39a07a097863",
   "metadata": {},
   "outputs": [],
   "source": []
  },
  {
   "cell_type": "markdown",
   "id": "75fac149-6338-4eee-b35e-5992c7fa6827",
   "metadata": {},
   "source": [
    "32. Rotate a list to the right by `n` positions.\n"
   ]
  },
  {
   "cell_type": "code",
   "execution_count": 82,
   "id": "476b1a66-9897-46d9-8315-e98285f2c27b",
   "metadata": {},
   "outputs": [
    {
     "name": "stdout",
     "output_type": "stream",
     "text": [
      "Original List: [1, 2, 3, 4, 5, 6, 7, 8, 9]\n",
      "Rotated List: [8, 9, 1, 2, 3, 4, 5, 6, 7]\n"
     ]
    }
   ],
   "source": [
    "def rotate_right(my_list,n):\n",
    "    roted_list = my_list[-n:]+my_list[:-n]\n",
    "    return roted_list\n",
    "\n",
    "my_list_32 = [1,2,3,4,5,6,7,8,9]\n",
    "n_2 = 2\n",
    "rotated_list_2 = rotate_right(my_list_32,n_2)\n",
    "print(f\"Original List: {my_list_32}\")\n",
    "print(f\"Rotated List: {rotated_list_2}\")"
   ]
  },
  {
   "cell_type": "code",
   "execution_count": null,
   "id": "2dbae0f8-682f-4a4f-a09a-0aaa5bce9123",
   "metadata": {},
   "outputs": [],
   "source": []
  },
  {
   "cell_type": "markdown",
   "id": "609170c4-3759-4b3a-a8a9-a28c6bde3576",
   "metadata": {},
   "source": [
    "33. Create a list of prime numbers up to 50."
   ]
  },
  {
   "cell_type": "code",
   "execution_count": 85,
   "id": "7682f366-2b71-42f0-803a-50db735931f7",
   "metadata": {},
   "outputs": [
    {
     "data": {
      "text/plain": [
       "[2, 3, 5, 7, 11, 13, 17, 19, 23, 29, 31, 37, 41, 43, 47]"
      ]
     },
     "execution_count": 85,
     "metadata": {},
     "output_type": "execute_result"
    }
   ],
   "source": [
    "def is_prime(n):\n",
    "    if n<=1:\n",
    "        return False\n",
    "    elif n<=3:\n",
    "        return True\n",
    "    elif n%2==0 or n%3==0:\n",
    "        return False\n",
    "\n",
    "    i=5\n",
    "    while i*i<=n:\n",
    "        if n%i == 0 or n%(i+2)==0:\n",
    "            return False\n",
    "        i+=6\n",
    "    return True\n",
    "\n",
    "my_list_33 = [i for i in range(1,51) if is_prime(i)]\n",
    "my_list_33"
   ]
  },
  {
   "cell_type": "code",
   "execution_count": 88,
   "id": "77e5cf8a-8065-402f-830f-05c397a4a759",
   "metadata": {},
   "outputs": [
    {
     "name": "stdout",
     "output_type": "stream",
     "text": [
      "[[1, 2, 3], [4, 5, 6], [7, 8, 9], [10]]\n"
     ]
    }
   ],
   "source": [
    "def chunk_list(input_list, chunk_size):\n",
    "    return [input_list[i:i + chunk_size] for i in range(0, len(input_list), chunk_size)]\n",
    "\n",
    "# Example list\n",
    "my_list = [1, 2, 3, 4, 5, 6, 7, 8, 9, 10]\n",
    "\n",
    "# Split the list into chunks of size 3\n",
    "chunked_list = chunk_list(my_list, 3)\n",
    "\n",
    "print(chunked_list)\n"
   ]
  },
  {
   "cell_type": "code",
   "execution_count": null,
   "id": "e3c9e8fa-1f56-4d86-801e-e9ca9ecc8362",
   "metadata": {},
   "outputs": [],
   "source": []
  },
  {
   "cell_type": "markdown",
   "id": "1a7444e2-0c89-4944-9131-980c47bfa6ef",
   "metadata": {},
   "source": [
    "35. Find the second largest number in a list."
   ]
  },
  {
   "cell_type": "code",
   "execution_count": 4,
   "id": "9ec64f7f-8d70-4192-8e41-30dadfff7e6e",
   "metadata": {},
   "outputs": [
    {
     "name": "stdout",
     "output_type": "stream",
     "text": [
      "Second Largest Number is 9\n"
     ]
    }
   ],
   "source": [
    "my_list_35 = [1, 2, 3, 4, 5, 6, 7, 8, 9, 10]\n",
    "second_largest_number = sorted(my_list_35, reverse=True)[1]\n",
    "print(f\"Second Largest Number is {second_largest_number}\")"
   ]
  },
  {
   "cell_type": "code",
   "execution_count": null,
   "id": "475c3479-c1ec-4513-a2ee-4797c00f6e7c",
   "metadata": {},
   "outputs": [],
   "source": []
  },
  {
   "cell_type": "markdown",
   "id": "b4e74a1a-bf73-44d7-a547-552f4eb3479f",
   "metadata": {},
   "source": [
    "36. Replace every element in a list with its square"
   ]
  },
  {
   "cell_type": "code",
   "execution_count": 8,
   "id": "1f0b5ed4-e6fa-4bae-b9c7-91cef30a5912",
   "metadata": {},
   "outputs": [
    {
     "name": "stdout",
     "output_type": "stream",
     "text": [
      "Replace every element in a list with its square: [1, 4, 9, 16, 25, 36, 49, 64, 81, 100]\n"
     ]
    }
   ],
   "source": [
    "my_list_36 = [1, 2, 3, 4, 5, 6, 7, 8, 9, 10]\n",
    "for i in range(len(my_list_36)):\n",
    "    my_list_36[i] = my_list_36[i]**2\n",
    "\n",
    "\n",
    "print(f\"Replace every element in a list with its square: {my_list_36}\")"
   ]
  },
  {
   "cell_type": "code",
   "execution_count": null,
   "id": "035a4412-e563-4194-9e6c-aa3415da8ea4",
   "metadata": {},
   "outputs": [],
   "source": []
  },
  {
   "cell_type": "markdown",
   "id": "b973c1c6-dbfb-4785-810e-6d40f12a6b5f",
   "metadata": {},
   "source": [
    "37. Convert a list to a dictionary where list elements become keys and their\n",
    "indices become values.\n"
   ]
  },
  {
   "cell_type": "code",
   "execution_count": 10,
   "id": "06c9140f-470a-40f9-a99f-d8f2b111692a",
   "metadata": {},
   "outputs": [
    {
     "name": "stdout",
     "output_type": "stream",
     "text": [
      "{1: 0, 2: 1, 3: 2, 4: 3, 5: 4, 6: 5, 7: 6, 8: 7, 9: 8, 10: 9}\n"
     ]
    }
   ],
   "source": [
    "my_list_37 = [1, 2, 3, 4, 5, 6, 7, 8, 9, 10]\n",
    "\n",
    "def list_to_dict(my_list):\n",
    "    my_dict = {}\n",
    "    for i in range(len(my_list)):\n",
    "        my_dict[my_list[i]] = i\n",
    "    return my_dict\n",
    "\n",
    "result = list_to_dict(my_list_37)\n",
    "print(result)"
   ]
  },
  {
   "cell_type": "code",
   "execution_count": null,
   "id": "249b3783-80eb-4ee6-82fb-94de717555a2",
   "metadata": {},
   "outputs": [],
   "source": []
  },
  {
   "cell_type": "markdown",
   "id": "7be2b3ce-430b-457b-9d7a-8bc9b94bdee2",
   "metadata": {},
   "source": [
    "38. Shuffle the elements of a list randomly."
   ]
  },
  {
   "cell_type": "code",
   "execution_count": 16,
   "id": "ae046f40-8270-4169-ab41-ad9d6d7b6072",
   "metadata": {},
   "outputs": [
    {
     "name": "stdout",
     "output_type": "stream",
     "text": [
      "Suffle List: [5, 9, 4, 6, 3, 7, 1, 8, 10, 2]\n"
     ]
    }
   ],
   "source": [
    "import random\n",
    "my_list_38 = [1, 2, 3, 4, 5, 6, 7, 8, 9, 10]\n",
    "# new_list = random.shuffle(my_list_38)\n",
    "# new_list\n",
    "random.shuffle(my_list_38)\n",
    "print(f\"Suffle List: {my_list_38}\")"
   ]
  },
  {
   "cell_type": "code",
   "execution_count": null,
   "id": "6fa2b8c9-e41a-42b0-9b66-4cec7bcd1480",
   "metadata": {},
   "outputs": [],
   "source": []
  },
  {
   "cell_type": "markdown",
   "id": "a4059697-886d-4a18-ad57-e70b242144c0",
   "metadata": {},
   "source": [
    "39. Create a list of the first 10 factorial numbers.\n"
   ]
  },
  {
   "cell_type": "code",
   "execution_count": 20,
   "id": "14a8b548-3d79-4a80-8423-ddc62b30cf1d",
   "metadata": {},
   "outputs": [
    {
     "name": "stdout",
     "output_type": "stream",
     "text": [
      "list of the first 10 factorial numbers : [1, 1, 2, 6, 24, 120, 720, 5040, 40320, 362880]\n"
     ]
    }
   ],
   "source": [
    "def factorial(num):\n",
    "    if num == 0:\n",
    "        return 1\n",
    "    else:\n",
    "        return num*factorial(num-1)\n",
    "\n",
    "my_list_39 = [factorial(i) for i in range(10)]\n",
    "print(f\"list of the first 10 factorial numbers : {my_list_39}\")"
   ]
  },
  {
   "cell_type": "code",
   "execution_count": null,
   "id": "ee59c446-1ef1-4b52-8afb-ea24f2e78434",
   "metadata": {},
   "outputs": [],
   "source": []
  },
  {
   "cell_type": "markdown",
   "id": "eb90f204-63c5-4ac6-ae66-dab04be41390",
   "metadata": {},
   "source": [
    "40. Check if two lists have at least one element in common.\n"
   ]
  },
  {
   "cell_type": "code",
   "execution_count": 1,
   "id": "6b4ce330-72d1-4949-a659-273a546c685a",
   "metadata": {},
   "outputs": [
    {
     "name": "stdout",
     "output_type": "stream",
     "text": [
      "two list has common element\n"
     ]
    }
   ],
   "source": [
    "def check_common_elem(list1, list2):\n",
    "    has_common_elem = False\n",
    "    for i in range(len(list1)):\n",
    "        for j in range(len(list2)):\n",
    "            if list1[i]==list2[j]:\n",
    "                has_common_elem = True\n",
    "    # print(has_common_elem)\n",
    "    if has_common_elem:\n",
    "        print(f\"two list has common element\")\n",
    "    else:\n",
    "        print(f\"two list has no common element\")\n",
    "\n",
    "list1 = [10,20,5,3,2,1]\n",
    "list2 = [101,1202,53,32,2,12]\n",
    "check_common_elem(list1, list2)"
   ]
  },
  {
   "cell_type": "markdown",
   "id": "48ee8b08-3077-4828-8661-3aedbd13e0c9",
   "metadata": {},
   "source": [
    "41. Remove all elements from a list."
   ]
  },
  {
   "cell_type": "code",
   "execution_count": 8,
   "id": "8bca74e7-f6b2-4cfa-bd79-e8619ec119ea",
   "metadata": {},
   "outputs": [
    {
     "name": "stdout",
     "output_type": "stream",
     "text": [
      "[]\n"
     ]
    }
   ],
   "source": [
    "list1 = [10,20,5,3,2,1]\n",
    "list1.clear()\n",
    "print(list1)"
   ]
  },
  {
   "cell_type": "markdown",
   "id": "d608cf53-cced-492a-912a-968ee3048aba",
   "metadata": {},
   "source": [
    "42. Replace negative numbers in a list with 0.\n"
   ]
  },
  {
   "cell_type": "code",
   "execution_count": 10,
   "id": "539c6348-d032-4987-b43c-2af3004678e9",
   "metadata": {},
   "outputs": [
    {
     "name": "stdout",
     "output_type": "stream",
     "text": [
      "[10, 0, 5, 3, 0, 1]\n"
     ]
    }
   ],
   "source": [
    "list1 = [10,-20,5,3,-2,1]\n",
    "def change_negative_value(list):\n",
    "    for i in range(len(list)):\n",
    "        if(list[i]<0):\n",
    "            list[i]=0\n",
    "\n",
    "    return list\n",
    "res = change_negative_value(list1)\n",
    "print(res)"
   ]
  },
  {
   "cell_type": "markdown",
   "id": "c98eb684-db55-4b5a-9c9f-3160aabb4eb2",
   "metadata": {},
   "source": [
    "43. Convert a string into a list of words."
   ]
  },
  {
   "cell_type": "code",
   "execution_count": 11,
   "id": "76317237-c27e-4e07-ab1f-fa4ba2179146",
   "metadata": {},
   "outputs": [
    {
     "name": "stdout",
     "output_type": "stream",
     "text": [
      "['I', 'love', 'india']\n"
     ]
    }
   ],
   "source": [
    "string = \"I love india\"\n",
    "def convert_to_list(string):\n",
    "    list1 = string.split(\" \")\n",
    "    return list1\n",
    "\n",
    "res = convert_to_list(string)\n",
    "print(res)"
   ]
  },
  {
   "cell_type": "markdown",
   "id": "ecbbe449-0044-46c4-9012-bb5255ca0eba",
   "metadata": {},
   "source": [
    "44. Convert a list of words into a string.\n"
   ]
  },
  {
   "cell_type": "code",
   "execution_count": 12,
   "id": "5857cdd6-ba48-465e-bd06-f419c9cb263d",
   "metadata": {},
   "outputs": [
    {
     "name": "stdout",
     "output_type": "stream",
     "text": [
      "Iloveindia\n"
     ]
    }
   ],
   "source": [
    "list1 = ['I', 'love', 'india']\n",
    "def list_to_string(li):\n",
    "    result =\"\"\n",
    "    for i in list1:\n",
    "        result += \"\".join(i)\n",
    "    return result\n",
    "\n",
    "res = list_to_string(list1)\n",
    "print(res)"
   ]
  },
  {
   "cell_type": "markdown",
   "id": "faaaae99-f792-49e6-853a-e7117504891e",
   "metadata": {},
   "source": [
    "45. Create a list of the first `n` powers of 2.\n"
   ]
  },
  {
   "cell_type": "code",
   "execution_count": 13,
   "id": "7c3013a2-0154-4377-904c-050075ed7c57",
   "metadata": {},
   "outputs": [
    {
     "name": "stdout",
     "output_type": "stream",
     "text": [
      "[2, 4, 8, 16, 32, 64, 128, 256, 512, 1024, 2048, 4096, 8192, 16384, 32768]\n",
      "[2, 4, 8, 16, 32, 64]\n"
     ]
    }
   ],
   "source": [
    "def tow_powers(n):\n",
    "    list1= []\n",
    "    for i in range(1,n+1):\n",
    "        list1.append(2**i)\n",
    "    return list1\n",
    "\n",
    "res = tow_powers(15)\n",
    "print(res)\n",
    "\n",
    "\n",
    "# using list comprehension\n",
    "n=6\n",
    "result = [2**i for i in range(1,n+1)]\n",
    "print(result)"
   ]
  },
  {
   "cell_type": "markdown",
   "id": "cd0d6ff8-0011-4e27-bf74-2dde19f686aa",
   "metadata": {},
   "source": [
    "46. Find the longest string in a list of strings."
   ]
  },
  {
   "cell_type": "code",
   "execution_count": 15,
   "id": "c8492f3f-cc08-49e0-909e-18926ca189e6",
   "metadata": {},
   "outputs": [
    {
     "name": "stdout",
     "output_type": "stream",
     "text": [
      "Longest String is : barddhaman.\n"
     ]
    }
   ],
   "source": [
    "list1 = ['Hi', 'I', 'am', 'Sayantan.', 'I', 'live', 'in', 'barddhaman.', 'I', 'love', 'India']\n",
    "\n",
    "def longest_string(li):\n",
    "    long_string = \"\"\n",
    "    for i in range(len(li)):\n",
    "        if(len(li[i])>len(long_string)):\n",
    "            long_string = li[i]\n",
    "    return long_string\n",
    "\n",
    "res = longest_string(list1)\n",
    "print(f\"Longest String is : {res}\")"
   ]
  },
  {
   "cell_type": "markdown",
   "id": "017556bf-d5c7-4a45-948d-7cdb6daf1969",
   "metadata": {},
   "source": [
    "Find the shortest string in a list of strings.\n"
   ]
  },
  {
   "cell_type": "code",
   "execution_count": 18,
   "id": "86357634-4a31-43b1-9178-1b8cf2fcbc25",
   "metadata": {},
   "outputs": [
    {
     "name": "stdout",
     "output_type": "stream",
     "text": [
      "Shortest string is : I\n"
     ]
    }
   ],
   "source": [
    "list1 = ['Hi', 'I', 'am', 'Sayantan.', 'I', 'live', 'in', 'barddhaman.', 'I', 'love', 'India']\n",
    "\n",
    "def shortest_string(li):\n",
    "    short_string = \"\"\n",
    "    if(len(li)>0):\n",
    "        short_string=li[0]\n",
    "    for i in range(len(li)):\n",
    "        if(len(li[i])<len(short_string)):\n",
    "            short_string = li[i]\n",
    "    return short_string\n",
    "    \n",
    "\n",
    "res = shortest_string(list1)\n",
    "print(f\"Shortest string is : {res}\")"
   ]
  },
  {
   "cell_type": "markdown",
   "id": "6f613953-1a48-49ea-b468-597a4f396264",
   "metadata": {},
   "source": [
    "48. Create a list of the first `n` triangular numbers.\n"
   ]
  },
  {
   "cell_type": "code",
   "execution_count": 23,
   "id": "f6cb6d5d-7c67-461e-895e-61586cbd8d7a",
   "metadata": {},
   "outputs": [
    {
     "name": "stdout",
     "output_type": "stream",
     "text": [
      "[1, 3, 6, 10, 15]\n"
     ]
    }
   ],
   "source": [
    "def print_triangular_number(n):\n",
    "    triangular_number_list = []\n",
    "    for i in range(1,n+1):\n",
    "        number = (i*(i+1))//2\n",
    "        triangular_number_list.append(number)\n",
    "    return triangular_number_list\n",
    "\n",
    "res = print_triangular_number(5)\n",
    "print(res)"
   ]
  },
  {
   "cell_type": "markdown",
   "id": "09a5426c-93b7-4bfa-95df-fdfd823f039e",
   "metadata": {},
   "source": [
    "49. Check if a list contains another list as a subsequence.\n"
   ]
  },
  {
   "cell_type": "code",
   "execution_count": 25,
   "id": "f42c0e18-b639-4ed2-a4f6-15965ead5ea0",
   "metadata": {},
   "outputs": [
    {
     "name": "stdout",
     "output_type": "stream",
     "text": [
      "Yes, list is subset of other.\n"
     ]
    }
   ],
   "source": [
    "test_list = [9, 4, 5, 8, 10,5]\n",
    "sub_list = [10, 5]\n",
    "\n",
    "def check_subs_sequence(test_list, sub_list):\n",
    "    flag = 0\n",
    "    if(set(test_list) and set(sub_list) == set(sub_list)):\n",
    "        flag =1\n",
    "    \n",
    "    if flag:\n",
    "        print(\"Yes, list is subset of other.\")\n",
    "    else:\n",
    "        print(\"No, list is subset of other.\")\n",
    "\n",
    "check_subs_sequence(test_list,sub_list)\n"
   ]
  },
  {
   "cell_type": "markdown",
   "id": "f884bd8d-1913-4129-8c3d-5377fd69f916",
   "metadata": {},
   "source": [
    "50. Swap two elements in a list by their indices.\n"
   ]
  },
  {
   "cell_type": "code",
   "execution_count": 28,
   "id": "25f60721-772e-4323-939f-0152822c1e61",
   "metadata": {},
   "outputs": [
    {
     "name": "stdout",
     "output_type": "stream",
     "text": [
      "Original List: [9, 4, 5, 8, 10, 5]\n",
      "After swapping: [9, 8, 5, 4, 10, 5]\n"
     ]
    }
   ],
   "source": [
    "test_list = [9, 4, 5, 8, 10,5]\n",
    "print(f\"Original List: {test_list}\")\n",
    "def swap_list_elem(test_list, index1, index2):\n",
    "    temp = \"\"\n",
    "    a = test_list[index1-1]\n",
    "    b = test_list[index2-1]\n",
    "    temp = a\n",
    "    test_list[index1-1]=b\n",
    "    test_list[index2-1]=temp\n",
    "    return test_list\n",
    "\n",
    "res = swap_list_elem(test_list,2,4)\n",
    "\n",
    "print(f\"After swapping: {res}\")\n"
   ]
  },
  {
   "cell_type": "code",
   "execution_count": null,
   "id": "362ad2c2-de97-4a8f-9e26-e58a2ace2a24",
   "metadata": {},
   "outputs": [],
   "source": []
  },
  {
   "cell_type": "code",
   "execution_count": null,
   "id": "25c5b06d-4895-4542-bb56-7cf2fe772120",
   "metadata": {},
   "outputs": [],
   "source": []
  },
  {
   "cell_type": "markdown",
   "id": "097c0a45-57e9-4b07-afcc-35a4243fdcff",
   "metadata": {},
   "source": [
    "# Tuple Based Practice Problem :"
   ]
  },
  {
   "cell_type": "markdown",
   "id": "9236a7ad-bb02-4aca-89b4-1d8eea002b30",
   "metadata": {},
   "source": [
    "1. Create a tuple with integers from 1 to 5."
   ]
  },
  {
   "cell_type": "code",
   "execution_count": 31,
   "id": "e04e47b1-1165-4e3d-824c-8e4b10636f92",
   "metadata": {},
   "outputs": [
    {
     "name": "stdout",
     "output_type": "stream",
     "text": [
      "-----Create a tuple with integers from 1 to 5.-----\n",
      "\n",
      "(1, 2, 3, 4, 5)\n"
     ]
    }
   ],
   "source": [
    "print(\"-----Create a tuple with integers from 1 to 5.-----\")\n",
    "print()\n",
    "\n",
    "l1=[i for i in range(1,6)]\n",
    "t1=tuple(l1)\n",
    "\n",
    "print(t1)"
   ]
  },
  {
   "cell_type": "markdown",
   "id": "40b999ba-86fa-4da1-9388-7271daa8debf",
   "metadata": {},
   "source": [
    "2. Access the third element of a tuple."
   ]
  },
  {
   "cell_type": "code",
   "execution_count": 32,
   "id": "fed18531-fc81-4d14-82b1-4f3a34615800",
   "metadata": {},
   "outputs": [
    {
     "name": "stdout",
     "output_type": "stream",
     "text": [
      "-----Access the third element of a tuple.-----\n",
      "\n",
      "3rd element of the tuple is 3\n"
     ]
    }
   ],
   "source": [
    "print(\"-----Access the third element of a tuple.-----\")\n",
    "print()\n",
    "\n",
    "l1=[i for i in range(1,6)]\n",
    "t1=tuple(l1)\n",
    "elem = t1[2]\n",
    "\n",
    "print(f\"3rd element of the tuple is {elem}\")"
   ]
  },
  {
   "cell_type": "markdown",
   "id": "93146dc9-072a-4b06-af37-e320b1baa25b",
   "metadata": {},
   "source": [
    "3. Find the length of a tuple without using the `len()` function."
   ]
  },
  {
   "cell_type": "code",
   "execution_count": 33,
   "id": "8b2528e1-401f-40e0-8c75-860261d731f9",
   "metadata": {},
   "outputs": [
    {
     "name": "stdout",
     "output_type": "stream",
     "text": [
      "-----Find the length of a tuple without using the `len()` function.-----\n",
      "\n",
      "Length of tuple is 10\n"
     ]
    }
   ],
   "source": [
    "print(\"-----Find the length of a tuple without using the `len()` function.-----\")\n",
    "print()\n",
    "\n",
    "t1 = (1,2,3,4,5,6,7,8,9,10)\n",
    "def len_of_tuple(t1):\n",
    "    length = 0\n",
    "    for i in range(len(t1)):\n",
    "        length += 1\n",
    "    return length\n",
    "\n",
    "res = len_of_tuple(t1)\n",
    "print(f\"Length of tuple is {res}\")"
   ]
  },
  {
   "cell_type": "markdown",
   "id": "bc8a024a-bdd0-4789-8687-7964c3c095f4",
   "metadata": {},
   "source": [
    "4. Count the occurrences of an element in a tuple.\n"
   ]
  },
  {
   "cell_type": "code",
   "execution_count": 34,
   "id": "9e2d94d8-d42e-41f2-8790-b0f95df32a36",
   "metadata": {},
   "outputs": [
    {
     "name": "stdout",
     "output_type": "stream",
     "text": [
      "-----Count the occurrences of an element in a tuple.-----\n",
      "\n",
      "In the given tuple the occurence of 5 is 2\n"
     ]
    }
   ],
   "source": [
    "print(\"-----Count the occurrences of an element in a tuple.-----\")\n",
    "print()\n",
    "\n",
    "t1 = (1,2,3,5,10,4,5,6,7,8,9,10)\n",
    "def count_occurences(tuple, elem):\n",
    "    occurence = 0\n",
    "    for i in range(len(tuple)):\n",
    "        if(tuple[i]==elem):\n",
    "            occurence +=1\n",
    "    return f\"In the given tuple the occurence of {elem} is {occurence}\"\n",
    "\n",
    "res = count_occurences(t1,5)\n",
    "print(res)"
   ]
  },
  {
   "cell_type": "markdown",
   "id": "b57c98f6-c6a7-47e7-9ce3-ac569856054a",
   "metadata": {},
   "source": [
    "5. Find the index of the first occurrence of an element in a tuple."
   ]
  },
  {
   "cell_type": "code",
   "execution_count": 9,
   "id": "1a49c3fe-4976-4db5-85b9-27cbb17f9d9c",
   "metadata": {},
   "outputs": [
    {
     "name": "stdout",
     "output_type": "stream",
     "text": [
      "-----Find the index of the first occurrence of an element in a tuple.-----\n",
      "\n",
      "The element 4 at the index of 3\n"
     ]
    }
   ],
   "source": [
    "print('-----Find the index of the first occurrence of an element in a tuple.-----')\n",
    "print()\n",
    "\n",
    "t1 = (1,2,3,4,5,6,2,3,4,12)\n",
    "\n",
    "def find_tuple_element(tuple, find_elem):\n",
    "    index = -1\n",
    "    for i in range(len(tuple)):\n",
    "        if tuple[i] == find_elem:\n",
    "            index = i\n",
    "            break\n",
    "    \n",
    "    if index != -1:\n",
    "        return f\"The element {find_elem} at the index of {index}\"\n",
    "    else:\n",
    "        return f\"Element {find_elem} is not found\"\n",
    "\n",
    "\n",
    "result = find_tuple_element(t1,4)\n",
    "print(result)"
   ]
  },
  {
   "cell_type": "markdown",
   "id": "78af4952-bad1-4f1d-ac77-edbe80910c0f",
   "metadata": {},
   "source": [
    "6. Check if an element exists in a tuple.\n"
   ]
  },
  {
   "cell_type": "code",
   "execution_count": 10,
   "id": "d906382f-f7c3-489e-87e2-c2bf2821bbaf",
   "metadata": {},
   "outputs": [
    {
     "name": "stdout",
     "output_type": "stream",
     "text": [
      "-----Check if an element exists in a tuple.-----\n",
      "\n",
      "Element 1 is exist in your tuple\n"
     ]
    }
   ],
   "source": [
    "print('-----Check if an element exists in a tuple.-----')\n",
    "print()\n",
    "\n",
    "t1 = (1,2,3,4,5,6,2,3,4,12)\n",
    "\n",
    "def is_exist_elem(tuple, elem):\n",
    "    is_found = False\n",
    "    for i in range(len(tuple)):\n",
    "        if tuple[i] == elem:\n",
    "            is_found = True\n",
    "            break\n",
    "    \n",
    "    if is_found:\n",
    "        return f\"Element {elem} is exist in your tuple\"\n",
    "    else:\n",
    "        return f\"Element {elem} is not exist in your tuple\"\n",
    "    \n",
    "\n",
    "result = is_exist_elem(t1,1)\n",
    "print(result)"
   ]
  },
  {
   "cell_type": "markdown",
   "id": "c5de412c-dd94-4f4c-b83c-2cf8063b91bf",
   "metadata": {},
   "source": [
    "7. Convert a tuple to a list.\n"
   ]
  },
  {
   "cell_type": "code",
   "execution_count": 11,
   "id": "04163226-3360-461b-92cd-ad122a408cdc",
   "metadata": {},
   "outputs": [
    {
     "name": "stdout",
     "output_type": "stream",
     "text": [
      "-----Convert a tuple to a list.-----\n",
      "\n",
      "[1, 2, 3, 4, 5, 6, 2, 3, 4, 12]\n"
     ]
    }
   ],
   "source": [
    "print('-----Convert a tuple to a list.-----')\n",
    "print()\n",
    "\n",
    "t1 = (1,2,3,4,5,6,2,3,4,12)\n",
    "\n",
    "def convert_tuple_to_list(tuple):\n",
    "    return list(tuple)\n",
    "    \n",
    "\n",
    "result = convert_tuple_to_list(t1)\n",
    "print(result)"
   ]
  },
  {
   "cell_type": "markdown",
   "id": "83adb9a4-0948-4f57-a8a6-8b35937a5cb1",
   "metadata": {},
   "source": [
    "8. Convert a list to a tuple.\n"
   ]
  },
  {
   "cell_type": "code",
   "execution_count": 12,
   "id": "7681763b-abae-4129-bb44-fd7382c3f055",
   "metadata": {},
   "outputs": [
    {
     "name": "stdout",
     "output_type": "stream",
     "text": [
      "-----Convert a list to a tuple.-----\n",
      "\n",
      "(1, 2, 3, 4, 5, 6, 2, 3, 4, 12)\n"
     ]
    }
   ],
   "source": [
    "print('-----Convert a list to a tuple.-----')\n",
    "print()\n",
    "\n",
    "l1 = [1,2,3,4,5,6,2,3,4,12]\n",
    "\n",
    "def convert_list_to_tuple(list):\n",
    "    return tuple(list)\n",
    "    \n",
    "\n",
    "result = convert_list_to_tuple(l1)\n",
    "print(result)"
   ]
  },
  {
   "cell_type": "markdown",
   "id": "02002451-9da0-44af-8ecd-7f21ba04eef2",
   "metadata": {},
   "source": [
    "9. Unpack the elements of a tuple into variables."
   ]
  },
  {
   "cell_type": "code",
   "execution_count": 15,
   "id": "4fdf76a3-628d-4247-8ed3-50827cfd793a",
   "metadata": {},
   "outputs": [
    {
     "name": "stdout",
     "output_type": "stream",
     "text": [
      "-----Unpack the elements of a tuple into variables.-----\n",
      "\n",
      "var1 :  1\n",
      "var2 :  2\n",
      "var3 :  3\n",
      "var4 :  4\n"
     ]
    }
   ],
   "source": [
    "print('-----Unpack the elements of a tuple into variables.-----')\n",
    "print()\n",
    "\n",
    "t1 = (1,2,3,4)\n",
    "var1,var2,var3,var4 = t1\n",
    "print(\"var1 : \",var1)\n",
    "print(\"var2 : \",var2)\n",
    "print(\"var3 : \",var3)\n",
    "print(\"var4 : \",var4)"
   ]
  },
  {
   "cell_type": "markdown",
   "id": "abfb604c-0000-41b5-8f64-e65f9b6d7549",
   "metadata": {},
   "source": [
    "10. Create a tuple of even numbers from 1 to 10.\n"
   ]
  },
  {
   "cell_type": "code",
   "execution_count": 16,
   "id": "afd8f354-5b3c-4985-b71c-dccca94da3ed",
   "metadata": {},
   "outputs": [
    {
     "name": "stdout",
     "output_type": "stream",
     "text": [
      "-----Create a tuple of even numbers from 1 to 10.-----\n",
      "\n",
      "(2, 4, 6, 8, 10)\n"
     ]
    }
   ],
   "source": [
    "print('-----Create a tuple of even numbers from 1 to 10.-----')\n",
    "print()\n",
    "\n",
    "def even_number_tuple():\n",
    "    # using list comprehension method to create even number list\n",
    "    my_list = [i for i in range(1,11) if i%2==0]\n",
    "    # then use type conversion to convert list to tuple \n",
    "    my_tuple = tuple(my_list)\n",
    "    # return my tuple\n",
    "    return my_tuple\n",
    "\n",
    "result = even_number_tuple()\n",
    "print(result)\n"
   ]
  },
  {
   "cell_type": "markdown",
   "id": "8ebf88b4-bf7f-4fc1-ac01-162d52a32d1d",
   "metadata": {},
   "source": [
    "11. Create a tuple of odd numbers from 1 to 10."
   ]
  },
  {
   "cell_type": "code",
   "execution_count": 17,
   "id": "0393e243-0d73-40cc-9f5f-586276791470",
   "metadata": {},
   "outputs": [
    {
     "name": "stdout",
     "output_type": "stream",
     "text": [
      "-----Create a tuple of odd numbers from 1 to 10.-----\n",
      "\n",
      "(1, 3, 5, 7, 9)\n"
     ]
    }
   ],
   "source": [
    "print('-----Create a tuple of odd numbers from 1 to 10.-----')\n",
    "print()\n",
    "\n",
    "def odd_number_tuple():\n",
    "    # using list comprehension method to create a odd number list\n",
    "    my_list = [i for i in range(1,11) if i%2!=0]\n",
    "    # use type conversion to convert the list to tuple\n",
    "    my_tuple = tuple(my_list)\n",
    "    # return the result \n",
    "    return my_tuple\n",
    "\n",
    "result = odd_number_tuple()\n",
    "print(result)\n"
   ]
  },
  {
   "cell_type": "markdown",
   "id": "93ed8e97-0202-48df-a025-71d36689e41b",
   "metadata": {},
   "source": [
    "12. Concatenate two tuples.\n"
   ]
  },
  {
   "cell_type": "code",
   "execution_count": 19,
   "id": "186a972c-aa93-4811-9686-6e2300c2de3a",
   "metadata": {},
   "outputs": [
    {
     "name": "stdout",
     "output_type": "stream",
     "text": [
      "-----Concatenate two tuples.-----\n",
      "\n",
      "(2, 4, 6, 8, 10, 2, 4, 6, 8, 10, 101, 102)\n"
     ]
    }
   ],
   "source": [
    "print('-----Concatenate two tuples.-----')\n",
    "print()\n",
    "\n",
    "t1 = (2, 4, 6, 8, 10)\n",
    "t2 = (2, 4, 6, 8, 10,101,102)\n",
    "def concatinate_tuples(tuple1,tuple2):\n",
    "    # using + operator , we can concatinate tow tuple into one\n",
    "    result = tuple1+tuple2\n",
    "    return result\n",
    "\n",
    "result = concatinate_tuples(t1,t2)\n",
    "print(result)\n"
   ]
  },
  {
   "cell_type": "markdown",
   "id": "ade43d98-08c8-40b9-b02d-22424eb0633a",
   "metadata": {},
   "source": [
    "13. Repeat a tuple three times.\n"
   ]
  },
  {
   "cell_type": "code",
   "execution_count": 20,
   "id": "d683ad7a-85b3-488d-8d1b-c3aa5010d6bf",
   "metadata": {},
   "outputs": [
    {
     "name": "stdout",
     "output_type": "stream",
     "text": [
      "-----Repeat a tuple three times.-----\n",
      "\n",
      "(2, 4, 6, 8, 10, 2, 4, 6, 8, 10, 2, 4, 6, 8, 10)\n"
     ]
    }
   ],
   "source": [
    "print('-----Repeat a tuple three times.-----')\n",
    "print()\n",
    "\n",
    "t1 = (2, 4, 6, 8, 10)\n",
    "def repeat_tuples(tuple):\n",
    "    # using * operator we can repeat tuples \n",
    "    result = tuple*3\n",
    "    return result\n",
    "\n",
    "result = repeat_tuples(t1)\n",
    "print(result)\n"
   ]
  },
  {
   "cell_type": "markdown",
   "id": "182b909b-f46a-41af-953a-4758f88406e8",
   "metadata": {},
   "source": [
    "14. Check if a tuple is empty"
   ]
  },
  {
   "cell_type": "code",
   "execution_count": 21,
   "id": "a19551a3-bcd4-413c-b54f-50f55c309cdf",
   "metadata": {},
   "outputs": [
    {
     "name": "stdout",
     "output_type": "stream",
     "text": [
      "-----Check if a tuple is emptys.-----\n",
      "\n",
      "The tuple is empty\n"
     ]
    }
   ],
   "source": [
    "print('-----Check if a tuple is emptys.-----')\n",
    "print()\n",
    "\n",
    "t1 = ()\n",
    "def is_empty_tuple(tuple):\n",
    "    # using len method we can check the length of a tuple .\n",
    "    length = len(tuple)\n",
    "    # using conditional satetment we can check that the tuple has element or not\n",
    "    if length ==0:\n",
    "        return \"The tuple is empty\"\n",
    "    else:\n",
    "        return \"The tuple is not empty\"\n",
    "result = is_empty_tuple(t1)\n",
    "print(result)\n"
   ]
  },
  {
   "cell_type": "markdown",
   "id": "dc66b49a-11fe-4014-865d-a21a08e3ee33",
   "metadata": {},
   "source": [
    "15. Create a nested tuple.\n"
   ]
  },
  {
   "cell_type": "code",
   "execution_count": 23,
   "id": "af6459ec-d7ca-4fda-aafb-f686dbf02386",
   "metadata": {},
   "outputs": [
    {
     "name": "stdout",
     "output_type": "stream",
     "text": [
      "-----Create a nested tuple.-----\n",
      "\n",
      "((1, 2, 3, 4, 5), (2, 3, 4, 56))\n"
     ]
    }
   ],
   "source": [
    "print('-----Create a nested tuple.-----')\n",
    "print()\n",
    "\n",
    "nested_tuple = ((1,2,3,4,5),(2,3,4,56))\n",
    "print(nested_tuple)\n"
   ]
  },
  {
   "cell_type": "markdown",
   "id": "c001c067-0749-4888-a75a-0e549258cf6f",
   "metadata": {},
   "source": [
    "16. Access the first element of a nested tuple."
   ]
  },
  {
   "cell_type": "code",
   "execution_count": 24,
   "id": "5bb3428f-3957-416f-9799-0fd2378272c1",
   "metadata": {},
   "outputs": [
    {
     "name": "stdout",
     "output_type": "stream",
     "text": [
      "-----Create a nested tuple.-----\n",
      "\n",
      "(1, 2, 3, 4, 5)\n"
     ]
    }
   ],
   "source": [
    "print('-----Create a nested tuple.-----')\n",
    "print()\n",
    "\n",
    "nested_tuple = ((1,2,3,4,5),(2,3,4,56))\n",
    "first_element = nested_tuple[0]\n",
    "print(first_element)\n"
   ]
  },
  {
   "cell_type": "markdown",
   "id": "f630114e-d5c5-4ab4-b8a8-42f7a64a32bc",
   "metadata": {},
   "source": [
    "17. Create a tuple with a single element.\n"
   ]
  },
  {
   "cell_type": "code",
   "execution_count": 25,
   "id": "97d2ded1-ab9d-4a3f-a653-bda20d7eee93",
   "metadata": {},
   "outputs": [
    {
     "name": "stdout",
     "output_type": "stream",
     "text": [
      "-----Create a tuple with a single element.-----\n",
      "\n",
      "1\n"
     ]
    }
   ],
   "source": [
    "print('-----Create a tuple with a single element.-----')\n",
    "print()\n",
    "\n",
    "# we can create a tuple to put value in () but if we want a single tuple then we need to add a \",\" after the data. If we not put \",\" then it will return a number datatype not tuple datatype.\n",
    "single_elem_tuple = (1,)\n",
    "print(single_elem_tuple)\n"
   ]
  },
  {
   "cell_type": "markdown",
   "id": "0c6850d8-55f1-46bd-bf41-c5f1797c2cb8",
   "metadata": {},
   "source": [
    "18. Compare two tuples.\n"
   ]
  },
  {
   "cell_type": "code",
   "execution_count": 28,
   "id": "e43003aa-d9ba-43e7-9cd4-ef17f5e9bb2b",
   "metadata": {},
   "outputs": [
    {
     "name": "stdout",
     "output_type": "stream",
     "text": [
      "-----Compare two tuples.-----\n",
      "\n",
      "tuple1==tuple2 ---> False\n",
      "tuple1!=tuple2 ---> True\n",
      "tuple1>tuple2 ---> False\n",
      "tuple1>=tuple2 ---> False\n",
      "tuple1<tuple2 ---> True\n",
      "tuple1<=tuple2 ---> True\n"
     ]
    }
   ],
   "source": [
    "print('-----Compare two tuples.-----')\n",
    "print()\n",
    "\n",
    "t1=(1,2,3)\n",
    "t2=(1,2,5)\n",
    "\n",
    "def compare_tuples(tuple1, tuple2):\n",
    "    # using comparision operator we can compare two tuples\n",
    "    print(f\"tuple1==tuple2 ---> {tuple1==tuple2}\")\n",
    "    print(f\"tuple1!=tuple2 ---> {tuple1!=tuple2}\")\n",
    "    print(f\"tuple1>tuple2 ---> {tuple1>tuple2}\")\n",
    "    print(f\"tuple1>=tuple2 ---> {tuple1>=tuple2}\")\n",
    "    print(f\"tuple1<tuple2 ---> {tuple1<tuple2}\")\n",
    "    print(f\"tuple1<=tuple2 ---> {tuple1<=tuple2}\")\n",
    "\n",
    "compare_tuples(t1,t2)"
   ]
  },
  {
   "cell_type": "markdown",
   "id": "52126b9a-1af9-422e-be8c-5d55e0b69919",
   "metadata": {},
   "source": [
    "19. Delete a tuple.\n"
   ]
  },
  {
   "cell_type": "code",
   "execution_count": null,
   "id": "abae486c-11ea-4ef8-bcae-ade529638db3",
   "metadata": {},
   "outputs": [],
   "source": [
    "print('-----Delete a tuple.-----')\n",
    "print()\n",
    "\n",
    "t1=(1,2,3)\n",
    "print(f\"Before Delete t1 = {t1}\")\n",
    "\n",
    "# using del key word we can delete tuple\n",
    "del t1\n",
    "\n",
    "# after deleting tuple if we try to print t1 , it will throw an error (name error)\n",
    "print(t1)\n",
    "\n"
   ]
  },
  {
   "cell_type": "markdown",
   "id": "b4521644-3c69-4949-b118-2a98130ba7c1",
   "metadata": {},
   "source": [
    "20. Slice a tuple."
   ]
  },
  {
   "cell_type": "code",
   "execution_count": 46,
   "id": "99d40840-5732-4fe6-b502-5f639debbf7a",
   "metadata": {},
   "outputs": [
    {
     "name": "stdout",
     "output_type": "stream",
     "text": [
      "-----Slice a tuple.-----\n",
      "\n",
      "(3, 4, 5)\n"
     ]
    }
   ],
   "source": [
    "print('-----Slice a tuple.-----')\n",
    "print()\n",
    "\n",
    "t1=(1,2,3,4,5,6,7,8,9)\n",
    "# using slicing method we can slice our tuple\n",
    "slice_tuple = t1[2:5]\n",
    "# print result\n",
    "print(slice_tuple)"
   ]
  },
  {
   "cell_type": "markdown",
   "id": "575e76c7-28f6-4b3b-962e-9d7d7eb9e3c8",
   "metadata": {},
   "source": [
    "21. Find the maximum value in a tuple.\n"
   ]
  },
  {
   "cell_type": "code",
   "execution_count": 45,
   "id": "b16ca061-bd1a-4b65-a188-9bf6e0b99f41",
   "metadata": {},
   "outputs": [
    {
     "name": "stdout",
     "output_type": "stream",
     "text": [
      "-----Find the maximum value in a tuple.-----\n",
      "\n",
      "54 is the maximum value in the tuple\n"
     ]
    }
   ],
   "source": [
    "print(\"-----Find the maximum value in a tuple.-----\")\n",
    "print()\n",
    "t1=(1,2,3,4,54,6,7,8,9)\n",
    "def find_maximum(tuple):\n",
    "    # using type conversion we can convert our tuple to list\n",
    "    l1=list(tuple)\n",
    "    # using max() method we can find our max value\n",
    "    max_value = max(l1)\n",
    "    # return result\n",
    "    return f\"{max_value} is the maximum value in the tuple\"\n",
    "\n",
    "result = find_maximum(t1)\n",
    "print(result)"
   ]
  },
  {
   "cell_type": "markdown",
   "id": "5483880a-03e1-4b74-89fe-8c2cf3c57044",
   "metadata": {},
   "source": [
    "22. Find the minimum value in a tuple.\n"
   ]
  },
  {
   "cell_type": "code",
   "execution_count": 35,
   "id": "20802813-c68c-4a73-8ce4-a3620d311d6e",
   "metadata": {},
   "outputs": [
    {
     "name": "stdout",
     "output_type": "stream",
     "text": [
      "-----Find the minimum value in a tuple.-----\n",
      "\n",
      "2 is the minimum value in the list\n"
     ]
    }
   ],
   "source": [
    "print(\"-----Find the minimum value in a tuple.-----\")\n",
    "print()\n",
    "t1=(10,2,3,4,54,6,7,8,9)\n",
    "def find_minimum(tuple):\n",
    "    # using type conversion we can convert our tuple to list\n",
    "    l1=list(tuple)\n",
    "    # using min() method we can find our min value\n",
    "    min_value = min(l1)\n",
    "    # return our result\n",
    "    return f\"{min_value} is the minimum value in the list\"\n",
    "\n",
    "result = find_minimum(t1)\n",
    "print(result)"
   ]
  },
  {
   "cell_type": "markdown",
   "id": "7ddef227-30ff-4c30-89d4-8bd8c70f24ff",
   "metadata": {},
   "source": [
    "23. Convert a string to a tuple of characters"
   ]
  },
  {
   "cell_type": "code",
   "execution_count": 43,
   "id": "d47ef61e-5d28-4577-9f7c-215095d63acd",
   "metadata": {},
   "outputs": [
    {
     "name": "stdout",
     "output_type": "stream",
     "text": [
      "-----Convert a string to a tuple of characters-----\n",
      "\n",
      "('I', 'n', 'd', 'i', 'a')\n"
     ]
    }
   ],
   "source": [
    "print(\"-----Convert a string to a tuple of characters-----\")\n",
    "print()\n",
    "\n",
    "def convert_string_to_tuple(string):\n",
    "    # using type conversion we can convert a string to list\n",
    "    l1 = list(string)\n",
    "    # again using type conversion we can convert list to tuple\n",
    "    t1 = tuple(l1)\n",
    "    # return result\n",
    "    return t1\n",
    "result = convert_string_to_tuple(\"India\")\n",
    "print(result)"
   ]
  },
  {
   "cell_type": "markdown",
   "id": "4791f596-630c-4762-8c6f-99f2a92ec605",
   "metadata": {},
   "source": [
    "24. Convert a tuple of characters to a string."
   ]
  },
  {
   "cell_type": "code",
   "execution_count": 42,
   "id": "a111a91b-0a00-42bc-8a09-927666b1561a",
   "metadata": {},
   "outputs": [
    {
     "name": "stdout",
     "output_type": "stream",
     "text": [
      "-----Convert a tuple of characters to a string.-----\n",
      "\n",
      "India\n"
     ]
    }
   ],
   "source": [
    "print(\"-----Convert a tuple of characters to a string.-----\")\n",
    "print()\n",
    "def convert_tuple_to_string(tuple):\n",
    "    # using type conversion we can convert our tuple to list\n",
    "    l1 = list(tuple)\n",
    "    # using join() method we can join out iterable object to a string\n",
    "    string = \"\".join(l1)\n",
    "    # return our result\n",
    "    return string\n",
    "t1=('I', 'n', 'd', 'i', 'a')\n",
    "result = convert_tuple_to_string(t1)\n",
    "print(result)"
   ]
  },
  {
   "cell_type": "markdown",
   "id": "136a568a-761d-4c75-90b3-20cdcebc876f",
   "metadata": {},
   "source": [
    "25. Create a tuple from multiple data types."
   ]
  },
  {
   "cell_type": "code",
   "execution_count": 38,
   "id": "2b24a36f-5573-407e-a812-3d5220eb8ad6",
   "metadata": {},
   "outputs": [
    {
     "name": "stdout",
     "output_type": "stream",
     "text": [
      "-----Create a tuple from multiple data types.-----\n",
      "\n",
      "(1, 2, 3, 'India', [1, 2, 3, 43], (2+5j))\n"
     ]
    }
   ],
   "source": [
    "print(\"-----Create a tuple from multiple data types.-----\")\n",
    "print()\n",
    "\n",
    "my_tuple = (1,2,3,\"India\",[1,2,3,43],(2+5j))\n",
    "print(my_tuple)"
   ]
  },
  {
   "cell_type": "markdown",
   "id": "ac6c3ebd-43fc-4ff4-9b6a-c53ab0e005cc",
   "metadata": {},
   "source": [
    "26. Check if two tuples are identical."
   ]
  },
  {
   "cell_type": "code",
   "execution_count": 41,
   "id": "71555480-5578-4aa7-88b8-2db3459c45ac",
   "metadata": {},
   "outputs": [
    {
     "name": "stdout",
     "output_type": "stream",
     "text": [
      "-----Check if two tuples are identical.-----\n",
      "\n",
      "t1=t2 True\n"
     ]
    }
   ],
   "source": [
    "print(\"-----Check if two tuples are identical.-----\")\n",
    "print()\n",
    "# take two tuple \n",
    "t1 = (1,2,3)\n",
    "t2 = (1,2,3)\n",
    "\n",
    "# using comparision operator we can check that two tuples are equal or not\n",
    "are_identical_1 = t1==t2\n",
    "\n",
    "print(f\"t1=t2\", are_identical_1)"
   ]
  },
  {
   "cell_type": "markdown",
   "id": "7feae32b-9786-4153-82e7-3fd71283beda",
   "metadata": {},
   "source": [
    "27. Sort the elements of a tuple"
   ]
  },
  {
   "cell_type": "code",
   "execution_count": 40,
   "id": "dcadf25e-e451-4e80-ac0a-3e8cb0ef3a3d",
   "metadata": {},
   "outputs": [
    {
     "name": "stdout",
     "output_type": "stream",
     "text": [
      "-----Sort the elements of a tuple-----\n",
      "\n",
      "(1, 5, 10, 12, 40, 43, 45, 82, 100)\n"
     ]
    }
   ],
   "source": [
    "print(\"-----Sort the elements of a tuple-----\")\n",
    "print()\n",
    "\n",
    "t1 = (10,82,43,40,12,5,1,100,45)\n",
    "def sort_tuple(tuple1):\n",
    "    # using sorted method we can sort our iterable objet and it will return a sorted list\n",
    "    sort_tuple = sorted(tuple1)\n",
    "    # using type conversion we convert list to tuple\n",
    "    tup = tuple(sort_tuple)\n",
    "    # return our tuple\n",
    "    return tup\n",
    "\n",
    "result = sort_tuple(t1)\n",
    "print(result)\n"
   ]
  },
  {
   "cell_type": "markdown",
   "id": "271a57b7-85f8-437b-87ac-234d75e1a2b8",
   "metadata": {},
   "source": [
    "28. Convert a tuple of integers to a tuple of strings.\n"
   ]
  },
  {
   "cell_type": "code",
   "execution_count": 49,
   "id": "a5e61f9a-56a1-4dfd-b8d3-3d3e70938c83",
   "metadata": {},
   "outputs": [
    {
     "name": "stdout",
     "output_type": "stream",
     "text": [
      "-----Convert a tuple of integers to a tuple of strings.-----\n",
      "\n",
      "('10', '82', '43', '40', '12', '5', '1', '100', '45')\n"
     ]
    }
   ],
   "source": [
    "print(\"-----Convert a tuple of integers to a tuple of strings.-----\")\n",
    "print()\n",
    "\n",
    "t1 = (10,82,43,40,12,5,1,100,45)\n",
    "def convert_tuple_int_to_str(tuple1):\n",
    "    # using type conversion we can change type to list\n",
    "    l1 = list(tuple1)\n",
    "    # print(type(l1))\n",
    "    # using for loop we can iterate over the list\n",
    "    l2=[]\n",
    "    for i in range(len(l1)):\n",
    "        l2.append(str(l1[i]))\n",
    "\n",
    "    # using type conversion change list to tuple\n",
    "    t2 = tuple(l2)\n",
    "\n",
    "    return t2\n",
    "\n",
    "result = convert_tuple_int_to_str(t1)\n",
    "print(result)"
   ]
  },
  {
   "cell_type": "markdown",
   "id": "fc4aef7b-1a1a-43ae-92c4-fb4b2818db0c",
   "metadata": {},
   "source": [
    "29. Convert a tuple of strings to a tuple of integers.\n"
   ]
  },
  {
   "cell_type": "code",
   "execution_count": 51,
   "id": "aa65e8c1-6c77-43d5-bf2b-51ac295acb6e",
   "metadata": {},
   "outputs": [
    {
     "name": "stdout",
     "output_type": "stream",
     "text": [
      "-----Convert a tuple of strings to a tuple of integers.-----\n",
      "\n",
      "(10, 82, 43, 40, 12, 5, 1, 100, 45)\n"
     ]
    }
   ],
   "source": [
    "print(\"-----Convert a tuple of strings to a tuple of integers.-----\")\n",
    "print()\n",
    "\n",
    "t1 = ('10', '82', '43', '40', '12', '5', '1', '100', '45')\n",
    "def convert_tuple_str_to_int(tuple1):\n",
    "    # using type conversion we can change type to list\n",
    "    l1 = list(tuple1)\n",
    "    # using for loop we can iterate over the list\n",
    "    l2=[]\n",
    "    for i in range(len(l1)):\n",
    "        l2.append(int(l1[i]))\n",
    "\n",
    "    # using type conversion we can change type to tuple\n",
    "    t2 = tuple(l2)\n",
    "    return t2\n",
    "\n",
    "result = convert_tuple_str_to_int(t1)\n",
    "print(result)"
   ]
  },
  {
   "cell_type": "markdown",
   "id": "1c06c11f-4b6d-4180-8bd6-abec8ccbf742",
   "metadata": {},
   "source": [
    "30. Merge two tuples.\n"
   ]
  },
  {
   "cell_type": "code",
   "execution_count": 52,
   "id": "37d61801-fe00-4499-8583-c02a1b3c5127",
   "metadata": {},
   "outputs": [
    {
     "name": "stdout",
     "output_type": "stream",
     "text": [
      "-----Merge two tuples.-----\n",
      "\n",
      "('10', '82', '43', '40', '12', '5', '1', '100', '45', 'India', 'Bangladesh', 'Nepal', 'Bhutan')\n"
     ]
    }
   ],
   "source": [
    "print(\"-----Merge two tuples.-----\")\n",
    "print()\n",
    "\n",
    "t1 = ('10', '82', '43', '40', '12', '5', '1', '100', '45')\n",
    "t2 = (\"India\", \"Bangladesh\",\"Nepal\", \"Bhutan\")\n",
    "def marge_tuple(tuple1, tuple2):\n",
    "    # using + operator we can marge two tuple\n",
    "    t1 = tuple1+tuple2\n",
    "    return t1\n",
    "\n",
    "result = marge_tuple(t1,t2)\n",
    "print(result)"
   ]
  },
  {
   "cell_type": "markdown",
   "id": "4e20072a-89a0-4e8d-8a7a-edb635a60cb3",
   "metadata": {},
   "source": [
    "31. Flatten a nested tuple.\n"
   ]
  },
  {
   "cell_type": "code",
   "execution_count": 1,
   "id": "6c20343b-d5ac-4f69-a8a6-6659e9e4db91",
   "metadata": {},
   "outputs": [
    {
     "name": "stdout",
     "output_type": "stream",
     "text": [
      "-----Flatten a nested tuple.-----\n",
      "\n",
      "(1, 2, 3, 4, 5, 6, 7, 8, 9)\n"
     ]
    }
   ],
   "source": [
    "print(\"-----Flatten a nested tuple.-----\")\n",
    "print()\n",
    "\n",
    "nested_tuple = ((1, 2, 3), (4, (5, 6), 7), (8, 9))\n",
    "\n",
    "def flatten_nested_tuple(t1):\n",
    "    my_list = []\n",
    "    for i in t1:\n",
    "        if isinstance(i, tuple):\n",
    "            my_list.extend(flatten_nested_tuple(i))\n",
    "        else:\n",
    "            my_list.append(i)\n",
    "\n",
    "    return tuple(my_list)\n",
    "\n",
    "\n",
    "\n",
    "res = flatten_nested_tuple(nested_tuple)\n",
    "print(res)"
   ]
  },
  {
   "cell_type": "markdown",
   "id": "3c275927-436c-4a17-84be-193bca100e82",
   "metadata": {},
   "source": [
    "32. Create a tuple of the first 5 prime numbers.\n"
   ]
  },
  {
   "cell_type": "code",
   "execution_count": 3,
   "id": "882d72fc-ff8f-4d9d-9a09-c8c737deba0e",
   "metadata": {},
   "outputs": [
    {
     "name": "stdout",
     "output_type": "stream",
     "text": [
      "-----Create a tuple of the first 5 prime numbers.-----\n",
      "\n",
      "(2, 3, 5, 7, 11)\n"
     ]
    }
   ],
   "source": [
    "print(\"-----Create a tuple of the first 5 prime numbers.-----\")\n",
    "print()\n",
    "\n",
    "def is_prime(num):\n",
    "    if num <=1:\n",
    "        return False\n",
    "\n",
    "    for i in range(2, int(num ** 0.5)+1):\n",
    "        if num % i == 0:\n",
    "            return False\n",
    "    return True\n",
    "\n",
    "my_list =  tuple([i for i in range(1,100) if is_prime(i)][:5])\n",
    "print(my_list)"
   ]
  },
  {
   "cell_type": "markdown",
   "id": "d093c760-b7a7-47d5-993e-0f11ac6493dc",
   "metadata": {},
   "source": [
    "33. Check if a tuple is a palindrome."
   ]
  },
  {
   "cell_type": "code",
   "execution_count": 4,
   "id": "6c9cb885-6da3-404c-be05-8048fefef203",
   "metadata": {},
   "outputs": [
    {
     "name": "stdout",
     "output_type": "stream",
     "text": [
      "-----Check if a tuple is a palindrome.-----\n",
      "\n",
      "Given Tuple is palindrome\n"
     ]
    }
   ],
   "source": [
    "print(\"-----Check if a tuple is a palindrome.-----\")\n",
    "print()\n",
    "t1 = (1,2,3,2,1)\n",
    "def is_palindrome(t1):\n",
    "    if t1 == t1[::-1]:\n",
    "        return f\"Given Tuple is palindrome\"\n",
    "    else:\n",
    "        return f\"Given Tuplw is not palindrome\"\n",
    "\n",
    "res = is_palindrome(t1)\n",
    "print(res)"
   ]
  },
  {
   "cell_type": "markdown",
   "id": "70379424-c4fe-42bd-b8b1-9820b2d22dc8",
   "metadata": {},
   "source": [
    "34. Create a tuple of squares of numbers from 1 to 5."
   ]
  },
  {
   "cell_type": "code",
   "execution_count": 6,
   "id": "02d67c39-4b91-4ac6-959e-b33efde72015",
   "metadata": {},
   "outputs": [
    {
     "name": "stdout",
     "output_type": "stream",
     "text": [
      "-----Create a tuple of squares of numbers from 1 to 5.-----\n",
      "\n"
     ]
    },
    {
     "data": {
      "text/plain": [
       "(1, 4, 9, 16, 25)"
      ]
     },
     "execution_count": 6,
     "metadata": {},
     "output_type": "execute_result"
    }
   ],
   "source": [
    "print(\"-----Create a tuple of squares of numbers from 1 to 5.-----\")\n",
    "print()\n",
    "\n",
    "t1 = tuple([i*i for i in range(1,6)])\n",
    "t1"
   ]
  },
  {
   "cell_type": "markdown",
   "id": "1781396d-6cd5-4f29-b600-71bef8eac461",
   "metadata": {},
   "source": [
    "35. Filter out all even numbers from a tuple."
   ]
  },
  {
   "cell_type": "code",
   "execution_count": 7,
   "id": "25c037a7-0410-4701-a177-c76844264c86",
   "metadata": {},
   "outputs": [
    {
     "name": "stdout",
     "output_type": "stream",
     "text": [
      "-----Filter out all even numbers from a tuple.-----\n",
      "\n",
      "(2, 4, 6, 8, 10)\n"
     ]
    }
   ],
   "source": [
    "print(\"-----Filter out all even numbers from a tuple.-----\")\n",
    "print()\n",
    "t1 = (1,2,3,4,5,6,7,8,9,10)\n",
    "def is_even(t1):\n",
    "    l1 = [i for i in t1 if i%2==0]\n",
    "    return tuple(l1)\n",
    "\n",
    "res = is_even(t1)\n",
    "print(res)"
   ]
  },
  {
   "cell_type": "markdown",
   "id": "ff8db803-43ee-49be-85ba-103ec8f20716",
   "metadata": {},
   "source": [
    "36. Multiply all elements in a tuple by 2."
   ]
  },
  {
   "cell_type": "code",
   "execution_count": 15,
   "id": "322a7f8f-bfb1-4f5a-a483-1ec4bd3a0ea2",
   "metadata": {},
   "outputs": [
    {
     "name": "stdout",
     "output_type": "stream",
     "text": [
      "-----Multiply all elements in a tuple by 2.-----\n",
      "\n"
     ]
    },
    {
     "data": {
      "text/plain": [
       "(2, 4, 6, 8, 10, 134)"
      ]
     },
     "execution_count": 15,
     "metadata": {},
     "output_type": "execute_result"
    }
   ],
   "source": [
    "print(\"-----Multiply all elements in a tuple by 2.-----\")\n",
    "print()\n",
    "\n",
    "def mul_elem(t1):\n",
    "    return tuple([i*2 for i in t1])\n",
    "\n",
    "res = mul_elem((1,2,3,4,5,67))\n",
    "res"
   ]
  },
  {
   "cell_type": "markdown",
   "id": "71685c31-5667-42bf-87cd-9710176f5ad1",
   "metadata": {},
   "source": [
    "37. Create a tuple of random numbers."
   ]
  },
  {
   "cell_type": "code",
   "execution_count": 22,
   "id": "5b5b1f39-104c-4f71-bcb0-44688b195d6e",
   "metadata": {},
   "outputs": [
    {
     "name": "stdout",
     "output_type": "stream",
     "text": [
      "-----Create a tuple of random numbers.-----\n",
      "\n",
      "(1, 9, 6, 2)\n"
     ]
    }
   ],
   "source": [
    "print(\"-----Create a tuple of random numbers.-----\")\n",
    "print()\n",
    "\n",
    "import random\n",
    "def random_tuple():\n",
    "    res = tuple([random.randint(1, 10) for i in range(1 , 5)])\n",
    "    return res\n",
    "\n",
    "res = random_tuple()\n",
    "print(res)"
   ]
  },
  {
   "cell_type": "markdown",
   "id": "e00b42d6-cfc8-4de1-8d95-b0ce5199b4d3",
   "metadata": {},
   "source": [
    "38. Check if a tuple is sorted."
   ]
  },
  {
   "cell_type": "code",
   "execution_count": 24,
   "id": "a87c5307-31e9-4034-9a8f-fa3b4effe2ba",
   "metadata": {},
   "outputs": [
    {
     "name": "stdout",
     "output_type": "stream",
     "text": [
      "-----Check if a tuple is sorted.-----\n",
      "\n",
      "Given Tuple is sorted\n"
     ]
    }
   ],
   "source": [
    "print(\"-----Check if a tuple is sorted.-----\")\n",
    "print()\n",
    "\n",
    "# t1 = (1,4,2,6,2,9,3) \n",
    "t1 = (1,2,3,4,5,6)\n",
    "\n",
    "def is_sorted(t1):\n",
    "    if t1 == tuple(sorted(t1)):\n",
    "        return f\"Given Tuple is sorted\"\n",
    "    else:\n",
    "        return f\"Given Tuple is not sorted\"\n",
    "\n",
    "res = is_sorted(t1)\n",
    "print(res)"
   ]
  },
  {
   "cell_type": "markdown",
   "id": "9cebdf0d-7b21-4ad0-bf2e-0247c8dfea09",
   "metadata": {},
   "source": [
    "39. Rotate a tuple to the left by `n` positions"
   ]
  },
  {
   "cell_type": "code",
   "execution_count": 28,
   "id": "dfba7ba3-8d2a-4996-8ac0-cb99fd724dea",
   "metadata": {},
   "outputs": [
    {
     "name": "stdout",
     "output_type": "stream",
     "text": [
      "-----Rotate a tuple to the left by `n` positions-----\n",
      "\n",
      "(3, 4, 5, 6, 1, 2)\n"
     ]
    }
   ],
   "source": [
    "print(\"-----Rotate a tuple to the left by `n` positions-----\")\n",
    "print()\n",
    "t1 = (1,2,3,4,5,6)\n",
    "\n",
    "def rotate_to_left(t1, position):\n",
    "    if len(t1) == 0:\n",
    "        return t1\n",
    "    tuple1 = t1[:position]\n",
    "    tuple2 = t1[position:]\n",
    "    return tuple2 + tuple1\n",
    "\n",
    "res = rotate_to_left(t1,2)\n",
    "print(res)"
   ]
  },
  {
   "cell_type": "markdown",
   "id": "0333e80e-6794-44ab-8b31-7c2d5f17f34d",
   "metadata": {},
   "source": [
    "40. Rotate a tuple to the right by `n` positions."
   ]
  },
  {
   "cell_type": "code",
   "execution_count": 29,
   "id": "203cdd4e-589d-468c-bf92-38c7818ea636",
   "metadata": {},
   "outputs": [
    {
     "name": "stdout",
     "output_type": "stream",
     "text": [
      "-----Rotate a tuple to the right by `n` positions-----\n",
      "\n",
      "(5, 6, 1, 2, 3, 4)\n"
     ]
    }
   ],
   "source": [
    "print(\"-----Rotate a tuple to the right by `n` positions-----\")\n",
    "print()\n",
    "t1 = (1,2,3,4,5,6)\n",
    "\n",
    "def rotate_to_right(t1, position):\n",
    "    if len(t1) == 0:\n",
    "        return t1\n",
    "    tuple1 = t1[:-position]\n",
    "    tuple2 = t1[-position:]\n",
    "    return tuple2 + tuple1\n",
    "\n",
    "res = rotate_to_right(t1,2)\n",
    "print(res)\n"
   ]
  },
  {
   "cell_type": "markdown",
   "id": "b795ed15-d859-4270-9c45-6e24d9b7e650",
   "metadata": {},
   "source": [
    "41. Create a tuple of the first 5 Fibonacci numbers"
   ]
  },
  {
   "cell_type": "code",
   "execution_count": 30,
   "id": "5d0a62e7-88a6-4355-934b-ef597dfc3edc",
   "metadata": {},
   "outputs": [
    {
     "name": "stdout",
     "output_type": "stream",
     "text": [
      "-----Create a tuple of the first 5 Fibonacci numbers-----\n",
      "\n",
      "(0, 1, 1, 2, 3)\n"
     ]
    }
   ],
   "source": [
    "print(\"-----Create a tuple of the first 5 Fibonacci numbers-----\")\n",
    "print()\n",
    "t1 = (1,2,3,4,5,6)\n",
    "\n",
    "def fibonacci_number(n):\n",
    "    fib = [0,1]\n",
    "    while len(fib) < n:\n",
    "        fib_number = fib[-1]+fib[-2]\n",
    "        fib.append(fib_number)\n",
    "    return tuple(fib)\n",
    "\n",
    "res = fibonacci_number(5)\n",
    "print(res)\n"
   ]
  },
  {
   "cell_type": "markdown",
   "id": "2dd7203c-aaf0-46e2-aa9c-d65c0a9ea6c5",
   "metadata": {},
   "source": [
    "42. Create a tuple from user input.\n"
   ]
  },
  {
   "cell_type": "code",
   "execution_count": 31,
   "id": "44a15b00-3eb3-4de6-b064-fcd49ab2a10c",
   "metadata": {},
   "outputs": [
    {
     "name": "stdout",
     "output_type": "stream",
     "text": [
      "-----Create a tuple from user input.-----\n",
      "\n"
     ]
    },
    {
     "name": "stdin",
     "output_type": "stream",
     "text": [
      "How many tuples you want? :  5\n",
      "Enter a number :  80\n",
      "Enter a number :  44\n",
      "Enter a number :  61\n",
      "Enter a number :  25\n",
      "Enter a number :  33\n"
     ]
    },
    {
     "name": "stdout",
     "output_type": "stream",
     "text": [
      "(80, 44, 61, 25, 33)\n"
     ]
    }
   ],
   "source": [
    "print(\"-----Create a tuple from user input.-----\")\n",
    "print()\n",
    "t1 = (1,2,3,4,5,6)\n",
    "\n",
    "def create_tupe():\n",
    "    number_of_tuples = int(input(\"How many tuples you want? : \"))\n",
    "    my_list = []\n",
    "    for i in range(number_of_tuples):\n",
    "        number = int(input(\"Enter a number : \"))\n",
    "        my_list.append(number)\n",
    "\n",
    "    return (tuple(my_list))\n",
    "\n",
    "res =create_tupe()\n",
    "print(res)\n"
   ]
  },
  {
   "cell_type": "markdown",
   "id": "8b077116-4a9e-41f9-b68a-73a4a4f13f8d",
   "metadata": {},
   "source": [
    "43. Swap two elements in a tuple.\n"
   ]
  },
  {
   "cell_type": "code",
   "execution_count": 33,
   "id": "8c12b7eb-c0b0-4fa8-be57-9e1964fb5354",
   "metadata": {},
   "outputs": [
    {
     "name": "stdout",
     "output_type": "stream",
     "text": [
      "-----Swap two elements in a tuple.-----\n",
      "\n",
      "Before swap : (1, 2, 3, 4, 5, 6)\n",
      "After swap : (1, 2, 6, 4, 5, 3)\n"
     ]
    }
   ],
   "source": [
    "print(\"-----Swap two elements in a tuple.-----\")\n",
    "print()\n",
    "t1 = (1,2,3,4,5,6)\n",
    "\n",
    "def swap_elements(t, pos1, pos2):\n",
    "    if type(t)==tuple:\n",
    "        t = list(t)\n",
    "\n",
    "    val1 = t[pos1]\n",
    "    val2 = t[pos2]\n",
    "\n",
    "    t[pos1] = val2\n",
    "    t[pos2] = val1\n",
    "\n",
    "    return tuple(t)\n",
    "\n",
    "res = swap_elements(t1, 2,5)\n",
    "print(f\"Before swap : {t1}\")\n",
    "print(f\"After swap : {res}\")\n"
   ]
  },
  {
   "cell_type": "markdown",
   "id": "50309c32-d936-4a11-bff6-6f60fe8c37c4",
   "metadata": {},
   "source": [
    "44. Reverse the elements of a tuple"
   ]
  },
  {
   "cell_type": "code",
   "execution_count": 34,
   "id": "e889fe87-82ec-457a-89da-1f4dd8044617",
   "metadata": {},
   "outputs": [
    {
     "name": "stdout",
     "output_type": "stream",
     "text": [
      "-----Reverse the elements of a tuple-----\n",
      "\n",
      "(6, 5, 4, 3, 2, 1)\n"
     ]
    }
   ],
   "source": [
    "print(\"-----Reverse the elements of a tuple-----\")\n",
    "print()\n",
    "t1 = (1,2,3,4,5,6)\n",
    "\n",
    "def reverse_elem(t):\n",
    "    return t[::-1]\n",
    "\n",
    "res = reverse_elem(t1)\n",
    "print(res)\n"
   ]
  },
  {
   "cell_type": "markdown",
   "id": "3adc31fb-0f52-487a-9fdf-458b351ad5d0",
   "metadata": {},
   "source": [
    "45. Create a tuple of the first `n` powers of 2"
   ]
  },
  {
   "cell_type": "code",
   "execution_count": 35,
   "id": "385d19a6-ab9f-4ade-ac78-f029af86578b",
   "metadata": {},
   "outputs": [
    {
     "name": "stdout",
     "output_type": "stream",
     "text": [
      "-----Create a tuple of the first n powers of 2-----\n",
      "\n",
      "(1, 2, 4, 8, 16, 32, 64, 128, 256, 512)\n"
     ]
    }
   ],
   "source": [
    "print(\"-----Create a tuple of the first n powers of 2-----\")\n",
    "print()\n",
    "def n_powers(n):\n",
    "    res = [2**i for i in range(n)]\n",
    "    return tuple(res)\n",
    "res = n_powers(10)\n",
    "print(res)\n"
   ]
  },
  {
   "cell_type": "markdown",
   "id": "6da9d437-e9e7-4b3f-b01d-84707a297f24",
   "metadata": {},
   "source": [
    "46. Find the longest string in a tuple of strings."
   ]
  },
  {
   "cell_type": "code",
   "execution_count": 36,
   "id": "a6deaa27-2293-4b39-8be7-fa784161222e",
   "metadata": {},
   "outputs": [
    {
     "name": "stdout",
     "output_type": "stream",
     "text": [
      "-----Find the longest string in a tuple of strings.-----\n",
      "\n",
      "Sayantan\n"
     ]
    }
   ],
   "source": [
    "print(\"-----Find the longest string in a tuple of strings.-----\")\n",
    "print()\n",
    "def find_longest_string(t1):\n",
    "    long_string = \"\"\n",
    "    for i in t1:\n",
    "        if len(long_string) < len(i):\n",
    "            long_string = i\n",
    "\n",
    "    return long_string\n",
    "\n",
    "tuple1 = (\"Sayan\", \"Gopal\", \"Avijit\", \"Sayantan\", \"Nitesh\")\n",
    "res = find_longest_string(tuple1)\n",
    "print(res)\n"
   ]
  },
  {
   "cell_type": "markdown",
   "id": "4eeb06b5-9751-4b9f-b6bc-73d0feb70259",
   "metadata": {},
   "source": [
    "47. Find the shortest string in a tuple of strings.\n"
   ]
  },
  {
   "cell_type": "code",
   "execution_count": 37,
   "id": "57419d2f-2b56-4bf3-856d-cb6fb91e3e0d",
   "metadata": {},
   "outputs": [
    {
     "name": "stdout",
     "output_type": "stream",
     "text": [
      "-----Find the shortest string in a tuple of strings.-----\n",
      "\n",
      "Gopal\n"
     ]
    }
   ],
   "source": [
    "print(\"-----Find the shortest string in a tuple of strings.-----\")\n",
    "print()\n",
    "def find_shortest_string(t1):\n",
    "    short_string = t1[0]\n",
    "    for i in t1:\n",
    "        if len(short_string) > len(i):\n",
    "            short_string = i\n",
    "\n",
    "    return short_string\n",
    "\n",
    "tuple1 = (\"Sayann\", \"Gopal\", \"Avijit\", \"Sayantan\", \"Nitesh\")\n",
    "res = find_shortest_string(tuple1)\n",
    "print(res)\n"
   ]
  },
  {
   "cell_type": "markdown",
   "id": "c4058bbd-240f-4d53-a7df-6da7d2164077",
   "metadata": {},
   "source": [
    "49. Check if a tuple contains another tuple as a subsequence"
   ]
  },
  {
   "cell_type": "code",
   "execution_count": 39,
   "id": "2b556919-3621-4948-9e55-31666c5c1ab5",
   "metadata": {},
   "outputs": [
    {
     "name": "stdout",
     "output_type": "stream",
     "text": [
      "-----Check if a tuple contains another tuple as a subsequence.-----\n",
      "\n",
      "Main tuple contains subsequence tuple: True\n"
     ]
    }
   ],
   "source": [
    "print(\"-----Check if a tuple contains another tuple as a subsequence.-----\")\n",
    "print()\n",
    "# Function to check if a tuple contains another tuple as a subsequence\n",
    "def contains_subsequence(main_tuple, sub_tuple):\n",
    "    sub_length = len(sub_tuple)\n",
    "    for i in range(len(main_tuple) - sub_length + 1):\n",
    "        if main_tuple[i:i+sub_length] == sub_tuple:\n",
    "            return True\n",
    "    return False\n",
    "\n",
    "# Main tuple\n",
    "main_tuple = (1, 2, 3, 4, 5, 6, 7, 8, 9)\n",
    "\n",
    "# Subsequence tuple\n",
    "sub_tuple = (3, 4, 5)\n",
    "\n",
    "# Check if the main tuple contains the subsequence tuple\n",
    "contains_subseq = contains_subsequence(main_tuple, sub_tuple)\n",
    "\n",
    "# Print the result\n",
    "print(\"Main tuple contains subsequence tuple:\", contains_subseq)"
   ]
  },
  {
   "cell_type": "markdown",
   "id": "47e413f2-9aea-4411-a1e0-548313f14fc7",
   "metadata": {},
   "source": [
    "50. Create a tuple of alternating 1s and 0s of length `n`"
   ]
  },
  {
   "cell_type": "code",
   "execution_count": 40,
   "id": "5102ebce-953f-4077-9c7e-9059c823620f",
   "metadata": {},
   "outputs": [
    {
     "name": "stdout",
     "output_type": "stream",
     "text": [
      "-----Create a tuple of alternating 1s and 0s of length `n`.-----\n",
      "\n",
      "(0, 1, 0, 1, 0, 1, 0, 1, 0, 1)\n"
     ]
    }
   ],
   "source": [
    "print(\"-----Create a tuple of alternating 1s and 0s of length `n`.-----\")\n",
    "print()\n",
    "\n",
    "def create_tuple(n):\n",
    "    my_list = [i%2 for i in range(n)]\n",
    "    return tuple(my_list)\n",
    "\n",
    "res = create_tuple(10)\n",
    "print(res)"
   ]
  },
  {
   "cell_type": "code",
   "execution_count": null,
   "id": "9349c763-b5d7-45a2-a772-d829714a3711",
   "metadata": {},
   "outputs": [],
   "source": []
  },
  {
   "cell_type": "markdown",
   "id": "ffa5e18b-b15c-4c40-9ab4-0a86358b7ca2",
   "metadata": {},
   "source": [
    "# Set Based Practice Problem"
   ]
  },
  {
   "cell_type": "markdown",
   "id": "63bb4ee4-72f4-4781-a4fb-c740f72d36a4",
   "metadata": {},
   "source": [
    "1. Create a set with integers from 1 to 5."
   ]
  },
  {
   "cell_type": "code",
   "execution_count": 41,
   "id": "188b1d3d-da2c-4597-8e5d-c5ca37f62c94",
   "metadata": {},
   "outputs": [
    {
     "name": "stdout",
     "output_type": "stream",
     "text": [
      "-----Create a set with integers from 1 to 5.-----\n",
      "\n",
      "{0, 1, 2, 3, 4, 5}\n"
     ]
    }
   ],
   "source": [
    "print(\"-----Create a set with integers from 1 to 5.-----\")\n",
    "print()\n",
    "\n",
    "def create_set(n):\n",
    "    my_list = [i for i in range(n)]\n",
    "    return set(my_list)\n",
    "res = create_set(6)\n",
    "print(res)"
   ]
  },
  {
   "cell_type": "markdown",
   "id": "021b229a-5070-4869-8d81-3c214cacd9d1",
   "metadata": {},
   "source": [
    "2. Add an element to a set."
   ]
  },
  {
   "cell_type": "code",
   "execution_count": 42,
   "id": "9683dc4f-a682-4258-a725-e08eeb2f2095",
   "metadata": {},
   "outputs": [
    {
     "name": "stdout",
     "output_type": "stream",
     "text": [
      "-----Add an element to a set.-----\n",
      "\n",
      "{0, 1, 2, 3, 4, 5, 6}\n"
     ]
    }
   ],
   "source": [
    "print(\"-----Add an element to a set.-----\")\n",
    "print()\n",
    "\n",
    "\n",
    "set1 = {0, 1, 2, 3, 4, 5}\n",
    "set1.add(6)\n",
    "print(set1)\n"
   ]
  },
  {
   "cell_type": "markdown",
   "id": "1da3f7f0-7fc0-4751-9f3d-4d9124238efd",
   "metadata": {},
   "source": [
    "3. Remove an element from a set."
   ]
  },
  {
   "cell_type": "code",
   "execution_count": 45,
   "id": "0b464f9d-a4ea-4639-9121-a2bec10072e7",
   "metadata": {},
   "outputs": [
    {
     "name": "stdout",
     "output_type": "stream",
     "text": [
      "-----Remove an element from a set.-----\n",
      "\n",
      "{1, 2, 3, 4, 5}\n"
     ]
    }
   ],
   "source": [
    "print(\"-----Remove an element from a set.-----\")\n",
    "print()\n",
    "\n",
    "set1 = {0, 1, 2, 3, 4, 5}\n",
    "set1.pop()\n",
    "print(set1)"
   ]
  },
  {
   "cell_type": "markdown",
   "id": "50d77d67-dd49-4137-a316-98105cb74c69",
   "metadata": {},
   "source": [
    "4. Check if an element exists in a set"
   ]
  },
  {
   "cell_type": "code",
   "execution_count": 47,
   "id": "3b14fae7-b90c-4794-a3d0-c535ec1e0bb5",
   "metadata": {},
   "outputs": [
    {
     "name": "stdout",
     "output_type": "stream",
     "text": [
      "-----Check if an element exists in a set-----\n",
      "\n",
      "Element is exist\n"
     ]
    }
   ],
   "source": [
    "print(\"-----Check if an element exists in a set-----\")\n",
    "print()\n",
    "\n",
    "set1 = {1,2,3,4,56}\n",
    "def check_elem(set1,elem):\n",
    "    if elem in set1:\n",
    "        return \"Element is exist\"\n",
    "    else:\n",
    "        return \"Element is not exist\"\n",
    "\n",
    "res=check_elem(set1,56)\n",
    "print(res)\n",
    "\n"
   ]
  },
  {
   "cell_type": "markdown",
   "id": "b98de462-d651-476b-ad59-5c810911e998",
   "metadata": {},
   "source": [
    "5. Find the length of a set without using the `len()` function."
   ]
  },
  {
   "cell_type": "code",
   "execution_count": 48,
   "id": "513a6076-b73b-4712-9145-1c82134b0120",
   "metadata": {},
   "outputs": [
    {
     "name": "stdout",
     "output_type": "stream",
     "text": [
      "-----Find the length of a set without using the `len()` function.-----\n",
      "\n",
      "Length of given set is 9\n"
     ]
    }
   ],
   "source": [
    "print(\"-----Find the length of a set without using the `len()` function.-----\")\n",
    "print()\n",
    "\n",
    "def check_length(set):\n",
    "    count =0\n",
    "    for i in set:\n",
    "        count +=1\n",
    "    return f\"Length of given set is {count}\"\n",
    "\n",
    "res = check_length({1,2,3,4,5,6,7,8,9})\n",
    "print(res)"
   ]
  },
  {
   "cell_type": "markdown",
   "id": "a2b78527-d013-42c6-97fb-4c015d2aa075",
   "metadata": {},
   "source": [
    "6. Clear all elements from a set."
   ]
  },
  {
   "cell_type": "code",
   "execution_count": 51,
   "id": "d16ffe19-835c-4235-a543-777e85e26078",
   "metadata": {},
   "outputs": [
    {
     "name": "stdout",
     "output_type": "stream",
     "text": [
      "-----Find the length of a set without using the `len()` function.-----\n",
      "\n",
      "set()\n"
     ]
    }
   ],
   "source": [
    "print(\"-----Find the length of a set without using the `len()` function.-----\")\n",
    "print()\n",
    "\n",
    "def clear_all_elem(set1):\n",
    "    set1.clear()\n",
    "    return set1\n",
    "\n",
    "set1 = {1,2,3,4}\n",
    "res = clear_all_elem(set1)\n",
    "print(res)"
   ]
  },
  {
   "cell_type": "markdown",
   "id": "742196c4-41d5-420d-a133-776ac2114119",
   "metadata": {},
   "source": [
    "7. Create a set of even numbers from 1 to 10."
   ]
  },
  {
   "cell_type": "code",
   "execution_count": 52,
   "id": "82342b15-80d4-443d-9bd9-32ed4ffbf208",
   "metadata": {},
   "outputs": [
    {
     "name": "stdout",
     "output_type": "stream",
     "text": [
      "-----Create a set of even numbers from 1 to 10.-----\n",
      "\n",
      "{0, 2, 4, 6, 8, 10}\n"
     ]
    }
   ],
   "source": [
    "print(\"-----Create a set of even numbers from 1 to 10.-----\")\n",
    "print()\n",
    "\n",
    "def even_number_set(n):\n",
    "    l = [i for i in range(n) if i%2==0]\n",
    "    return set(l)\n",
    "\n",
    "res = even_number_set(11)\n",
    "print(res)"
   ]
  },
  {
   "cell_type": "markdown",
   "id": "e003d963-409d-48f1-8b66-be8078a07691",
   "metadata": {},
   "source": [
    "8. Create a set of odd numbers from 1 to 10."
   ]
  },
  {
   "cell_type": "code",
   "execution_count": 54,
   "id": "4933a6d6-e4d4-47c5-8f3c-801697cae3e0",
   "metadata": {},
   "outputs": [
    {
     "name": "stdout",
     "output_type": "stream",
     "text": [
      "-----Create a set of odd numbers from 1 to 10.-----\n",
      "\n",
      "{1, 3, 5, 7, 9}\n"
     ]
    }
   ],
   "source": [
    "print(\"-----Create a set of odd numbers from 1 to 10.-----\")\n",
    "print()\n",
    "\n",
    "def odd_number_set(n):\n",
    "    l = [i for i in range(n) if i%2!=0]\n",
    "    return set(l)\n",
    "\n",
    "res = odd_number_set(11)\n",
    "print(res)"
   ]
  },
  {
   "cell_type": "markdown",
   "id": "9008349d-479f-464c-83e9-2a52a9d071a4",
   "metadata": {},
   "source": [
    "10. Find the intersection of two sets.\n"
   ]
  },
  {
   "cell_type": "code",
   "execution_count": 56,
   "id": "010f44bf-1035-467b-93f8-657a3a961dbf",
   "metadata": {},
   "outputs": [
    {
     "name": "stdout",
     "output_type": "stream",
     "text": [
      "-----Find the union of two sets.-----\n",
      "\n",
      "{1, 2, 3, 4, 5, 6, 7}\n"
     ]
    }
   ],
   "source": [
    "print(\"-----Find the union of two sets.-----\")\n",
    "print()\n",
    "\n",
    "def union_of_sets(set1,set2):\n",
    "    union = set1.union(set2)\n",
    "    return union\n",
    "\n",
    "s1 = {1,2,3,4,5}\n",
    "s2 = {3,4,5,6,7}\n",
    "res = union_of_sets(s1,s2)\n",
    "print(res)"
   ]
  },
  {
   "cell_type": "markdown",
   "id": "c72d8262-56da-4579-a156-09bfe25211c0",
   "metadata": {},
   "source": [
    "10. Find the intersection of two sets."
   ]
  },
  {
   "cell_type": "code",
   "execution_count": 57,
   "id": "ec53f640-478b-4d97-aa03-a27fdb62a01d",
   "metadata": {},
   "outputs": [
    {
     "name": "stdout",
     "output_type": "stream",
     "text": [
      "-----Find the intersection of two sets.-----\n",
      "\n",
      "{3, 4, 5}\n"
     ]
    }
   ],
   "source": [
    "print(\"-----Find the intersection of two sets.-----\")\n",
    "print()\n",
    "\n",
    "def intersection_of_sets(set1,set2):\n",
    "    intersection = set1.intersection(set2)\n",
    "    return intersection\n",
    "\n",
    "s1 = {1,2,3,4,5}\n",
    "s2 = {3,4,5,6,7}\n",
    "res = intersection_of_sets(s1,s2)\n",
    "print(res)"
   ]
  },
  {
   "cell_type": "markdown",
   "id": "540aa019-d656-4a4a-85d6-cbc78396bf7d",
   "metadata": {},
   "source": [
    "11. Find the difference between two sets."
   ]
  },
  {
   "cell_type": "code",
   "execution_count": 58,
   "id": "26f8d420-d887-4f7d-b3d1-8609921aba78",
   "metadata": {},
   "outputs": [
    {
     "name": "stdout",
     "output_type": "stream",
     "text": [
      "-----Find the difference between two sets.-----\n",
      "\n",
      "{1, 2}\n"
     ]
    }
   ],
   "source": [
    "print(\"-----Find the difference between two sets.-----\")\n",
    "print()\n",
    "\n",
    "def difference_of_sets(set1,set2):\n",
    "    difference = set1.difference(set2)\n",
    "    return difference\n",
    "\n",
    "s1 = {1,2,3,4,5}\n",
    "s2 = {3,4,5,6,7}\n",
    "res = difference_of_sets(s1,s2)\n",
    "print(res)"
   ]
  },
  {
   "cell_type": "markdown",
   "id": "53b539e6-b4d5-4c4a-9c8e-78fc17b2afec",
   "metadata": {},
   "source": [
    "12. Check if a set is a subset of another set.\n"
   ]
  },
  {
   "cell_type": "code",
   "execution_count": 59,
   "id": "8660f281-4e07-4758-81d2-f7dd3ffc1c1e",
   "metadata": {},
   "outputs": [
    {
     "name": "stdout",
     "output_type": "stream",
     "text": [
      "-----Check if a set is a subset of another set.-----\n",
      "\n",
      "True\n"
     ]
    }
   ],
   "source": [
    "print(\"-----Check if a set is a subset of another set.-----\")\n",
    "print()\n",
    "\n",
    "def issubset_of_sets(set1,set2):\n",
    "    subset = set1.issubset(set2)\n",
    "    return subset\n",
    "\n",
    "s1 = {1,2,3}\n",
    "s2 = {1,2,3,4,5}\n",
    "res = issubset_of_sets(s1,s2)\n",
    "print(res)"
   ]
  },
  {
   "cell_type": "markdown",
   "id": "c28dc8b9-6217-4a31-a5f8-c8af92e323c9",
   "metadata": {},
   "source": [
    "13. Check if a set is a superset of another set.\n"
   ]
  },
  {
   "cell_type": "code",
   "execution_count": 60,
   "id": "ade15264-5bac-43ae-8e71-28db7370d834",
   "metadata": {},
   "outputs": [
    {
     "name": "stdout",
     "output_type": "stream",
     "text": [
      "-----Check if a set is a superset of another set.-----\n",
      "\n",
      "True\n"
     ]
    }
   ],
   "source": [
    "print(\"-----Check if a set is a superset of another set.-----\")\n",
    "print()\n",
    "\n",
    "def issuperset_of_sets(set1,set2):\n",
    "    superset = set1.issuperset(set2)\n",
    "    return superset\n",
    "\n",
    "s1 = {1,2,3,4,5}\n",
    "s2 = {1,2,3}\n",
    "res = issuperset_of_sets(s1,s2)\n",
    "print(res)"
   ]
  },
  {
   "cell_type": "markdown",
   "id": "f29323a8-c2a3-4f20-a28c-e66a0e70fc04",
   "metadata": {},
   "source": [
    "14. Create a set from a list."
   ]
  },
  {
   "cell_type": "code",
   "execution_count": 61,
   "id": "bf21754a-6bd7-4e01-acae-8d6b51d2c8e9",
   "metadata": {},
   "outputs": [
    {
     "name": "stdout",
     "output_type": "stream",
     "text": [
      "-----Create a set from a list.-----\n",
      "\n",
      "{1, 2, 3, 4, 5}\n"
     ]
    }
   ],
   "source": [
    "print(\"-----Create a set from a list.-----\")\n",
    "print()\n",
    "\n",
    "def set_from_list(list1):\n",
    "    return set(list1)\n",
    "\n",
    "l1 = [1,2,3,4,5]\n",
    "res = set_from_list(l1)\n",
    "print(res)"
   ]
  },
  {
   "cell_type": "markdown",
   "id": "9ac7aae1-a0b4-4483-8ad1-47055e100a51",
   "metadata": {},
   "source": [
    "15. Convert a set to a list."
   ]
  },
  {
   "cell_type": "code",
   "execution_count": 63,
   "id": "2da57605-aa7d-4989-be90-64d84fa8662e",
   "metadata": {},
   "outputs": [
    {
     "name": "stdout",
     "output_type": "stream",
     "text": [
      "-----Convert a set to a list.-----\n",
      "\n",
      "[1, 2, 3, 4, 5]\n"
     ]
    }
   ],
   "source": [
    "print(\"-----Convert a set to a list.-----\")\n",
    "print()\n",
    "\n",
    "def convert_set_to_list(set1):\n",
    "    return list(set1)\n",
    "\n",
    "s1 = {1,2,3,4,5}\n",
    "res = convert_set_to_list(s1)\n",
    "print(res)"
   ]
  },
  {
   "cell_type": "markdown",
   "id": "95ddc832-c4be-4be3-8a4a-6032c6c3a523",
   "metadata": {},
   "source": [
    "16. Remove a random element from a set"
   ]
  },
  {
   "cell_type": "code",
   "execution_count": 67,
   "id": "82eae26b-52c2-461a-b7f8-723e96237e96",
   "metadata": {},
   "outputs": [
    {
     "name": "stdout",
     "output_type": "stream",
     "text": [
      "-----Remove a random element from a set.-----\n",
      "\n",
      "{1, 2, 4, 5}\n"
     ]
    }
   ],
   "source": [
    "print(\"-----Remove a random element from a set.-----\")\n",
    "print()\n",
    "\n",
    "s1 = {1,2,3,4,5}\n",
    "s1.remove(3)\n",
    "print(s1)"
   ]
  },
  {
   "cell_type": "markdown",
   "id": "2ffc1b40-61b8-4bc7-b546-4f5a818803f3",
   "metadata": {},
   "source": [
    "17. Pop an element from a set."
   ]
  },
  {
   "cell_type": "code",
   "execution_count": 70,
   "id": "e6fd5289-9220-46eb-bfc3-f803d77a09cc",
   "metadata": {},
   "outputs": [
    {
     "name": "stdout",
     "output_type": "stream",
     "text": [
      "-----Pop an element from a set.-----\n",
      "\n",
      "{2, 3, 4, 5}\n"
     ]
    }
   ],
   "source": [
    "print(\"-----Pop an element from a set.-----\")\n",
    "print()\n",
    "\n",
    "s1 = {1,2,3,4,5}\n",
    "s1.pop()\n",
    "print(s1)"
   ]
  },
  {
   "cell_type": "markdown",
   "id": "60b0d0ed-3656-43b7-b5fb-e453907cacb5",
   "metadata": {},
   "source": [
    "18. Check if two sets have no elements in common.\n"
   ]
  },
  {
   "cell_type": "code",
   "execution_count": 71,
   "id": "2dc3cb0a-642b-417b-a0a9-885c0849de9c",
   "metadata": {},
   "outputs": [
    {
     "name": "stdout",
     "output_type": "stream",
     "text": [
      "-----Check if two sets have no elements in common.-----\n",
      "\n",
      "Two sets have no common element\n"
     ]
    }
   ],
   "source": [
    "print(\"-----Check if two sets have no elements in common.-----\")\n",
    "print()\n",
    "\n",
    "set1 = {1,2,3,4}\n",
    "set2 = {5,6,7,8}\n",
    "def check_no_common_elem(set1,set2):\n",
    "    if set1.isdisjoint(set2):\n",
    "        return \"Two sets have no common element\"\n",
    "    else:\n",
    "        return \"Two sets have common element\"\n",
    "\n",
    "res = check_no_common_elem(set1,set2)\n",
    "print(res)\n"
   ]
  },
  {
   "cell_type": "markdown",
   "id": "07a2f2ec-d2f1-406e-9ca3-481a369b21a6",
   "metadata": {},
   "source": [
    "19. Find the symmetric difference between two sets."
   ]
  },
  {
   "cell_type": "code",
   "execution_count": 72,
   "id": "fab10e59-7075-4ae4-b831-54e3ac5b0aac",
   "metadata": {},
   "outputs": [
    {
     "name": "stdout",
     "output_type": "stream",
     "text": [
      "-----Find the symmetric difference between two sets.-----\n",
      "\n",
      "{1, 2, 3, 6, 7, 8}\n"
     ]
    }
   ],
   "source": [
    "print(\"-----Find the symmetric difference between two sets.-----\")\n",
    "print()\n",
    "\n",
    "set1 = {1, 2, 3, 4, 5}\n",
    "set2 = {4, 5, 6, 7, 8}\n",
    "\n",
    "symmetric_diff = set1.symmetric_difference(set2)\n",
    "\n",
    "print(symmetric_diff)\n"
   ]
  },
  {
   "cell_type": "markdown",
   "id": "e3e472b8-28c8-4af4-9576-d989e4310c0d",
   "metadata": {},
   "source": [
    "20. Update a set with elements from another set."
   ]
  },
  {
   "cell_type": "code",
   "execution_count": 101,
   "id": "5c1673d5-cd33-41df-a4fb-89355a600c78",
   "metadata": {},
   "outputs": [
    {
     "name": "stdout",
     "output_type": "stream",
     "text": [
      "-----Update a set with elements from another set.-----\n",
      "\n",
      "{1, 2, 3, 4, 5}\n"
     ]
    }
   ],
   "source": [
    "print(\"-----Update a set with elements from another set.-----\")\n",
    "print()\n",
    "\n",
    "set1 = {1, 2, 3}\n",
    "set2 = {3, 4, 5}\n",
    "\n",
    "def update_set(set1,set2):\n",
    "    set1.update(set2)\n",
    "    return set1\n",
    "\n",
    "res = update_set(set1,set2)\n",
    "print(res)"
   ]
  },
  {
   "cell_type": "markdown",
   "id": "933071c9-51b8-4c54-a43e-b7ca12530fcc",
   "metadata": {},
   "source": [
    "21. Create a set of the first 5 prime numbers."
   ]
  },
  {
   "cell_type": "code",
   "execution_count": 104,
   "id": "d11cf6a3-5050-43e8-85f3-89a19807764c",
   "metadata": {},
   "outputs": [
    {
     "name": "stdout",
     "output_type": "stream",
     "text": [
      "-----Create a set of the first 5 prime numbers.-----\n",
      "\n",
      "{2, 3, 5, 7, 11}\n"
     ]
    }
   ],
   "source": [
    "print(\"-----Create a set of the first 5 prime numbers.-----\")\n",
    "print()\n",
    "def is_prime_number(num):\n",
    "    if num <2:\n",
    "        return False\n",
    "    else:\n",
    "        for i in range(2, int(num**0.5)+1):\n",
    "            if num%i == 0:\n",
    "                return False\n",
    "        return True\n",
    "\n",
    "num = 0\n",
    "prime_sets = set()\n",
    "while len(prime_sets)<5:\n",
    "    if is_prime_number(num):\n",
    "        prime_sets.add(num)\n",
    "    num+=1\n",
    "\n",
    "print(prime_sets)"
   ]
  },
  {
   "cell_type": "markdown",
   "id": "63892172-8557-423c-8e40-3a3d59b4e0d8",
   "metadata": {},
   "source": [
    "22. Check if two sets are identical.\n"
   ]
  },
  {
   "cell_type": "code",
   "execution_count": 105,
   "id": "0a401642-c19e-4625-94c1-ca3d86a7e8a6",
   "metadata": {},
   "outputs": [
    {
     "name": "stdout",
     "output_type": "stream",
     "text": [
      "-----Check if two sets are identical.-----\n",
      "\n",
      "Two sets are not identical\n"
     ]
    }
   ],
   "source": [
    "print(\"-----Check if two sets are identical.-----\")\n",
    "print()\n",
    "def check_two_sets(set1,set2):\n",
    "    if set1==set2:\n",
    "        return f\"Two sets are identical\"\n",
    "    else:\n",
    "        return f\"Two sets are not identical\"\n",
    "\n",
    "\n",
    "set1 = {1, 2, 3}\n",
    "set2 = {3, 2, 1,4}\n",
    "res = check_two_sets(set1,set2)\n",
    "print(res)"
   ]
  },
  {
   "cell_type": "markdown",
   "id": "9b13d821-bb56-4962-849b-37e326b0689e",
   "metadata": {},
   "source": [
    "23. Create a frozen set."
   ]
  },
  {
   "cell_type": "code",
   "execution_count": 107,
   "id": "ae75a2ea-1541-4833-84c6-11959cb918b5",
   "metadata": {},
   "outputs": [
    {
     "name": "stdout",
     "output_type": "stream",
     "text": [
      "-----Create a frozen set.-----\n",
      "\n",
      "frozenset({1, 2, 3, 4, 5})\n"
     ]
    }
   ],
   "source": [
    "print(\"-----Create a frozen set.-----\")\n",
    "print()\n",
    "frozen_set = frozenset([1, 2, 3, 4, 5])\n",
    "\n",
    "print(frozen_set)\n"
   ]
  },
  {
   "cell_type": "markdown",
   "id": "ad36599d-e872-47f9-be40-e358953b20b2",
   "metadata": {},
   "source": [
    "24. Check if a set is disjoint with another set.\n"
   ]
  },
  {
   "cell_type": "code",
   "execution_count": 109,
   "id": "f92195b5-c38b-4fd0-95c2-cfbfbd28eb6c",
   "metadata": {},
   "outputs": [
    {
     "name": "stdout",
     "output_type": "stream",
     "text": [
      "-----Check if a set is disjoint with another set.-----\n",
      "\n",
      "The sets are disjoint (they have no elements in common).\n"
     ]
    }
   ],
   "source": [
    "print(\"-----Check if a set is disjoint with another set.-----\")\n",
    "print()\n",
    "set1 = {1, 2, 3}\n",
    "set2 = {4, 5, 6}\n",
    "\n",
    "# Check if the sets are disjoint using the isdisjoint() method\n",
    "if set1.isdisjoint(set2):\n",
    "    print(\"The sets are disjoint (they have no elements in common).\")\n",
    "else:\n",
    "    print(\"The sets are not disjoint (they have some elements in common).\")\n"
   ]
  },
  {
   "cell_type": "markdown",
   "id": "642be5c6-af09-41c5-943b-032a260751a2",
   "metadata": {},
   "source": [
    "25. Create a set of squares of numbers from 1 to 5."
   ]
  },
  {
   "cell_type": "code",
   "execution_count": 110,
   "id": "4f001068-8955-401e-913a-58f1ada7a5c7",
   "metadata": {},
   "outputs": [
    {
     "name": "stdout",
     "output_type": "stream",
     "text": [
      "-----Create a set of squares of numbers from 1 to 5.-----\n",
      "\n",
      "{1, 4, 9, 16, 25}\n"
     ]
    }
   ],
   "source": [
    "print(\"-----Create a set of squares of numbers from 1 to 5.-----\")\n",
    "print()\n",
    "def set_of_square(n):\n",
    "    new_set = set()\n",
    "    for i in range(1,n+1):\n",
    "        new_set.add(i**2)\n",
    "    return new_set\n",
    "\n",
    "res = set_of_square(5)\n",
    "print(res)"
   ]
  },
  {
   "cell_type": "markdown",
   "id": "4fdb5977-704c-4cf6-a6dc-373550bde08b",
   "metadata": {},
   "source": [
    "26. Filter out all even numbers from a set.\n"
   ]
  },
  {
   "cell_type": "code",
   "execution_count": 111,
   "id": "dad0ee32-9662-4b1d-a895-d6a539f8e0d9",
   "metadata": {},
   "outputs": [
    {
     "name": "stdout",
     "output_type": "stream",
     "text": [
      "-----Filter out all even numbers from a set.-----\n",
      "\n",
      "{8, 2, 4, 6}\n"
     ]
    }
   ],
   "source": [
    "print(\"-----Filter out all even numbers from a set.-----\")\n",
    "print()\n",
    "\n",
    "set1 = {1,2,3,4,5,6,7,8,9}\n",
    "def even_number_set(set1):\n",
    "    new_set = set()\n",
    "    for i in set1:\n",
    "        if i % 2 == 0:\n",
    "            new_set.add(i)\n",
    "    return (new_set)\n",
    "res = even_number_set(set1)\n",
    "print(res)"
   ]
  },
  {
   "cell_type": "markdown",
   "id": "14dfd219-3bd8-46be-b290-cdce5bf7df27",
   "metadata": {},
   "source": [
    "27. Multiply all elements in a set by 2.\n"
   ]
  },
  {
   "cell_type": "code",
   "execution_count": 112,
   "id": "faf3727e-1613-410c-954d-d6459672d0e3",
   "metadata": {},
   "outputs": [
    {
     "name": "stdout",
     "output_type": "stream",
     "text": [
      "-----Multiply all elements in a set by 2.-----\n",
      "\n",
      "{2, 4, 6, 8, 10, 12, 14, 16, 18}\n"
     ]
    }
   ],
   "source": [
    "print(\"-----Multiply all elements in a set by 2.-----\")\n",
    "print()\n",
    "\n",
    "set1 = {1,2,3,4,5,6,7,8,9}\n",
    "def multiply_by_2(set1):\n",
    "    new_set = set()\n",
    "    for i in set1:\n",
    "        new_set.add(i*2)\n",
    "    return new_set\n",
    "\n",
    "res = multiply_by_2(set1)\n",
    "print(res)"
   ]
  },
  {
   "cell_type": "markdown",
   "id": "ddb1f99f-e6ba-48d8-9468-74150a72a7ef",
   "metadata": {},
   "source": [
    "28. Create a set of random numbers."
   ]
  },
  {
   "cell_type": "code",
   "execution_count": 167,
   "id": "5b7c2bdb-833e-40d3-bbaf-a0a868e638dc",
   "metadata": {},
   "outputs": [
    {
     "name": "stdout",
     "output_type": "stream",
     "text": [
      "-----Create a set of random numbers.-----\n",
      "\n",
      "{98, 40, 47, 49, 92}\n"
     ]
    }
   ],
   "source": [
    "print(\"-----Create a set of random numbers.-----\")\n",
    "print()\n",
    "import  random\n",
    "def random_set(n):\n",
    "    new_set = set()\n",
    "    for _ in range(n):  \n",
    "        random_number = random.randint(1, 100)\n",
    "        new_set.add(random_number)\n",
    "    return new_set\n",
    "    # print(new_set)\n",
    "\n",
    "res = random_set(5)\n",
    "print(res)"
   ]
  },
  {
   "cell_type": "markdown",
   "id": "d10f55e0-0428-422f-91f0-844f7a30349b",
   "metadata": {},
   "source": [
    "29. Check if a set is empty"
   ]
  },
  {
   "cell_type": "code",
   "execution_count": 148,
   "id": "ed166a08-b1dc-4ee2-8c5a-19255097767e",
   "metadata": {},
   "outputs": [
    {
     "name": "stdout",
     "output_type": "stream",
     "text": [
      "-----Check if a set is empty-----\n",
      "\n",
      "Given set is empty\n"
     ]
    }
   ],
   "source": [
    "print(\"-----Check if a set is empty-----\")\n",
    "print()\n",
    "set1 = {}\n",
    "def check_empty(set1):\n",
    "    if len(set1) == 0:\n",
    "        return f\"Given set is empty\"\n",
    "    else:\n",
    "        return f\"Given set is not empty\"\n",
    "res = check_empty(set1)\n",
    "print(res)"
   ]
  },
  {
   "cell_type": "markdown",
   "id": "e9e32255-14ff-4cbe-8fe8-a2c26e2d4021",
   "metadata": {},
   "source": [
    "30. Create a nested set (hint: use frozenset)"
   ]
  },
  {
   "cell_type": "code",
   "execution_count": 171,
   "id": "9864abb9-c04a-443c-b5f8-1e4f2ceadc63",
   "metadata": {},
   "outputs": [
    {
     "name": "stdout",
     "output_type": "stream",
     "text": [
      "-----Create a nested set (hint: use frozenset)-----\n",
      "\n",
      "{frozenset({3, 4}), frozenset({5, 6}), frozenset({1, 2})}\n"
     ]
    }
   ],
   "source": [
    "print(\"-----Create a nested set (hint: use frozenset)-----\")\n",
    "print()\n",
    "nested_set = set([\n",
    "    frozenset([1, 2]),\n",
    "    frozenset([3, 4]),\n",
    "    frozenset([5, 6])\n",
    "])\n",
    "\n",
    "# Display the nested set\n",
    "print(nested_set)\n"
   ]
  },
  {
   "cell_type": "markdown",
   "id": "1e152de3-78a9-4db6-93a0-68d3fa1afb78",
   "metadata": {},
   "source": [
    "31. Remove an element from a set using the discard method."
   ]
  },
  {
   "cell_type": "code",
   "execution_count": 176,
   "id": "40fead8a-2dee-4f8b-8dea-fa0a9df9e07e",
   "metadata": {},
   "outputs": [
    {
     "name": "stdout",
     "output_type": "stream",
     "text": [
      "-----Remove an element from a set using the discard method.-----\n",
      "\n"
     ]
    },
    {
     "data": {
      "text/plain": [
       "{1, 3, 4, 5, 6, 7, 8, 9}"
      ]
     },
     "execution_count": 176,
     "metadata": {},
     "output_type": "execute_result"
    }
   ],
   "source": [
    "print(\"-----Remove an element from a set using the discard method.-----\")\n",
    "print()\n",
    "set1 = {1,2,3,4,5,6,7,8,9}\n",
    "set1.discard(2)\n",
    "set1"
   ]
  },
  {
   "cell_type": "markdown",
   "id": "297d3a19-c0a4-462d-8905-f8113af92802",
   "metadata": {},
   "source": [
    "32. Compare two sets.\n"
   ]
  },
  {
   "cell_type": "code",
   "execution_count": 178,
   "id": "cfbb45c0-67e6-4140-bc15-20e18266c065",
   "metadata": {},
   "outputs": [
    {
     "name": "stdout",
     "output_type": "stream",
     "text": [
      "-----Compare two sets.-----\n",
      "\n",
      "Both sets are same\n"
     ]
    }
   ],
   "source": [
    "print(\"-----Compare two sets.-----\")\n",
    "print()\n",
    "set1 = {1, 2, 3}\n",
    "set2 = {3, 2, 1}\n",
    "\n",
    "def compare_set(s1,s2):\n",
    "    if s1==s2:\n",
    "        return f\"Both sets are same\"\n",
    "    else:\n",
    "        return f\"Both sets are not same\"\n",
    "res = compare_set(set1, set2)\n",
    "print(res)"
   ]
  },
  {
   "cell_type": "markdown",
   "id": "6a9eef81-1213-4548-aee1-d17543cb1b12",
   "metadata": {},
   "source": [
    "33. Create a set from a string.\n"
   ]
  },
  {
   "cell_type": "code",
   "execution_count": 200,
   "id": "b74e3293-9894-4235-9ae7-a9c45eaa088b",
   "metadata": {},
   "outputs": [
    {
     "name": "stdout",
     "output_type": "stream",
     "text": [
      "-----Create a set from a string.-----\n",
      "\n",
      "{'n', 'd', 'a', 'i', 'I'}\n"
     ]
    }
   ],
   "source": [
    "print(\"-----Create a set from a string.-----\")\n",
    "print()\n",
    "def set_from_a_string(string):\n",
    "    new_set = set()\n",
    "    for i in string:\n",
    "        new_set.add(i)\n",
    "    return new_set\n",
    "res = set_from_a_string(\"India\")\n",
    "print(res)"
   ]
  },
  {
   "cell_type": "markdown",
   "id": "dc1124c2-911e-4673-90e1-1d8be6359921",
   "metadata": {},
   "source": [
    "34. Convert a set of strings to a set of integers."
   ]
  },
  {
   "cell_type": "code",
   "execution_count": 202,
   "id": "79f81fc0-4438-44a6-b104-35485a578f3d",
   "metadata": {},
   "outputs": [
    {
     "name": "stdout",
     "output_type": "stream",
     "text": [
      "-----Create a set from a string.-----\n",
      "\n",
      "{1, 2, 3, 4, 5}\n"
     ]
    }
   ],
   "source": [
    "print(\"-----Create a set from a string.-----\")\n",
    "print()\n",
    "set1 = {\"1\",\"2\",\"3\",\"4\",\"5\"}\n",
    "def convert_set_of_str_to_int(set1):\n",
    "    new_set = set()\n",
    "    for i in set1:\n",
    "        new_set.add(int(i))\n",
    "    return new_set\n",
    "res = convert_set_of_str_to_int(set1)\n",
    "print(res)"
   ]
  },
  {
   "cell_type": "markdown",
   "id": "d952190c-55a9-4dd4-8b3e-b1475fd31847",
   "metadata": {},
   "source": [
    "35. Convert a set of integers to a set of strings."
   ]
  },
  {
   "cell_type": "code",
   "execution_count": 204,
   "id": "8db39b8c-3d39-4e29-9848-fe3bf7f717c2",
   "metadata": {},
   "outputs": [
    {
     "name": "stdout",
     "output_type": "stream",
     "text": [
      "-----Create a set from a string.-----\n",
      "\n",
      "{'2', '3', '1', '5', '4'}\n"
     ]
    }
   ],
   "source": [
    "print(\"-----Create a set from a string.-----\")\n",
    "print()\n",
    "set1 = {1, 2, 3, 4, 5}\n",
    "def convert_set_of_int_to_str(set1):\n",
    "    new_set = set()\n",
    "    for i in set1:\n",
    "        new_set.add(str(i))\n",
    "    return new_set\n",
    "res = convert_set_of_int_to_str(set1)\n",
    "print(res)"
   ]
  },
  {
   "cell_type": "markdown",
   "id": "5928f33b-596e-4405-8285-0d651dc4e903",
   "metadata": {},
   "source": [
    "36. Create a set from a tuple.\n"
   ]
  },
  {
   "cell_type": "code",
   "execution_count": 206,
   "id": "79c6b16b-edd0-460b-b6c5-24fd0cda9032",
   "metadata": {},
   "outputs": [
    {
     "name": "stdout",
     "output_type": "stream",
     "text": [
      "-----Create a set from a tuple.-----\n",
      "\n",
      "{1, 2, 3, 4, 5, 6, 7}\n"
     ]
    }
   ],
   "source": [
    "print(\"-----Create a set from a tuple.-----\")\n",
    "print()\n",
    "t1 = (1,2,3,4,5,6,7)\n",
    "def set_from_tuple(tuple1):\n",
    "    return set(tuple1)\n",
    "res = set_from_tuple(t1)\n",
    "print(res)"
   ]
  },
  {
   "cell_type": "markdown",
   "id": "9219a23d-25d0-4539-8064-bb39f925b7e3",
   "metadata": {},
   "source": [
    "37. Convert a set to a tuple.\n"
   ]
  },
  {
   "cell_type": "code",
   "execution_count": 208,
   "id": "88bdbd5c-66a4-457c-8c63-e0981d7bd71b",
   "metadata": {},
   "outputs": [
    {
     "name": "stdout",
     "output_type": "stream",
     "text": [
      "-----Convert a set to a tuple.-----\n",
      "\n",
      "(1, 2, 3, 4, 5, 6, 7, 8)\n"
     ]
    }
   ],
   "source": [
    "print(\"-----Convert a set to a tuple.-----\")\n",
    "print()\n",
    "set1={1,2,3,4,5,6,7,8}\n",
    "def tuple_from_set(set1):\n",
    "    return tuple(set1)\n",
    "res = tuple_from_set(set1)\n",
    "print(res)"
   ]
  },
  {
   "cell_type": "markdown",
   "id": "fc901451-a5ee-431b-b3e0-c45e4bf1b6d0",
   "metadata": {},
   "source": [
    "38. Find the maximum value in a set."
   ]
  },
  {
   "cell_type": "code",
   "execution_count": 210,
   "id": "c503c62b-da57-49af-8814-113f2e85ff0e",
   "metadata": {},
   "outputs": [
    {
     "name": "stdout",
     "output_type": "stream",
     "text": [
      "-----Find the maximum value in a set.-----\n",
      "\n",
      "Max value in the given set is 8\n"
     ]
    }
   ],
   "source": [
    "print(\"-----Find the maximum value in a set.-----\")\n",
    "print()\n",
    "set1={1,2,3,4,5,6,7,8}\n",
    "def find_max_int_set(set1):\n",
    "    max_value = max(set1)\n",
    "    return f\"Max value in the given set is {max_value}\"\n",
    "res = find_max_int_set(set1)\n",
    "print(res)"
   ]
  },
  {
   "cell_type": "markdown",
   "id": "b0b2e2f0-e165-436d-815c-8fce83adff35",
   "metadata": {},
   "source": [
    "39. Find the minimum value in a set.\n"
   ]
  },
  {
   "cell_type": "code",
   "execution_count": 212,
   "id": "30038467-1ccf-4d03-beb7-7a085275f212",
   "metadata": {},
   "outputs": [
    {
     "name": "stdout",
     "output_type": "stream",
     "text": [
      "-----Find the minimum value in a set.-----\n",
      "\n",
      "Min value in the given set is 2\n"
     ]
    }
   ],
   "source": [
    "print(\"-----Find the minimum value in a set.-----\")\n",
    "print()\n",
    "set1={100,2,3,4,5,6,7,8}\n",
    "def find_min_in_set(set1):\n",
    "    min_value = min(set1)\n",
    "    return f\"Min value in the given set is {min_value}\"\n",
    "res = find_min_in_set(set1)\n",
    "print(res)"
   ]
  },
  {
   "cell_type": "markdown",
   "id": "61a1f1e4-afa2-4dfb-a16a-2d6494c69cd7",
   "metadata": {},
   "source": [
    "40. Create a set from user input."
   ]
  },
  {
   "cell_type": "code",
   "execution_count": 215,
   "id": "2fddd670-0550-4cbb-9e22-3e970d4c2ac8",
   "metadata": {},
   "outputs": [
    {
     "name": "stdout",
     "output_type": "stream",
     "text": [
      "-----Create a set from user input-----\n",
      "\n"
     ]
    },
    {
     "name": "stdin",
     "output_type": "stream",
     "text": [
      "How many number you want in your set?  5\n",
      "Enter your set element:  10\n",
      "Enter your set element:  909\n",
      "Enter your set element:  81\n",
      "Enter your set element:  782\n",
      "Enter your set element:  9292\n"
     ]
    },
    {
     "name": "stdout",
     "output_type": "stream",
     "text": [
      "Your set is : {10, 9292, 909, 782, 81}\n"
     ]
    }
   ],
   "source": [
    "print(\"-----Create a set from user input-----\")\n",
    "print()\n",
    "def create_set_from_user():\n",
    "    num = int(input(\"How many number you want in your set? \"))\n",
    "    new_set = set()\n",
    "    for i in range(num):\n",
    "        user_number = int(input(\"Enter your set element: \"))\n",
    "        new_set.add(user_number)\n",
    "    return f\"Your set is : {new_set}\"\n",
    "res = create_set_from_user()\n",
    "print(res)"
   ]
  },
  {
   "cell_type": "markdown",
   "id": "6896fbd3-e312-4cfc-a9c9-fc11cc9fe41e",
   "metadata": {},
   "source": [
    "41. Check if the intersection of two sets is empty"
   ]
  },
  {
   "cell_type": "code",
   "execution_count": 217,
   "id": "75517ee4-88fa-42e4-8c68-41fcea0decf7",
   "metadata": {},
   "outputs": [
    {
     "name": "stdout",
     "output_type": "stream",
     "text": [
      "-----Check if the intersection of two sets is empty-----\n",
      "\n",
      "Intersection of two sets are empty\n"
     ]
    }
   ],
   "source": [
    "print(\"-----Check if the intersection of two sets is empty-----\")\n",
    "print()\n",
    "set1 = {1,2,3,4,5,6}\n",
    "set2 = {7,8,9}\n",
    "def check_intersection_is_empty(s1,s2):\n",
    "    intersection_set = s1.intersection(s2)\n",
    "    if len(intersection_set)==0:\n",
    "        return f\"Intersection of two sets are empty\"\n",
    "    else:\n",
    "        return f\"Intersection of two sets are not empty\"\n",
    "\n",
    "res = check_intersection_is_empty(set1,set2)\n",
    "print(res)"
   ]
  },
  {
   "cell_type": "markdown",
   "id": "0e0e9bd0-7d0b-4eb4-9f9d-3610ebbaa1e8",
   "metadata": {},
   "source": [
    "42. Create a set of the first 5 Fibonacci numbers."
   ]
  },
  {
   "cell_type": "code",
   "execution_count": 218,
   "id": "279ec813-3b84-4cd6-9441-24f1baa2cee9",
   "metadata": {},
   "outputs": [
    {
     "name": "stdout",
     "output_type": "stream",
     "text": [
      "-----Create a set of the first 5 Fibonacci numbers.-----\n",
      "\n",
      "{0, 1, 2, 3, 5}\n"
     ]
    }
   ],
   "source": [
    "print(\"-----Create a set of the first 5 Fibonacci numbers.-----\")\n",
    "print()\n",
    "def generate_fib_number(n):\n",
    "    if n<=0:\n",
    "        return 0\n",
    "    elif n==1:\n",
    "        return 1\n",
    "    else:\n",
    "        return generate_fib_number(n-1)+generate_fib_number(n-2)\n",
    "\n",
    "\n",
    "def gen_set_of_fib_number(n):\n",
    "    new_set = set()\n",
    "    for i in range(n+1):\n",
    "        new_set.add(generate_fib_number(i))\n",
    "    return new_set\n",
    "\n",
    "res = gen_set_of_fib_number(5)\n",
    "print(res)"
   ]
  },
  {
   "cell_type": "markdown",
   "id": "0f6f9509-d853-406a-8a5a-e0e485d1dc53",
   "metadata": {},
   "source": [
    "43. Remove duplicates from a list using sets"
   ]
  },
  {
   "cell_type": "code",
   "execution_count": 220,
   "id": "cb95bc73-359b-4af5-a473-d77e0e3c1f5e",
   "metadata": {},
   "outputs": [
    {
     "name": "stdout",
     "output_type": "stream",
     "text": [
      "-----Remove duplicates from a list using sets.-----\n",
      "\n",
      "[32, 1, 33, 3, 4, 2, 11, 21, 734]\n"
     ]
    }
   ],
   "source": [
    "print(\"-----Remove duplicates from a list using sets.-----\")\n",
    "print()\n",
    "list1 = [1,1,11,21,21,32,3,3,4,734,33,2]\n",
    "def remove_duplicate(l1):\n",
    "    remove_duplicate = set(l1)\n",
    "    return list(remove_duplicate)\n",
    "res = remove_duplicate(list1)\n",
    "print(res)"
   ]
  },
  {
   "cell_type": "markdown",
   "id": "77d20d28-adf5-4137-8684-253d4d1d95e3",
   "metadata": {},
   "source": [
    "44. Check if two sets have the same elements, regardless of their count."
   ]
  },
  {
   "cell_type": "code",
   "execution_count": 1,
   "id": "2ddf1c97-6680-4190-9c92-5a3bd3484b59",
   "metadata": {},
   "outputs": [
    {
     "name": "stdout",
     "output_type": "stream",
     "text": [
      "-----Check if two sets have the same elements, regardless of their count.-----\n",
      "\n",
      "Two sets has not same element\n"
     ]
    }
   ],
   "source": [
    "print(\"-----Check if two sets have the same elements, regardless of their count.-----\")\n",
    "print()\n",
    "def check_two_sets(set1,set2):\n",
    "    if set1==set2:\n",
    "        return f\"Two sets has same element\"\n",
    "    else:\n",
    "        return f\"Two sets has not same element\"\n",
    "\n",
    "\n",
    "set1 = {1, 2, 3}\n",
    "set2 = {3, 2, 1,4}\n",
    "res = check_two_sets(set1,set2)\n",
    "print(res)"
   ]
  },
  {
   "cell_type": "markdown",
   "id": "1c6176a9-2702-43e4-9b4c-ba3e7daff3ed",
   "metadata": {},
   "source": [
    "45. Create a set of the first `n` powers of 2."
   ]
  },
  {
   "cell_type": "code",
   "execution_count": 2,
   "id": "88f36724-6f39-4751-8af4-de291b649c3f",
   "metadata": {},
   "outputs": [
    {
     "name": "stdout",
     "output_type": "stream",
     "text": [
      "-----Create a set of the first n powers of 2.-----\n",
      "\n",
      "{32, 1, 2, 4, 8, 16}\n"
     ]
    }
   ],
   "source": [
    "print(\"-----Create a set of the first n powers of 2.-----\")\n",
    "print()\n",
    "def n_powers_2(n):\n",
    "    new_set = set()\n",
    "    for i in range(n+1):\n",
    "        new_set.add(2**i)\n",
    "    return new_set\n",
    "res = n_powers_2(5)\n",
    "print(res)"
   ]
  },
  {
   "cell_type": "markdown",
   "id": "8eedaee3-bef8-405c-8046-c0a9da2eb4fe",
   "metadata": {},
   "source": [
    "46. Find the common elements between a set and a list.\n"
   ]
  },
  {
   "cell_type": "code",
   "execution_count": 3,
   "id": "756f7dae-5303-4fe0-89c9-f951e049d445",
   "metadata": {},
   "outputs": [
    {
     "name": "stdout",
     "output_type": "stream",
     "text": [
      "-----Find the common elements between a set and a list.-----\n",
      "\n",
      "{4, 5, 6, 7}\n"
     ]
    }
   ],
   "source": [
    "print(\"-----Find the common elements between a set and a list.-----\")\n",
    "print()\n",
    "set1 = {1,2,3,4,5,6,7}\n",
    "list1 = [4,5,6,7,8,9,12]\n",
    "def check_common_elem(s1,l1):\n",
    "    l1 = set(l1)\n",
    "    common_elem = s1.intersection(l1)\n",
    "    return common_elem\n",
    "res = check_common_elem(set1, list1)\n",
    "print(res)"
   ]
  },
  {
   "cell_type": "markdown",
   "id": "20a7fb1d-3b8f-4b5e-863e-e4846c2b691c",
   "metadata": {},
   "source": [
    "47. Create a set of the first `n` triangular numbers."
   ]
  },
  {
   "cell_type": "code",
   "execution_count": 4,
   "id": "6581f5f2-9526-4c0c-b40b-6fc0efe7da2a",
   "metadata": {},
   "outputs": [
    {
     "name": "stdout",
     "output_type": "stream",
     "text": [
      "-----Create a set of the first n triangular numbers..-----\n",
      "\n",
      "{1, 3, 36, 6, 10, 45, 15, 21, 55, 28}\n"
     ]
    }
   ],
   "source": [
    "print(\"-----Create a set of the first n triangular numbers..-----\")\n",
    "print()\n",
    "def set_of_triangular_num(n):\n",
    "    new_set = set()\n",
    "    for i in range(1,n+1):\n",
    "        triangular_number = (i*(i+1))//2 # // operator returns integer instead of floating number\n",
    "        new_set.add(triangular_number)\n",
    "    return new_set\n",
    "\n",
    "res = set_of_triangular_num(10)\n",
    "print(res)"
   ]
  },
  {
   "cell_type": "markdown",
   "id": "8ba9c229-d0c2-44cc-961d-70b0a98c46c5",
   "metadata": {},
   "source": [
    "48. Check if a set contains another set as a subset.\n"
   ]
  },
  {
   "cell_type": "code",
   "execution_count": 6,
   "id": "b51a4322-0f07-400f-bd1e-02f5e74a24ac",
   "metadata": {},
   "outputs": [
    {
     "name": "stdout",
     "output_type": "stream",
     "text": [
      "-----Check if a set contains another set as a subset.-----\n",
      "\n",
      "{1, 2, 3, 4, 5} is containing {2, 3} as a subset\n"
     ]
    }
   ],
   "source": [
    "print(\"-----Check if a set contains another set as a subset.-----\")\n",
    "print()\n",
    "set1 = {1, 2, 3, 4, 5}\n",
    "set2 = {2, 3}\n",
    "\n",
    "def check_is_subset(s1,s2):\n",
    "    if s2.issubset(s1):\n",
    "        return f\"{set1} is containing {s2} as a subset\"\n",
    "    else:\n",
    "        return f\"{set1} is not containing {s2} as a subset\"\n",
    "res = check_is_subset(set1,set2)\n",
    "print(res)"
   ]
  },
  {
   "cell_type": "markdown",
   "id": "cb38dd5a-400d-47ed-9c98-d51920fec5e6",
   "metadata": {},
   "source": [
    "49. Create a set of alternating 1s and 0s of length `n`."
   ]
  },
  {
   "cell_type": "code",
   "execution_count": 8,
   "id": "4c1b11ba-6cee-4a94-a391-6ed662314647",
   "metadata": {},
   "outputs": [
    {
     "name": "stdout",
     "output_type": "stream",
     "text": [
      "-----Create a set of alternating 1s and 0s of length n.-----\n",
      "\n",
      "{0, 1}\n"
     ]
    }
   ],
   "source": [
    "print(\"-----Create a set of alternating 1s and 0s of length n.-----\")\n",
    "print()\n",
    "def create_set_of_1_and_0(n):\n",
    "    new_set = set()\n",
    "    for i in range(n+1):\n",
    "        if i%2==0:\n",
    "            new_set.add(0)\n",
    "        else:\n",
    "            new_set.add(1)\n",
    "    return new_set\n",
    "\n",
    "res = create_set_of_1_and_0(10)\n",
    "print(res)"
   ]
  },
  {
   "cell_type": "markdown",
   "id": "84a2051d-c2aa-4368-8d04-fadf3ef355bf",
   "metadata": {},
   "source": [
    "50. Merge multiple sets into one.\n"
   ]
  },
  {
   "cell_type": "code",
   "execution_count": 10,
   "id": "e81f261e-f864-44ea-9222-43f3316acee8",
   "metadata": {},
   "outputs": [
    {
     "name": "stdout",
     "output_type": "stream",
     "text": [
      "-----Merge multiple sets into one.-----\n",
      "\n",
      "{32, 1, 2, 3, 4, 5, 99, 8, 12, 45, 242, 90}\n"
     ]
    }
   ],
   "source": [
    "print(\"-----Merge multiple sets into one.-----\")\n",
    "print()\n",
    "set1 = {12,3,4,5}\n",
    "set2 = {1,242,2,32}\n",
    "set3 = {8,90,99,45}\n",
    "\n",
    "# using set union method we can marge multiples sets\n",
    "new_set = set1.union(set2,set3)\n",
    "print(new_set)"
   ]
  },
  {
   "cell_type": "code",
   "execution_count": null,
   "id": "b8c2c269-391a-46ac-883b-fa9d88819c02",
   "metadata": {},
   "outputs": [],
   "source": []
  }
 ],
 "metadata": {
  "kernelspec": {
   "display_name": "Python 3 (ipykernel)",
   "language": "python",
   "name": "python3"
  },
  "language_info": {
   "codemirror_mode": {
    "name": "ipython",
    "version": 3
   },
   "file_extension": ".py",
   "mimetype": "text/x-python",
   "name": "python",
   "nbconvert_exporter": "python",
   "pygments_lexer": "ipython3",
   "version": "3.11.4"
  }
 },
 "nbformat": 4,
 "nbformat_minor": 5
}
